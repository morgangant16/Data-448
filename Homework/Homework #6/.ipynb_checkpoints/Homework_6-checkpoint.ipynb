{
 "cells": [
  {
   "cell_type": "code",
   "execution_count": 86,
   "id": "a5bd090c-1286-495b-8d14-731f7b4a890a",
   "metadata": {
    "collapsed": true,
    "jupyter": {
     "outputs_hidden": true
    },
    "tags": []
   },
   "outputs": [
    {
     "name": "stdout",
     "output_type": "stream",
     "text": [
      "Looking in indexes: https://pypi.org/simple, https://pip.repos.neuron.amazonaws.com\n",
      "Requirement already satisfied: optuna in /home/ec2-user/anaconda3/envs/python3/lib/python3.10/site-packages (3.1.0)\n",
      "Requirement already satisfied: alembic>=1.5.0 in /home/ec2-user/anaconda3/envs/python3/lib/python3.10/site-packages (from optuna) (1.10.2)\n",
      "Requirement already satisfied: tqdm in /home/ec2-user/anaconda3/envs/python3/lib/python3.10/site-packages (from optuna) (4.64.1)\n",
      "Requirement already satisfied: PyYAML in /home/ec2-user/anaconda3/envs/python3/lib/python3.10/site-packages (from optuna) (5.4.1)\n",
      "Requirement already satisfied: cmaes>=0.9.1 in /home/ec2-user/anaconda3/envs/python3/lib/python3.10/site-packages (from optuna) (0.9.1)\n",
      "Requirement already satisfied: colorlog in /home/ec2-user/anaconda3/envs/python3/lib/python3.10/site-packages (from optuna) (6.7.0)\n",
      "Requirement already satisfied: packaging>=20.0 in /home/ec2-user/anaconda3/envs/python3/lib/python3.10/site-packages (from optuna) (21.3)\n",
      "Requirement already satisfied: sqlalchemy>=1.3.0 in /home/ec2-user/anaconda3/envs/python3/lib/python3.10/site-packages (from optuna) (1.4.46)\n",
      "Requirement already satisfied: numpy in /home/ec2-user/anaconda3/envs/python3/lib/python3.10/site-packages (from optuna) (1.22.3)\n",
      "Requirement already satisfied: typing-extensions>=4 in /home/ec2-user/anaconda3/envs/python3/lib/python3.10/site-packages (from alembic>=1.5.0->optuna) (4.4.0)\n",
      "Requirement already satisfied: Mako in /home/ec2-user/anaconda3/envs/python3/lib/python3.10/site-packages (from alembic>=1.5.0->optuna) (1.2.4)\n",
      "Requirement already satisfied: pyparsing!=3.0.5,>=2.0.2 in /home/ec2-user/anaconda3/envs/python3/lib/python3.10/site-packages (from packaging>=20.0->optuna) (3.0.9)\n",
      "Requirement already satisfied: greenlet!=0.4.17 in /home/ec2-user/anaconda3/envs/python3/lib/python3.10/site-packages (from sqlalchemy>=1.3.0->optuna) (2.0.1)\n",
      "Requirement already satisfied: MarkupSafe>=0.9.2 in /home/ec2-user/anaconda3/envs/python3/lib/python3.10/site-packages (from Mako->alembic>=1.5.0->optuna) (2.1.1)\n",
      "Note: you may need to restart the kernel to use updated packages.\n"
     ]
    }
   ],
   "source": [
    "pip install optuna"
   ]
  },
  {
   "cell_type": "code",
   "execution_count": 87,
   "id": "163c9aed-3da4-413c-8421-f8ced431a98c",
   "metadata": {
    "collapsed": true,
    "jupyter": {
     "outputs_hidden": true
    },
    "tags": []
   },
   "outputs": [
    {
     "name": "stdout",
     "output_type": "stream",
     "text": [
      "Looking in indexes: https://pypi.org/simple, https://pip.repos.neuron.amazonaws.com\n",
      "Requirement already satisfied: xgboost in /home/ec2-user/anaconda3/envs/python3/lib/python3.10/site-packages (1.7.4)\n",
      "Requirement already satisfied: numpy in /home/ec2-user/anaconda3/envs/python3/lib/python3.10/site-packages (from xgboost) (1.22.3)\n",
      "Requirement already satisfied: scipy in /home/ec2-user/anaconda3/envs/python3/lib/python3.10/site-packages (from xgboost) (1.10.0)\n",
      "Note: you may need to restart the kernel to use updated packages.\n"
     ]
    }
   ],
   "source": [
    "pip install xgboost"
   ]
  },
  {
   "cell_type": "code",
   "execution_count": 88,
   "id": "eb88bf2f-e959-4417-984b-39f39e715cec",
   "metadata": {
    "tags": []
   },
   "outputs": [],
   "source": [
    "import boto3\n",
    "import pandas as pd\n",
    "import numpy as np\n",
    "import matplotlib.pyplot as plt\n",
    "import optuna\n",
    "\n",
    "from xgboost import XGBClassifier\n",
    "from sklearn.preprocessing import MinMaxScaler\n",
    "from sklearn.model_selection import train_test_split, GridSearchCV, RandomizedSearchCV, StratifiedKFold\n",
    "from sklearn.metrics import classification_report, confusion_matrix, make_scorer\n",
    "from sklearn.tree import DecisionTreeClassifier\n",
    "from sklearn.ensemble import RandomForestClassifier, AdaBoostClassifier, GradientBoostingClassifier\n",
    "from sklearn.linear_model import LogisticRegression\n",
    "from sklearn.feature_selection import RFE, RFECV\n",
    "from sklearn.svm import SVR\n",
    "\n",
    "from cost_function import cost_function, cost_function_cutoff\n",
    "\n",
    "\n",
    "\n",
    "s3= boto3.resource('s3')\n",
    "bucket_name= 'morgan-gant-data448-bucket'\n",
    "bucket= s3.Bucket(bucket_name)\n",
    "\n",
    "file_key= 'train.csv'\n",
    "file_key2= 'test.csv'\n",
    "\n",
    "bucket_object= bucket.Object(file_key)\n",
    "file_object = bucket_object.get()\n",
    "file_content_stream = file_object.get('Body')\n",
    "bucket_object2= bucket.Object(file_key2)\n",
    "file_object2 = bucket_object2.get()\n",
    "file_content_stream2 = file_object2.get('Body')\n",
    "\n",
    "#reading the datefile\n",
    "train = pd.read_csv(file_content_stream)\n",
    "test = pd.read_csv(file_content_stream2)"
   ]
  },
  {
   "cell_type": "code",
   "execution_count": null,
   "id": "a6f8db9a-0728-4c3b-8416-68f7cc20b787",
   "metadata": {},
   "outputs": [],
   "source": [
    "#Top 7 variables from HW #5\n",
    "#1- trustLevel                       \n",
    "#2- interaction_3  \n",
    "#3- interaction_1                     \n",
    "#4- NL_totalScanTimeInSeconds \n",
    "#5- 1_scannedLineItemsPerSecond      \n",
    "#6- scannedLineItemsPerSecond        \n",
    "#7- cubed_lineItemVoidsPerPosition    "
   ]
  },
  {
   "cell_type": "code",
   "execution_count": 89,
   "id": "f329e61b-a4fa-46b8-8100-5e7f1e4c0943",
   "metadata": {
    "tags": []
   },
   "outputs": [],
   "source": [
    "##Engineering variables\n",
    "#Natural Log\n",
    "train['NL_totalScanTimeInSeconds']= np.log(train['totalScanTimeInSeconds'])\n",
    "\n",
    "test['NL_totalScanTimeInSeconds']= np.log(test['totalScanTimeInSeconds'])"
   ]
  },
  {
   "cell_type": "code",
   "execution_count": 90,
   "id": "5becb3dd-be3a-46e9-8e01-3e2043660838",
   "metadata": {
    "tags": []
   },
   "outputs": [],
   "source": [
    "##Engineering variables\n",
    "#x^3\n",
    "train['cubed_lineItemVoidsPerPosition']= np.power(train['lineItemVoidsPerPosition'], 3)\n",
    "\n",
    "test['cubed_lineItemVoidsPerPosition']= np.power(test['lineItemVoidsPerPosition'], 3)"
   ]
  },
  {
   "cell_type": "code",
   "execution_count": 91,
   "id": "24265166-9de9-4a5c-9217-2734fa0bc113",
   "metadata": {
    "tags": []
   },
   "outputs": [],
   "source": [
    "##Engineering variables\n",
    "#1/x\n",
    "train['1_scannedLineItemsPerSecond']= 1/(train['scannedLineItemsPerSecond'])\n",
    "\n",
    "test['1_scannedLineItemsPerSecond']= 1/(test['scannedLineItemsPerSecond'])"
   ]
  },
  {
   "cell_type": "code",
   "execution_count": 92,
   "id": "2bba3dcc-3bd6-406a-8ae8-ccc8fc0d5761",
   "metadata": {
    "tags": []
   },
   "outputs": [],
   "source": [
    "#Engineering interactions based on feature importance\n",
    "train['interaction_1']= train['trustLevel'] * train['totalScanTimeInSeconds']\n",
    "train['interaction_2']= train['trustLevel'] * train['lineItemsVoids']\n",
    "train['interaction_3']= train['totalScanTimeInSeconds'] * train['lineItemsVoids']\n",
    "\n",
    "\n",
    "test['interaction_1']= test['trustLevel'] * test['totalScanTimeInSeconds']\n",
    "test['interaction_2']= test['trustLevel'] * test['lineItemVoids']\n",
    "test['interaction_3']= test['totalScanTimeInSeconds'] * test['lineItemVoids']"
   ]
  },
  {
   "cell_type": "code",
   "execution_count": 93,
   "id": "863b5033-6da7-4fa1-8409-97ef8927abbb",
   "metadata": {
    "tags": []
   },
   "outputs": [],
   "source": [
    "#Defining input and target variables\n",
    "x_train= train[['trustLevel', 'interaction_3', 'interaction_1', 'NL_totalScanTimeInSeconds', '1_scannedLineItemsPerSecond', 'scannedLineItemsPerSecond', 'cubed_lineItemVoidsPerPosition']] \n",
    "y_train= train['fraud']"
   ]
  },
  {
   "cell_type": "markdown",
   "id": "725fadd0-f8bb-4563-829a-67fdd8c0202b",
   "metadata": {},
   "source": [
    "xbg GridSearch"
   ]
  },
  {
   "cell_type": "markdown",
   "id": "2ca7e52d-a080-4cb1-b06e-0734a2f259d1",
   "metadata": {},
   "source": [
    "5 variables- BEST XGB"
   ]
  },
  {
   "cell_type": "code",
   "execution_count": 99,
   "id": "b77f7d2d-a993-4e1f-846a-e26031fc9a6d",
   "metadata": {
    "tags": []
   },
   "outputs": [
    {
     "name": "stdout",
     "output_type": "stream",
     "text": [
      "Best hyper-parameter combo {'colsample_bytree': 1, 'gamma': 0.3, 'learning_rate': 0.01, 'max_depth': 5, 'min_child_weight': 5, 'n_estimators': 500, 'subsample': 0.8}\n",
      "Best score: -1.6666666666666667\n"
     ]
    }
   ],
   "source": [
    "xgb_param_grid = {'n_estimators': [500],\n",
    "'max_depth': [3, 5, 7],\n",
    "'min_child_weight': [5, 7],\n",
    "'learning_rate': [0.01],\n",
    "'gamma': [0.3, 0.1],\n",
    "'subsample': [0.8, 1],\n",
    "'colsample_bytree': [1]}\n",
    "\n",
    "#defining customized scoring function\n",
    "my_score_function= make_scorer(cost_function, greater_is_better= True, needs_proba= True)\n",
    "\n",
    "#runnning gridsearchCV\n",
    "xgb_grid_search_1= GridSearchCV(estimator= XGBClassifier(), param_grid= xgb_param_grid, cv= 3, scoring= my_score_function, n_jobs=-1).fit(x_train.drop(columns=['scannedLineItemsPerSecond', 'cubed_lineItemVoidsPerPosition']), y_train)\n",
    "    \n",
    "#Extracting best hyperparamter combo\n",
    "xgb_md_1= xgb_grid_search_1.best_params_\n",
    "xgb_score_1= xgb_grid_search_1.best_score_\n",
    "\n",
    "print('Best hyper-parameter combo', xgb_md_1)\n",
    "print('Best score:', xgb_score_1)\n"
   ]
  },
  {
   "cell_type": "markdown",
   "id": "b9578271-9081-483f-b6bc-fd7e5ce3a727",
   "metadata": {},
   "source": [
    "6 variables"
   ]
  },
  {
   "cell_type": "code",
   "execution_count": 100,
   "id": "7e365e65-6b19-4204-aa77-4b2234889df6",
   "metadata": {
    "tags": []
   },
   "outputs": [
    {
     "name": "stdout",
     "output_type": "stream",
     "text": [
      "Best hyper-parameter combo {'colsample_bytree': 1, 'gamma': 0.3, 'learning_rate': 0.01, 'max_depth': 5, 'min_child_weight': 5, 'n_estimators': 500, 'subsample': 0.8}\n",
      "Best score: -1.6666666666666667\n"
     ]
    }
   ],
   "source": [
    "xgb_param_grid = {'n_estimators': [500],\n",
    "'max_depth': [3, 5, 7],\n",
    "'min_child_weight': [5, 7],\n",
    "'learning_rate': [0.01],\n",
    "'gamma': [0.3, 0.1],\n",
    "'subsample': [0.8, 1],\n",
    "'colsample_bytree': [1]}\n",
    "\n",
    "#defining customized scoring function\n",
    "my_score_function= make_scorer(cost_function, greater_is_better= True, needs_proba= True)\n",
    "\n",
    "#runnning gridsearchCV\n",
    "xgb_grid_search_2= GridSearchCV(estimator= XGBClassifier(), param_grid= xgb_param_grid, cv= 3, scoring= my_score_function, n_jobs=-1).fit(x_train.drop(columns=['cubed_lineItemVoidsPerPosition']), y_train)\n",
    "    \n",
    "#Extracting best hyperparamter combo\n",
    "xgb_md_2= xgb_grid_search_2.best_params_\n",
    "xgb_score_2= xgb_grid_search_2.best_score_\n",
    "\n",
    "print('Best hyper-parameter combo', xgb_md_2)\n",
    "print('Best score:', xgb_score_2)"
   ]
  },
  {
   "cell_type": "markdown",
   "id": "e5aafcd0-494d-4868-8d26-296f32467ed2",
   "metadata": {},
   "source": [
    "7 variables"
   ]
  },
  {
   "cell_type": "code",
   "execution_count": 101,
   "id": "a904fd3b-7693-42db-88e1-01b33b649142",
   "metadata": {
    "tags": []
   },
   "outputs": [
    {
     "name": "stdout",
     "output_type": "stream",
     "text": [
      "Best hyper-parameter combo {'colsample_bytree': 1, 'gamma': 0.3, 'learning_rate': 0.01, 'max_depth': 7, 'min_child_weight': 5, 'n_estimators': 500, 'subsample': 1}\n",
      "Best score: -25.0\n"
     ]
    }
   ],
   "source": [
    "xgb_param_grid = {'n_estimators': [500],\n",
    "'max_depth': [3, 5, 7],\n",
    "'min_child_weight': [5, 7],\n",
    "'learning_rate': [0.01],\n",
    "'gamma': [0.3, 0.1],\n",
    "'subsample': [0.8, 1],\n",
    "'colsample_bytree': [1]}\n",
    "\n",
    "#defining customized scoring function\n",
    "my_score_function= make_scorer(cost_function, greater_is_better= True, needs_proba= True)\n",
    "\n",
    "#runnning gridsearchCV\n",
    "xgb_grid_search_3= GridSearchCV(estimator= XGBClassifier(), param_grid= xgb_param_grid, cv= 3, scoring= my_score_function, n_jobs=-1).fit(x_train, y_train)\n",
    "    \n",
    "#Extracting best hyperparamter combo\n",
    "xgb_md_3= xgb_grid_search_3.best_params_\n",
    "xgb_score_3= xgb_grid_search_3.best_score_\n",
    "\n",
    "print('Best hyper-parameter combo', xgb_md_3)\n",
    "print('Best score:', xgb_score_3)"
   ]
  },
  {
   "cell_type": "markdown",
   "id": "ceda0e71-c6a3-4a0f-b308-fda1faff77ba",
   "metadata": {},
   "source": [
    "AdaBoost RandomizedSearch"
   ]
  },
  {
   "cell_type": "code",
   "execution_count": null,
   "id": "52658f34-7e1e-4af1-88b0-cf850d30719a",
   "metadata": {},
   "outputs": [],
   "source": [
    "5 variables- BEST ADA"
   ]
  },
  {
   "cell_type": "code",
   "execution_count": 104,
   "id": "a3c3826c-09fc-436f-b6aa-6804d26fc874",
   "metadata": {
    "collapsed": true,
    "jupyter": {
     "outputs_hidden": true
    },
    "tags": []
   },
   "outputs": [
    {
     "name": "stderr",
     "output_type": "stream",
     "text": [
      "/home/ec2-user/anaconda3/envs/python3/lib/python3.10/site-packages/sklearn/model_selection/_search.py:306: UserWarning: The total space of parameters 24 is smaller than n_iter=30. Running 24 iterations. For exhaustive searches, use GridSearchCV.\n",
      "  warnings.warn(\n",
      "/home/ec2-user/anaconda3/envs/python3/lib/python3.10/site-packages/sklearn/ensemble/_base.py:166: FutureWarning: `base_estimator` was renamed to `estimator` in version 1.2 and will be removed in 1.4.\n",
      "  warnings.warn(\n",
      "/home/ec2-user/anaconda3/envs/python3/lib/python3.10/site-packages/sklearn/ensemble/_base.py:166: FutureWarning: `base_estimator` was renamed to `estimator` in version 1.2 and will be removed in 1.4.\n",
      "  warnings.warn(\n",
      "/home/ec2-user/anaconda3/envs/python3/lib/python3.10/site-packages/sklearn/ensemble/_base.py:166: FutureWarning: `base_estimator` was renamed to `estimator` in version 1.2 and will be removed in 1.4.\n",
      "  warnings.warn(\n",
      "/home/ec2-user/anaconda3/envs/python3/lib/python3.10/site-packages/sklearn/ensemble/_base.py:166: FutureWarning: `base_estimator` was renamed to `estimator` in version 1.2 and will be removed in 1.4.\n",
      "  warnings.warn(\n",
      "/home/ec2-user/anaconda3/envs/python3/lib/python3.10/site-packages/sklearn/ensemble/_base.py:166: FutureWarning: `base_estimator` was renamed to `estimator` in version 1.2 and will be removed in 1.4.\n",
      "  warnings.warn(\n",
      "/home/ec2-user/anaconda3/envs/python3/lib/python3.10/site-packages/sklearn/ensemble/_base.py:166: FutureWarning: `base_estimator` was renamed to `estimator` in version 1.2 and will be removed in 1.4.\n",
      "  warnings.warn(\n",
      "/home/ec2-user/anaconda3/envs/python3/lib/python3.10/site-packages/sklearn/ensemble/_base.py:166: FutureWarning: `base_estimator` was renamed to `estimator` in version 1.2 and will be removed in 1.4.\n",
      "  warnings.warn(\n",
      "/home/ec2-user/anaconda3/envs/python3/lib/python3.10/site-packages/sklearn/ensemble/_base.py:166: FutureWarning: `base_estimator` was renamed to `estimator` in version 1.2 and will be removed in 1.4.\n",
      "  warnings.warn(\n",
      "/home/ec2-user/anaconda3/envs/python3/lib/python3.10/site-packages/sklearn/ensemble/_base.py:166: FutureWarning: `base_estimator` was renamed to `estimator` in version 1.2 and will be removed in 1.4.\n",
      "  warnings.warn(\n",
      "/home/ec2-user/anaconda3/envs/python3/lib/python3.10/site-packages/sklearn/ensemble/_base.py:166: FutureWarning: `base_estimator` was renamed to `estimator` in version 1.2 and will be removed in 1.4.\n",
      "  warnings.warn(\n",
      "/home/ec2-user/anaconda3/envs/python3/lib/python3.10/site-packages/sklearn/ensemble/_base.py:166: FutureWarning: `base_estimator` was renamed to `estimator` in version 1.2 and will be removed in 1.4.\n",
      "  warnings.warn(\n",
      "/home/ec2-user/anaconda3/envs/python3/lib/python3.10/site-packages/sklearn/ensemble/_base.py:166: FutureWarning: `base_estimator` was renamed to `estimator` in version 1.2 and will be removed in 1.4.\n",
      "  warnings.warn(\n",
      "/home/ec2-user/anaconda3/envs/python3/lib/python3.10/site-packages/sklearn/ensemble/_base.py:166: FutureWarning: `base_estimator` was renamed to `estimator` in version 1.2 and will be removed in 1.4.\n",
      "  warnings.warn(\n",
      "/home/ec2-user/anaconda3/envs/python3/lib/python3.10/site-packages/sklearn/ensemble/_base.py:166: FutureWarning: `base_estimator` was renamed to `estimator` in version 1.2 and will be removed in 1.4.\n",
      "  warnings.warn(\n",
      "/home/ec2-user/anaconda3/envs/python3/lib/python3.10/site-packages/sklearn/ensemble/_base.py:166: FutureWarning: `base_estimator` was renamed to `estimator` in version 1.2 and will be removed in 1.4.\n",
      "  warnings.warn(\n",
      "/home/ec2-user/anaconda3/envs/python3/lib/python3.10/site-packages/sklearn/ensemble/_base.py:166: FutureWarning: `base_estimator` was renamed to `estimator` in version 1.2 and will be removed in 1.4.\n",
      "  warnings.warn(\n",
      "/home/ec2-user/anaconda3/envs/python3/lib/python3.10/site-packages/sklearn/ensemble/_base.py:166: FutureWarning: `base_estimator` was renamed to `estimator` in version 1.2 and will be removed in 1.4.\n",
      "  warnings.warn(\n",
      "/home/ec2-user/anaconda3/envs/python3/lib/python3.10/site-packages/sklearn/ensemble/_base.py:166: FutureWarning: `base_estimator` was renamed to `estimator` in version 1.2 and will be removed in 1.4.\n",
      "  warnings.warn(\n",
      "/home/ec2-user/anaconda3/envs/python3/lib/python3.10/site-packages/sklearn/ensemble/_base.py:166: FutureWarning: `base_estimator` was renamed to `estimator` in version 1.2 and will be removed in 1.4.\n",
      "  warnings.warn(\n",
      "/home/ec2-user/anaconda3/envs/python3/lib/python3.10/site-packages/sklearn/ensemble/_base.py:166: FutureWarning: `base_estimator` was renamed to `estimator` in version 1.2 and will be removed in 1.4.\n",
      "  warnings.warn(\n",
      "/home/ec2-user/anaconda3/envs/python3/lib/python3.10/site-packages/sklearn/ensemble/_base.py:166: FutureWarning: `base_estimator` was renamed to `estimator` in version 1.2 and will be removed in 1.4.\n",
      "  warnings.warn(\n",
      "/home/ec2-user/anaconda3/envs/python3/lib/python3.10/site-packages/sklearn/ensemble/_base.py:166: FutureWarning: `base_estimator` was renamed to `estimator` in version 1.2 and will be removed in 1.4.\n",
      "  warnings.warn(\n",
      "/home/ec2-user/anaconda3/envs/python3/lib/python3.10/site-packages/sklearn/ensemble/_base.py:166: FutureWarning: `base_estimator` was renamed to `estimator` in version 1.2 and will be removed in 1.4.\n",
      "  warnings.warn(\n",
      "/home/ec2-user/anaconda3/envs/python3/lib/python3.10/site-packages/sklearn/ensemble/_base.py:166: FutureWarning: `base_estimator` was renamed to `estimator` in version 1.2 and will be removed in 1.4.\n",
      "  warnings.warn(\n",
      "/home/ec2-user/anaconda3/envs/python3/lib/python3.10/site-packages/sklearn/ensemble/_base.py:166: FutureWarning: `base_estimator` was renamed to `estimator` in version 1.2 and will be removed in 1.4.\n",
      "  warnings.warn(\n",
      "/home/ec2-user/anaconda3/envs/python3/lib/python3.10/site-packages/sklearn/ensemble/_base.py:166: FutureWarning: `base_estimator` was renamed to `estimator` in version 1.2 and will be removed in 1.4.\n",
      "  warnings.warn(\n",
      "/home/ec2-user/anaconda3/envs/python3/lib/python3.10/site-packages/sklearn/ensemble/_base.py:166: FutureWarning: `base_estimator` was renamed to `estimator` in version 1.2 and will be removed in 1.4.\n",
      "  warnings.warn(\n",
      "/home/ec2-user/anaconda3/envs/python3/lib/python3.10/site-packages/sklearn/ensemble/_base.py:166: FutureWarning: `base_estimator` was renamed to `estimator` in version 1.2 and will be removed in 1.4.\n",
      "  warnings.warn(\n",
      "/home/ec2-user/anaconda3/envs/python3/lib/python3.10/site-packages/sklearn/ensemble/_base.py:166: FutureWarning: `base_estimator` was renamed to `estimator` in version 1.2 and will be removed in 1.4.\n",
      "  warnings.warn(\n",
      "/home/ec2-user/anaconda3/envs/python3/lib/python3.10/site-packages/sklearn/ensemble/_base.py:166: FutureWarning: `base_estimator` was renamed to `estimator` in version 1.2 and will be removed in 1.4.\n",
      "  warnings.warn(\n",
      "/home/ec2-user/anaconda3/envs/python3/lib/python3.10/site-packages/sklearn/ensemble/_base.py:166: FutureWarning: `base_estimator` was renamed to `estimator` in version 1.2 and will be removed in 1.4.\n",
      "  warnings.warn(\n",
      "/home/ec2-user/anaconda3/envs/python3/lib/python3.10/site-packages/sklearn/ensemble/_base.py:166: FutureWarning: `base_estimator` was renamed to `estimator` in version 1.2 and will be removed in 1.4.\n",
      "  warnings.warn(\n",
      "/home/ec2-user/anaconda3/envs/python3/lib/python3.10/site-packages/sklearn/ensemble/_base.py:166: FutureWarning: `base_estimator` was renamed to `estimator` in version 1.2 and will be removed in 1.4.\n",
      "  warnings.warn(\n",
      "/home/ec2-user/anaconda3/envs/python3/lib/python3.10/site-packages/sklearn/ensemble/_base.py:166: FutureWarning: `base_estimator` was renamed to `estimator` in version 1.2 and will be removed in 1.4.\n",
      "  warnings.warn(\n",
      "/home/ec2-user/anaconda3/envs/python3/lib/python3.10/site-packages/sklearn/ensemble/_base.py:166: FutureWarning: `base_estimator` was renamed to `estimator` in version 1.2 and will be removed in 1.4.\n",
      "  warnings.warn(\n",
      "/home/ec2-user/anaconda3/envs/python3/lib/python3.10/site-packages/sklearn/ensemble/_base.py:166: FutureWarning: `base_estimator` was renamed to `estimator` in version 1.2 and will be removed in 1.4.\n",
      "  warnings.warn(\n",
      "/home/ec2-user/anaconda3/envs/python3/lib/python3.10/site-packages/sklearn/ensemble/_base.py:166: FutureWarning: `base_estimator` was renamed to `estimator` in version 1.2 and will be removed in 1.4.\n",
      "  warnings.warn(\n",
      "/home/ec2-user/anaconda3/envs/python3/lib/python3.10/site-packages/sklearn/ensemble/_base.py:166: FutureWarning: `base_estimator` was renamed to `estimator` in version 1.2 and will be removed in 1.4.\n",
      "  warnings.warn(\n",
      "/home/ec2-user/anaconda3/envs/python3/lib/python3.10/site-packages/sklearn/ensemble/_base.py:166: FutureWarning: `base_estimator` was renamed to `estimator` in version 1.2 and will be removed in 1.4.\n",
      "  warnings.warn(\n",
      "/home/ec2-user/anaconda3/envs/python3/lib/python3.10/site-packages/sklearn/ensemble/_base.py:166: FutureWarning: `base_estimator` was renamed to `estimator` in version 1.2 and will be removed in 1.4.\n",
      "  warnings.warn(\n",
      "/home/ec2-user/anaconda3/envs/python3/lib/python3.10/site-packages/sklearn/ensemble/_base.py:166: FutureWarning: `base_estimator` was renamed to `estimator` in version 1.2 and will be removed in 1.4.\n",
      "  warnings.warn(\n",
      "/home/ec2-user/anaconda3/envs/python3/lib/python3.10/site-packages/sklearn/ensemble/_base.py:166: FutureWarning: `base_estimator` was renamed to `estimator` in version 1.2 and will be removed in 1.4.\n",
      "  warnings.warn(\n",
      "/home/ec2-user/anaconda3/envs/python3/lib/python3.10/site-packages/sklearn/ensemble/_base.py:166: FutureWarning: `base_estimator` was renamed to `estimator` in version 1.2 and will be removed in 1.4.\n",
      "  warnings.warn(\n",
      "/home/ec2-user/anaconda3/envs/python3/lib/python3.10/site-packages/sklearn/ensemble/_base.py:166: FutureWarning: `base_estimator` was renamed to `estimator` in version 1.2 and will be removed in 1.4.\n",
      "  warnings.warn(\n",
      "/home/ec2-user/anaconda3/envs/python3/lib/python3.10/site-packages/sklearn/ensemble/_base.py:166: FutureWarning: `base_estimator` was renamed to `estimator` in version 1.2 and will be removed in 1.4.\n",
      "  warnings.warn(\n",
      "/home/ec2-user/anaconda3/envs/python3/lib/python3.10/site-packages/sklearn/ensemble/_base.py:166: FutureWarning: `base_estimator` was renamed to `estimator` in version 1.2 and will be removed in 1.4.\n",
      "  warnings.warn(\n",
      "/home/ec2-user/anaconda3/envs/python3/lib/python3.10/site-packages/sklearn/ensemble/_base.py:166: FutureWarning: `base_estimator` was renamed to `estimator` in version 1.2 and will be removed in 1.4.\n",
      "  warnings.warn(\n",
      "/home/ec2-user/anaconda3/envs/python3/lib/python3.10/site-packages/sklearn/ensemble/_base.py:166: FutureWarning: `base_estimator` was renamed to `estimator` in version 1.2 and will be removed in 1.4.\n",
      "  warnings.warn(\n",
      "/home/ec2-user/anaconda3/envs/python3/lib/python3.10/site-packages/sklearn/ensemble/_base.py:166: FutureWarning: `base_estimator` was renamed to `estimator` in version 1.2 and will be removed in 1.4.\n",
      "  warnings.warn(\n",
      "/home/ec2-user/anaconda3/envs/python3/lib/python3.10/site-packages/sklearn/ensemble/_base.py:166: FutureWarning: `base_estimator` was renamed to `estimator` in version 1.2 and will be removed in 1.4.\n",
      "  warnings.warn(\n",
      "/home/ec2-user/anaconda3/envs/python3/lib/python3.10/site-packages/sklearn/ensemble/_base.py:166: FutureWarning: `base_estimator` was renamed to `estimator` in version 1.2 and will be removed in 1.4.\n",
      "  warnings.warn(\n",
      "/home/ec2-user/anaconda3/envs/python3/lib/python3.10/site-packages/sklearn/ensemble/_base.py:166: FutureWarning: `base_estimator` was renamed to `estimator` in version 1.2 and will be removed in 1.4.\n",
      "  warnings.warn(\n",
      "/home/ec2-user/anaconda3/envs/python3/lib/python3.10/site-packages/sklearn/ensemble/_base.py:166: FutureWarning: `base_estimator` was renamed to `estimator` in version 1.2 and will be removed in 1.4.\n",
      "  warnings.warn(\n",
      "/home/ec2-user/anaconda3/envs/python3/lib/python3.10/site-packages/sklearn/ensemble/_base.py:166: FutureWarning: `base_estimator` was renamed to `estimator` in version 1.2 and will be removed in 1.4.\n",
      "  warnings.warn(\n",
      "/home/ec2-user/anaconda3/envs/python3/lib/python3.10/site-packages/sklearn/ensemble/_base.py:166: FutureWarning: `base_estimator` was renamed to `estimator` in version 1.2 and will be removed in 1.4.\n",
      "  warnings.warn(\n",
      "/home/ec2-user/anaconda3/envs/python3/lib/python3.10/site-packages/sklearn/ensemble/_base.py:166: FutureWarning: `base_estimator` was renamed to `estimator` in version 1.2 and will be removed in 1.4.\n",
      "  warnings.warn(\n",
      "/home/ec2-user/anaconda3/envs/python3/lib/python3.10/site-packages/sklearn/ensemble/_base.py:166: FutureWarning: `base_estimator` was renamed to `estimator` in version 1.2 and will be removed in 1.4.\n",
      "  warnings.warn(\n",
      "/home/ec2-user/anaconda3/envs/python3/lib/python3.10/site-packages/sklearn/ensemble/_base.py:166: FutureWarning: `base_estimator` was renamed to `estimator` in version 1.2 and will be removed in 1.4.\n",
      "  warnings.warn(\n",
      "/home/ec2-user/anaconda3/envs/python3/lib/python3.10/site-packages/sklearn/ensemble/_base.py:166: FutureWarning: `base_estimator` was renamed to `estimator` in version 1.2 and will be removed in 1.4.\n",
      "  warnings.warn(\n",
      "/home/ec2-user/anaconda3/envs/python3/lib/python3.10/site-packages/sklearn/ensemble/_base.py:166: FutureWarning: `base_estimator` was renamed to `estimator` in version 1.2 and will be removed in 1.4.\n",
      "  warnings.warn(\n",
      "/home/ec2-user/anaconda3/envs/python3/lib/python3.10/site-packages/sklearn/ensemble/_base.py:166: FutureWarning: `base_estimator` was renamed to `estimator` in version 1.2 and will be removed in 1.4.\n",
      "  warnings.warn(\n",
      "/home/ec2-user/anaconda3/envs/python3/lib/python3.10/site-packages/sklearn/ensemble/_base.py:166: FutureWarning: `base_estimator` was renamed to `estimator` in version 1.2 and will be removed in 1.4.\n",
      "  warnings.warn(\n",
      "/home/ec2-user/anaconda3/envs/python3/lib/python3.10/site-packages/sklearn/ensemble/_base.py:166: FutureWarning: `base_estimator` was renamed to `estimator` in version 1.2 and will be removed in 1.4.\n",
      "  warnings.warn(\n",
      "/home/ec2-user/anaconda3/envs/python3/lib/python3.10/site-packages/sklearn/ensemble/_base.py:166: FutureWarning: `base_estimator` was renamed to `estimator` in version 1.2 and will be removed in 1.4.\n",
      "  warnings.warn(\n",
      "/home/ec2-user/anaconda3/envs/python3/lib/python3.10/site-packages/sklearn/ensemble/_base.py:166: FutureWarning: `base_estimator` was renamed to `estimator` in version 1.2 and will be removed in 1.4.\n",
      "  warnings.warn(\n",
      "/home/ec2-user/anaconda3/envs/python3/lib/python3.10/site-packages/sklearn/ensemble/_base.py:166: FutureWarning: `base_estimator` was renamed to `estimator` in version 1.2 and will be removed in 1.4.\n",
      "  warnings.warn(\n",
      "/home/ec2-user/anaconda3/envs/python3/lib/python3.10/site-packages/sklearn/ensemble/_base.py:166: FutureWarning: `base_estimator` was renamed to `estimator` in version 1.2 and will be removed in 1.4.\n",
      "  warnings.warn(\n",
      "/home/ec2-user/anaconda3/envs/python3/lib/python3.10/site-packages/sklearn/ensemble/_base.py:166: FutureWarning: `base_estimator` was renamed to `estimator` in version 1.2 and will be removed in 1.4.\n",
      "  warnings.warn(\n",
      "/home/ec2-user/anaconda3/envs/python3/lib/python3.10/site-packages/sklearn/ensemble/_base.py:166: FutureWarning: `base_estimator` was renamed to `estimator` in version 1.2 and will be removed in 1.4.\n",
      "  warnings.warn(\n",
      "/home/ec2-user/anaconda3/envs/python3/lib/python3.10/site-packages/sklearn/ensemble/_base.py:166: FutureWarning: `base_estimator` was renamed to `estimator` in version 1.2 and will be removed in 1.4.\n",
      "  warnings.warn(\n",
      "/home/ec2-user/anaconda3/envs/python3/lib/python3.10/site-packages/sklearn/ensemble/_base.py:166: FutureWarning: `base_estimator` was renamed to `estimator` in version 1.2 and will be removed in 1.4.\n",
      "  warnings.warn(\n",
      "/home/ec2-user/anaconda3/envs/python3/lib/python3.10/site-packages/sklearn/ensemble/_base.py:166: FutureWarning: `base_estimator` was renamed to `estimator` in version 1.2 and will be removed in 1.4.\n",
      "  warnings.warn(\n",
      "/home/ec2-user/anaconda3/envs/python3/lib/python3.10/site-packages/sklearn/ensemble/_base.py:166: FutureWarning: `base_estimator` was renamed to `estimator` in version 1.2 and will be removed in 1.4.\n",
      "  warnings.warn(\n"
     ]
    },
    {
     "name": "stdout",
     "output_type": "stream",
     "text": [
      "Best hyper-parameter combo {'n_estimators': 300, 'learning_rate': 0.01, 'base_estimator__min_samples_split': 15, 'base_estimator__min_samples_leaf': 7, 'base_estimator__max_depth': 7}\n",
      "Best score: 5.0\n"
     ]
    }
   ],
   "source": [
    "ada_param_grid = {'n_estimators': [100, 300],\n",
    "'base_estimator__min_samples_split': [10, 15],\n",
    "'base_estimator__min_samples_leaf': [5, 7],\n",
    "'base_estimator__max_depth': [3, 5, 7],\n",
    "'learning_rate': [0.01]}\n",
    "\n",
    "ada_grid_search_1=RandomizedSearchCV(estimator= AdaBoostClassifier(base_estimator= DecisionTreeClassifier()), \n",
    "                                   param_distributions= ada_param_grid, \n",
    "                                   cv= 3, \n",
    "                                   scoring= my_score_function, \n",
    "                                   n_jobs=-1,\n",
    "                                   n_iter= 30).fit(x_train.drop(columns=['scannedLineItemsPerSecond', 'cubed_lineItemVoidsPerPosition']), y_train)\n",
    "\n",
    "#Extracting best hyperparamter combo\n",
    "ada_md_1= ada_grid_search_1.best_params_\n",
    "ada_score_1= ada_grid_search_1.best_score_"
   ]
  },
  {
   "cell_type": "code",
   "execution_count": 105,
   "id": "19a02913-1e2b-44dd-af4b-9ae08f2ddc29",
   "metadata": {
    "tags": []
   },
   "outputs": [
    {
     "name": "stdout",
     "output_type": "stream",
     "text": [
      "Best hyper-parameter combo {'n_estimators': 300, 'learning_rate': 0.01, 'base_estimator__min_samples_split': 15, 'base_estimator__min_samples_leaf': 7, 'base_estimator__max_depth': 7}\n",
      "Best score: 5.0\n"
     ]
    }
   ],
   "source": [
    "print('Best hyper-parameter combo', ada_md_1)\n",
    "print('Best score:', ada_score_1)"
   ]
  },
  {
   "cell_type": "code",
   "execution_count": null,
   "id": "ec4cb94b-c298-454f-b42b-64069940ec7c",
   "metadata": {},
   "outputs": [],
   "source": [
    "6 variables"
   ]
  },
  {
   "cell_type": "code",
   "execution_count": 106,
   "id": "ae2c5f21-7240-4274-8005-cd4b2ca4b9fd",
   "metadata": {
    "collapsed": true,
    "jupyter": {
     "outputs_hidden": true
    },
    "tags": []
   },
   "outputs": [
    {
     "name": "stderr",
     "output_type": "stream",
     "text": [
      "/home/ec2-user/anaconda3/envs/python3/lib/python3.10/site-packages/sklearn/model_selection/_search.py:306: UserWarning: The total space of parameters 24 is smaller than n_iter=30. Running 24 iterations. For exhaustive searches, use GridSearchCV.\n",
      "  warnings.warn(\n",
      "/home/ec2-user/anaconda3/envs/python3/lib/python3.10/site-packages/sklearn/ensemble/_base.py:166: FutureWarning: `base_estimator` was renamed to `estimator` in version 1.2 and will be removed in 1.4.\n",
      "  warnings.warn(\n",
      "/home/ec2-user/anaconda3/envs/python3/lib/python3.10/site-packages/sklearn/ensemble/_base.py:166: FutureWarning: `base_estimator` was renamed to `estimator` in version 1.2 and will be removed in 1.4.\n",
      "  warnings.warn(\n",
      "/home/ec2-user/anaconda3/envs/python3/lib/python3.10/site-packages/sklearn/ensemble/_base.py:166: FutureWarning: `base_estimator` was renamed to `estimator` in version 1.2 and will be removed in 1.4.\n",
      "  warnings.warn(\n",
      "/home/ec2-user/anaconda3/envs/python3/lib/python3.10/site-packages/sklearn/ensemble/_base.py:166: FutureWarning: `base_estimator` was renamed to `estimator` in version 1.2 and will be removed in 1.4.\n",
      "  warnings.warn(\n",
      "/home/ec2-user/anaconda3/envs/python3/lib/python3.10/site-packages/sklearn/ensemble/_base.py:166: FutureWarning: `base_estimator` was renamed to `estimator` in version 1.2 and will be removed in 1.4.\n",
      "  warnings.warn(\n",
      "/home/ec2-user/anaconda3/envs/python3/lib/python3.10/site-packages/sklearn/ensemble/_base.py:166: FutureWarning: `base_estimator` was renamed to `estimator` in version 1.2 and will be removed in 1.4.\n",
      "  warnings.warn(\n",
      "/home/ec2-user/anaconda3/envs/python3/lib/python3.10/site-packages/sklearn/ensemble/_base.py:166: FutureWarning: `base_estimator` was renamed to `estimator` in version 1.2 and will be removed in 1.4.\n",
      "  warnings.warn(\n",
      "/home/ec2-user/anaconda3/envs/python3/lib/python3.10/site-packages/sklearn/ensemble/_base.py:166: FutureWarning: `base_estimator` was renamed to `estimator` in version 1.2 and will be removed in 1.4.\n",
      "  warnings.warn(\n",
      "/home/ec2-user/anaconda3/envs/python3/lib/python3.10/site-packages/sklearn/ensemble/_base.py:166: FutureWarning: `base_estimator` was renamed to `estimator` in version 1.2 and will be removed in 1.4.\n",
      "  warnings.warn(\n",
      "/home/ec2-user/anaconda3/envs/python3/lib/python3.10/site-packages/sklearn/ensemble/_base.py:166: FutureWarning: `base_estimator` was renamed to `estimator` in version 1.2 and will be removed in 1.4.\n",
      "  warnings.warn(\n",
      "/home/ec2-user/anaconda3/envs/python3/lib/python3.10/site-packages/sklearn/ensemble/_base.py:166: FutureWarning: `base_estimator` was renamed to `estimator` in version 1.2 and will be removed in 1.4.\n",
      "  warnings.warn(\n",
      "/home/ec2-user/anaconda3/envs/python3/lib/python3.10/site-packages/sklearn/ensemble/_base.py:166: FutureWarning: `base_estimator` was renamed to `estimator` in version 1.2 and will be removed in 1.4.\n",
      "  warnings.warn(\n",
      "/home/ec2-user/anaconda3/envs/python3/lib/python3.10/site-packages/sklearn/ensemble/_base.py:166: FutureWarning: `base_estimator` was renamed to `estimator` in version 1.2 and will be removed in 1.4.\n",
      "  warnings.warn(\n",
      "/home/ec2-user/anaconda3/envs/python3/lib/python3.10/site-packages/sklearn/ensemble/_base.py:166: FutureWarning: `base_estimator` was renamed to `estimator` in version 1.2 and will be removed in 1.4.\n",
      "  warnings.warn(\n",
      "/home/ec2-user/anaconda3/envs/python3/lib/python3.10/site-packages/sklearn/ensemble/_base.py:166: FutureWarning: `base_estimator` was renamed to `estimator` in version 1.2 and will be removed in 1.4.\n",
      "  warnings.warn(\n",
      "/home/ec2-user/anaconda3/envs/python3/lib/python3.10/site-packages/sklearn/ensemble/_base.py:166: FutureWarning: `base_estimator` was renamed to `estimator` in version 1.2 and will be removed in 1.4.\n",
      "  warnings.warn(\n",
      "/home/ec2-user/anaconda3/envs/python3/lib/python3.10/site-packages/sklearn/ensemble/_base.py:166: FutureWarning: `base_estimator` was renamed to `estimator` in version 1.2 and will be removed in 1.4.\n",
      "  warnings.warn(\n",
      "/home/ec2-user/anaconda3/envs/python3/lib/python3.10/site-packages/sklearn/ensemble/_base.py:166: FutureWarning: `base_estimator` was renamed to `estimator` in version 1.2 and will be removed in 1.4.\n",
      "  warnings.warn(\n",
      "/home/ec2-user/anaconda3/envs/python3/lib/python3.10/site-packages/sklearn/ensemble/_base.py:166: FutureWarning: `base_estimator` was renamed to `estimator` in version 1.2 and will be removed in 1.4.\n",
      "  warnings.warn(\n",
      "/home/ec2-user/anaconda3/envs/python3/lib/python3.10/site-packages/sklearn/ensemble/_base.py:166: FutureWarning: `base_estimator` was renamed to `estimator` in version 1.2 and will be removed in 1.4.\n",
      "  warnings.warn(\n",
      "/home/ec2-user/anaconda3/envs/python3/lib/python3.10/site-packages/sklearn/ensemble/_base.py:166: FutureWarning: `base_estimator` was renamed to `estimator` in version 1.2 and will be removed in 1.4.\n",
      "  warnings.warn(\n",
      "/home/ec2-user/anaconda3/envs/python3/lib/python3.10/site-packages/sklearn/ensemble/_base.py:166: FutureWarning: `base_estimator` was renamed to `estimator` in version 1.2 and will be removed in 1.4.\n",
      "  warnings.warn(\n",
      "/home/ec2-user/anaconda3/envs/python3/lib/python3.10/site-packages/sklearn/ensemble/_base.py:166: FutureWarning: `base_estimator` was renamed to `estimator` in version 1.2 and will be removed in 1.4.\n",
      "  warnings.warn(\n",
      "/home/ec2-user/anaconda3/envs/python3/lib/python3.10/site-packages/sklearn/ensemble/_base.py:166: FutureWarning: `base_estimator` was renamed to `estimator` in version 1.2 and will be removed in 1.4.\n",
      "  warnings.warn(\n",
      "/home/ec2-user/anaconda3/envs/python3/lib/python3.10/site-packages/sklearn/ensemble/_base.py:166: FutureWarning: `base_estimator` was renamed to `estimator` in version 1.2 and will be removed in 1.4.\n",
      "  warnings.warn(\n",
      "/home/ec2-user/anaconda3/envs/python3/lib/python3.10/site-packages/sklearn/ensemble/_base.py:166: FutureWarning: `base_estimator` was renamed to `estimator` in version 1.2 and will be removed in 1.4.\n",
      "  warnings.warn(\n",
      "/home/ec2-user/anaconda3/envs/python3/lib/python3.10/site-packages/sklearn/ensemble/_base.py:166: FutureWarning: `base_estimator` was renamed to `estimator` in version 1.2 and will be removed in 1.4.\n",
      "  warnings.warn(\n",
      "/home/ec2-user/anaconda3/envs/python3/lib/python3.10/site-packages/sklearn/ensemble/_base.py:166: FutureWarning: `base_estimator` was renamed to `estimator` in version 1.2 and will be removed in 1.4.\n",
      "  warnings.warn(\n",
      "/home/ec2-user/anaconda3/envs/python3/lib/python3.10/site-packages/sklearn/ensemble/_base.py:166: FutureWarning: `base_estimator` was renamed to `estimator` in version 1.2 and will be removed in 1.4.\n",
      "  warnings.warn(\n",
      "/home/ec2-user/anaconda3/envs/python3/lib/python3.10/site-packages/sklearn/ensemble/_base.py:166: FutureWarning: `base_estimator` was renamed to `estimator` in version 1.2 and will be removed in 1.4.\n",
      "  warnings.warn(\n",
      "/home/ec2-user/anaconda3/envs/python3/lib/python3.10/site-packages/sklearn/ensemble/_base.py:166: FutureWarning: `base_estimator` was renamed to `estimator` in version 1.2 and will be removed in 1.4.\n",
      "  warnings.warn(\n",
      "/home/ec2-user/anaconda3/envs/python3/lib/python3.10/site-packages/sklearn/ensemble/_base.py:166: FutureWarning: `base_estimator` was renamed to `estimator` in version 1.2 and will be removed in 1.4.\n",
      "  warnings.warn(\n",
      "/home/ec2-user/anaconda3/envs/python3/lib/python3.10/site-packages/sklearn/ensemble/_base.py:166: FutureWarning: `base_estimator` was renamed to `estimator` in version 1.2 and will be removed in 1.4.\n",
      "  warnings.warn(\n",
      "/home/ec2-user/anaconda3/envs/python3/lib/python3.10/site-packages/sklearn/ensemble/_base.py:166: FutureWarning: `base_estimator` was renamed to `estimator` in version 1.2 and will be removed in 1.4.\n",
      "  warnings.warn(\n",
      "/home/ec2-user/anaconda3/envs/python3/lib/python3.10/site-packages/sklearn/ensemble/_base.py:166: FutureWarning: `base_estimator` was renamed to `estimator` in version 1.2 and will be removed in 1.4.\n",
      "  warnings.warn(\n",
      "/home/ec2-user/anaconda3/envs/python3/lib/python3.10/site-packages/sklearn/ensemble/_base.py:166: FutureWarning: `base_estimator` was renamed to `estimator` in version 1.2 and will be removed in 1.4.\n",
      "  warnings.warn(\n",
      "/home/ec2-user/anaconda3/envs/python3/lib/python3.10/site-packages/sklearn/ensemble/_base.py:166: FutureWarning: `base_estimator` was renamed to `estimator` in version 1.2 and will be removed in 1.4.\n",
      "  warnings.warn(\n",
      "/home/ec2-user/anaconda3/envs/python3/lib/python3.10/site-packages/sklearn/ensemble/_base.py:166: FutureWarning: `base_estimator` was renamed to `estimator` in version 1.2 and will be removed in 1.4.\n",
      "  warnings.warn(\n",
      "/home/ec2-user/anaconda3/envs/python3/lib/python3.10/site-packages/sklearn/ensemble/_base.py:166: FutureWarning: `base_estimator` was renamed to `estimator` in version 1.2 and will be removed in 1.4.\n",
      "  warnings.warn(\n",
      "/home/ec2-user/anaconda3/envs/python3/lib/python3.10/site-packages/sklearn/ensemble/_base.py:166: FutureWarning: `base_estimator` was renamed to `estimator` in version 1.2 and will be removed in 1.4.\n",
      "  warnings.warn(\n",
      "/home/ec2-user/anaconda3/envs/python3/lib/python3.10/site-packages/sklearn/ensemble/_base.py:166: FutureWarning: `base_estimator` was renamed to `estimator` in version 1.2 and will be removed in 1.4.\n",
      "  warnings.warn(\n",
      "/home/ec2-user/anaconda3/envs/python3/lib/python3.10/site-packages/sklearn/ensemble/_base.py:166: FutureWarning: `base_estimator` was renamed to `estimator` in version 1.2 and will be removed in 1.4.\n",
      "  warnings.warn(\n",
      "/home/ec2-user/anaconda3/envs/python3/lib/python3.10/site-packages/sklearn/ensemble/_base.py:166: FutureWarning: `base_estimator` was renamed to `estimator` in version 1.2 and will be removed in 1.4.\n",
      "  warnings.warn(\n",
      "/home/ec2-user/anaconda3/envs/python3/lib/python3.10/site-packages/sklearn/ensemble/_base.py:166: FutureWarning: `base_estimator` was renamed to `estimator` in version 1.2 and will be removed in 1.4.\n",
      "  warnings.warn(\n",
      "/home/ec2-user/anaconda3/envs/python3/lib/python3.10/site-packages/sklearn/ensemble/_base.py:166: FutureWarning: `base_estimator` was renamed to `estimator` in version 1.2 and will be removed in 1.4.\n",
      "  warnings.warn(\n",
      "/home/ec2-user/anaconda3/envs/python3/lib/python3.10/site-packages/sklearn/ensemble/_base.py:166: FutureWarning: `base_estimator` was renamed to `estimator` in version 1.2 and will be removed in 1.4.\n",
      "  warnings.warn(\n",
      "/home/ec2-user/anaconda3/envs/python3/lib/python3.10/site-packages/sklearn/ensemble/_base.py:166: FutureWarning: `base_estimator` was renamed to `estimator` in version 1.2 and will be removed in 1.4.\n",
      "  warnings.warn(\n",
      "/home/ec2-user/anaconda3/envs/python3/lib/python3.10/site-packages/sklearn/ensemble/_base.py:166: FutureWarning: `base_estimator` was renamed to `estimator` in version 1.2 and will be removed in 1.4.\n",
      "  warnings.warn(\n",
      "/home/ec2-user/anaconda3/envs/python3/lib/python3.10/site-packages/sklearn/ensemble/_base.py:166: FutureWarning: `base_estimator` was renamed to `estimator` in version 1.2 and will be removed in 1.4.\n",
      "  warnings.warn(\n",
      "/home/ec2-user/anaconda3/envs/python3/lib/python3.10/site-packages/sklearn/ensemble/_base.py:166: FutureWarning: `base_estimator` was renamed to `estimator` in version 1.2 and will be removed in 1.4.\n",
      "  warnings.warn(\n",
      "/home/ec2-user/anaconda3/envs/python3/lib/python3.10/site-packages/sklearn/ensemble/_base.py:166: FutureWarning: `base_estimator` was renamed to `estimator` in version 1.2 and will be removed in 1.4.\n",
      "  warnings.warn(\n",
      "/home/ec2-user/anaconda3/envs/python3/lib/python3.10/site-packages/sklearn/ensemble/_base.py:166: FutureWarning: `base_estimator` was renamed to `estimator` in version 1.2 and will be removed in 1.4.\n",
      "  warnings.warn(\n",
      "/home/ec2-user/anaconda3/envs/python3/lib/python3.10/site-packages/sklearn/ensemble/_base.py:166: FutureWarning: `base_estimator` was renamed to `estimator` in version 1.2 and will be removed in 1.4.\n",
      "  warnings.warn(\n",
      "/home/ec2-user/anaconda3/envs/python3/lib/python3.10/site-packages/sklearn/ensemble/_base.py:166: FutureWarning: `base_estimator` was renamed to `estimator` in version 1.2 and will be removed in 1.4.\n",
      "  warnings.warn(\n",
      "/home/ec2-user/anaconda3/envs/python3/lib/python3.10/site-packages/sklearn/ensemble/_base.py:166: FutureWarning: `base_estimator` was renamed to `estimator` in version 1.2 and will be removed in 1.4.\n",
      "  warnings.warn(\n",
      "/home/ec2-user/anaconda3/envs/python3/lib/python3.10/site-packages/sklearn/ensemble/_base.py:166: FutureWarning: `base_estimator` was renamed to `estimator` in version 1.2 and will be removed in 1.4.\n",
      "  warnings.warn(\n",
      "/home/ec2-user/anaconda3/envs/python3/lib/python3.10/site-packages/sklearn/ensemble/_base.py:166: FutureWarning: `base_estimator` was renamed to `estimator` in version 1.2 and will be removed in 1.4.\n",
      "  warnings.warn(\n",
      "/home/ec2-user/anaconda3/envs/python3/lib/python3.10/site-packages/sklearn/ensemble/_base.py:166: FutureWarning: `base_estimator` was renamed to `estimator` in version 1.2 and will be removed in 1.4.\n",
      "  warnings.warn(\n",
      "/home/ec2-user/anaconda3/envs/python3/lib/python3.10/site-packages/sklearn/ensemble/_base.py:166: FutureWarning: `base_estimator` was renamed to `estimator` in version 1.2 and will be removed in 1.4.\n",
      "  warnings.warn(\n",
      "/home/ec2-user/anaconda3/envs/python3/lib/python3.10/site-packages/sklearn/ensemble/_base.py:166: FutureWarning: `base_estimator` was renamed to `estimator` in version 1.2 and will be removed in 1.4.\n",
      "  warnings.warn(\n",
      "/home/ec2-user/anaconda3/envs/python3/lib/python3.10/site-packages/sklearn/ensemble/_base.py:166: FutureWarning: `base_estimator` was renamed to `estimator` in version 1.2 and will be removed in 1.4.\n",
      "  warnings.warn(\n",
      "/home/ec2-user/anaconda3/envs/python3/lib/python3.10/site-packages/sklearn/ensemble/_base.py:166: FutureWarning: `base_estimator` was renamed to `estimator` in version 1.2 and will be removed in 1.4.\n",
      "  warnings.warn(\n",
      "/home/ec2-user/anaconda3/envs/python3/lib/python3.10/site-packages/sklearn/ensemble/_base.py:166: FutureWarning: `base_estimator` was renamed to `estimator` in version 1.2 and will be removed in 1.4.\n",
      "  warnings.warn(\n",
      "/home/ec2-user/anaconda3/envs/python3/lib/python3.10/site-packages/sklearn/ensemble/_base.py:166: FutureWarning: `base_estimator` was renamed to `estimator` in version 1.2 and will be removed in 1.4.\n",
      "  warnings.warn(\n",
      "/home/ec2-user/anaconda3/envs/python3/lib/python3.10/site-packages/sklearn/ensemble/_base.py:166: FutureWarning: `base_estimator` was renamed to `estimator` in version 1.2 and will be removed in 1.4.\n",
      "  warnings.warn(\n",
      "/home/ec2-user/anaconda3/envs/python3/lib/python3.10/site-packages/sklearn/ensemble/_base.py:166: FutureWarning: `base_estimator` was renamed to `estimator` in version 1.2 and will be removed in 1.4.\n",
      "  warnings.warn(\n",
      "/home/ec2-user/anaconda3/envs/python3/lib/python3.10/site-packages/sklearn/ensemble/_base.py:166: FutureWarning: `base_estimator` was renamed to `estimator` in version 1.2 and will be removed in 1.4.\n",
      "  warnings.warn(\n",
      "/home/ec2-user/anaconda3/envs/python3/lib/python3.10/site-packages/sklearn/ensemble/_base.py:166: FutureWarning: `base_estimator` was renamed to `estimator` in version 1.2 and will be removed in 1.4.\n",
      "  warnings.warn(\n",
      "/home/ec2-user/anaconda3/envs/python3/lib/python3.10/site-packages/sklearn/ensemble/_base.py:166: FutureWarning: `base_estimator` was renamed to `estimator` in version 1.2 and will be removed in 1.4.\n",
      "  warnings.warn(\n",
      "/home/ec2-user/anaconda3/envs/python3/lib/python3.10/site-packages/sklearn/ensemble/_base.py:166: FutureWarning: `base_estimator` was renamed to `estimator` in version 1.2 and will be removed in 1.4.\n",
      "  warnings.warn(\n",
      "/home/ec2-user/anaconda3/envs/python3/lib/python3.10/site-packages/sklearn/ensemble/_base.py:166: FutureWarning: `base_estimator` was renamed to `estimator` in version 1.2 and will be removed in 1.4.\n",
      "  warnings.warn(\n",
      "/home/ec2-user/anaconda3/envs/python3/lib/python3.10/site-packages/sklearn/ensemble/_base.py:166: FutureWarning: `base_estimator` was renamed to `estimator` in version 1.2 and will be removed in 1.4.\n",
      "  warnings.warn(\n",
      "/home/ec2-user/anaconda3/envs/python3/lib/python3.10/site-packages/sklearn/ensemble/_base.py:166: FutureWarning: `base_estimator` was renamed to `estimator` in version 1.2 and will be removed in 1.4.\n",
      "  warnings.warn(\n"
     ]
    }
   ],
   "source": [
    "ada_param_grid = {'n_estimators': [100, 300],\n",
    "'base_estimator__min_samples_split': [10, 15],\n",
    "'base_estimator__min_samples_leaf': [5, 7],\n",
    "'base_estimator__max_depth': [3, 5, 7],\n",
    "'learning_rate': [0.01]}\n",
    "\n",
    "ada_grid_search_2=RandomizedSearchCV(estimator= AdaBoostClassifier(base_estimator= DecisionTreeClassifier()), \n",
    "                                   param_distributions= ada_param_grid, \n",
    "                                   cv= 3, \n",
    "                                   scoring= my_score_function, \n",
    "                                   n_jobs=-1,\n",
    "                                   n_iter= 30).fit(x_train.drop(columns=['cubed_lineItemVoidsPerPosition']), y_train)\n",
    "\n",
    "#Extracting best hyperparamter combo\n",
    "ada_md_2= ada_grid_search_2.best_params_\n",
    "ada_score_2= ada_grid_search_2.best_score_"
   ]
  },
  {
   "cell_type": "code",
   "execution_count": 107,
   "id": "4d09c735-11d8-4f01-923e-088beba6dd88",
   "metadata": {
    "tags": []
   },
   "outputs": [
    {
     "name": "stdout",
     "output_type": "stream",
     "text": [
      "Best hyper-parameter combo {'n_estimators': 100, 'learning_rate': 0.01, 'base_estimator__min_samples_split': 15, 'base_estimator__min_samples_leaf': 7, 'base_estimator__max_depth': 7}\n",
      "Best score: -6.666666666666667\n"
     ]
    }
   ],
   "source": [
    "print('Best hyper-parameter combo', ada_md_2)\n",
    "print('Best score:', ada_score_2)"
   ]
  },
  {
   "cell_type": "code",
   "execution_count": null,
   "id": "e271b1ca-d094-4533-a45a-64198746eb9b",
   "metadata": {},
   "outputs": [],
   "source": [
    "7 variables"
   ]
  },
  {
   "cell_type": "code",
   "execution_count": 108,
   "id": "51d5acdb-1f8c-45e2-9bc0-03942f75b893",
   "metadata": {
    "collapsed": true,
    "jupyter": {
     "outputs_hidden": true
    },
    "tags": []
   },
   "outputs": [
    {
     "name": "stderr",
     "output_type": "stream",
     "text": [
      "/home/ec2-user/anaconda3/envs/python3/lib/python3.10/site-packages/sklearn/model_selection/_search.py:306: UserWarning: The total space of parameters 24 is smaller than n_iter=30. Running 24 iterations. For exhaustive searches, use GridSearchCV.\n",
      "  warnings.warn(\n",
      "/home/ec2-user/anaconda3/envs/python3/lib/python3.10/site-packages/sklearn/ensemble/_base.py:166: FutureWarning: `base_estimator` was renamed to `estimator` in version 1.2 and will be removed in 1.4.\n",
      "  warnings.warn(\n",
      "/home/ec2-user/anaconda3/envs/python3/lib/python3.10/site-packages/sklearn/ensemble/_base.py:166: FutureWarning: `base_estimator` was renamed to `estimator` in version 1.2 and will be removed in 1.4.\n",
      "  warnings.warn(\n",
      "/home/ec2-user/anaconda3/envs/python3/lib/python3.10/site-packages/sklearn/ensemble/_base.py:166: FutureWarning: `base_estimator` was renamed to `estimator` in version 1.2 and will be removed in 1.4.\n",
      "  warnings.warn(\n",
      "/home/ec2-user/anaconda3/envs/python3/lib/python3.10/site-packages/sklearn/ensemble/_base.py:166: FutureWarning: `base_estimator` was renamed to `estimator` in version 1.2 and will be removed in 1.4.\n",
      "  warnings.warn(\n",
      "/home/ec2-user/anaconda3/envs/python3/lib/python3.10/site-packages/sklearn/ensemble/_base.py:166: FutureWarning: `base_estimator` was renamed to `estimator` in version 1.2 and will be removed in 1.4.\n",
      "  warnings.warn(\n",
      "/home/ec2-user/anaconda3/envs/python3/lib/python3.10/site-packages/sklearn/ensemble/_base.py:166: FutureWarning: `base_estimator` was renamed to `estimator` in version 1.2 and will be removed in 1.4.\n",
      "  warnings.warn(\n",
      "/home/ec2-user/anaconda3/envs/python3/lib/python3.10/site-packages/sklearn/ensemble/_base.py:166: FutureWarning: `base_estimator` was renamed to `estimator` in version 1.2 and will be removed in 1.4.\n",
      "  warnings.warn(\n",
      "/home/ec2-user/anaconda3/envs/python3/lib/python3.10/site-packages/sklearn/ensemble/_base.py:166: FutureWarning: `base_estimator` was renamed to `estimator` in version 1.2 and will be removed in 1.4.\n",
      "  warnings.warn(\n",
      "/home/ec2-user/anaconda3/envs/python3/lib/python3.10/site-packages/sklearn/ensemble/_base.py:166: FutureWarning: `base_estimator` was renamed to `estimator` in version 1.2 and will be removed in 1.4.\n",
      "  warnings.warn(\n",
      "/home/ec2-user/anaconda3/envs/python3/lib/python3.10/site-packages/sklearn/ensemble/_base.py:166: FutureWarning: `base_estimator` was renamed to `estimator` in version 1.2 and will be removed in 1.4.\n",
      "  warnings.warn(\n",
      "/home/ec2-user/anaconda3/envs/python3/lib/python3.10/site-packages/sklearn/ensemble/_base.py:166: FutureWarning: `base_estimator` was renamed to `estimator` in version 1.2 and will be removed in 1.4.\n",
      "  warnings.warn(\n",
      "/home/ec2-user/anaconda3/envs/python3/lib/python3.10/site-packages/sklearn/ensemble/_base.py:166: FutureWarning: `base_estimator` was renamed to `estimator` in version 1.2 and will be removed in 1.4.\n",
      "  warnings.warn(\n",
      "/home/ec2-user/anaconda3/envs/python3/lib/python3.10/site-packages/sklearn/ensemble/_base.py:166: FutureWarning: `base_estimator` was renamed to `estimator` in version 1.2 and will be removed in 1.4.\n",
      "  warnings.warn(\n",
      "/home/ec2-user/anaconda3/envs/python3/lib/python3.10/site-packages/sklearn/ensemble/_base.py:166: FutureWarning: `base_estimator` was renamed to `estimator` in version 1.2 and will be removed in 1.4.\n",
      "  warnings.warn(\n",
      "/home/ec2-user/anaconda3/envs/python3/lib/python3.10/site-packages/sklearn/ensemble/_base.py:166: FutureWarning: `base_estimator` was renamed to `estimator` in version 1.2 and will be removed in 1.4.\n",
      "  warnings.warn(\n",
      "/home/ec2-user/anaconda3/envs/python3/lib/python3.10/site-packages/sklearn/ensemble/_base.py:166: FutureWarning: `base_estimator` was renamed to `estimator` in version 1.2 and will be removed in 1.4.\n",
      "  warnings.warn(\n",
      "/home/ec2-user/anaconda3/envs/python3/lib/python3.10/site-packages/sklearn/ensemble/_base.py:166: FutureWarning: `base_estimator` was renamed to `estimator` in version 1.2 and will be removed in 1.4.\n",
      "  warnings.warn(\n",
      "/home/ec2-user/anaconda3/envs/python3/lib/python3.10/site-packages/sklearn/ensemble/_base.py:166: FutureWarning: `base_estimator` was renamed to `estimator` in version 1.2 and will be removed in 1.4.\n",
      "  warnings.warn(\n",
      "/home/ec2-user/anaconda3/envs/python3/lib/python3.10/site-packages/sklearn/ensemble/_base.py:166: FutureWarning: `base_estimator` was renamed to `estimator` in version 1.2 and will be removed in 1.4.\n",
      "  warnings.warn(\n",
      "/home/ec2-user/anaconda3/envs/python3/lib/python3.10/site-packages/sklearn/ensemble/_base.py:166: FutureWarning: `base_estimator` was renamed to `estimator` in version 1.2 and will be removed in 1.4.\n",
      "  warnings.warn(\n",
      "/home/ec2-user/anaconda3/envs/python3/lib/python3.10/site-packages/sklearn/ensemble/_base.py:166: FutureWarning: `base_estimator` was renamed to `estimator` in version 1.2 and will be removed in 1.4.\n",
      "  warnings.warn(\n",
      "/home/ec2-user/anaconda3/envs/python3/lib/python3.10/site-packages/sklearn/ensemble/_base.py:166: FutureWarning: `base_estimator` was renamed to `estimator` in version 1.2 and will be removed in 1.4.\n",
      "  warnings.warn(\n",
      "/home/ec2-user/anaconda3/envs/python3/lib/python3.10/site-packages/sklearn/ensemble/_base.py:166: FutureWarning: `base_estimator` was renamed to `estimator` in version 1.2 and will be removed in 1.4.\n",
      "  warnings.warn(\n",
      "/home/ec2-user/anaconda3/envs/python3/lib/python3.10/site-packages/sklearn/ensemble/_base.py:166: FutureWarning: `base_estimator` was renamed to `estimator` in version 1.2 and will be removed in 1.4.\n",
      "  warnings.warn(\n",
      "/home/ec2-user/anaconda3/envs/python3/lib/python3.10/site-packages/sklearn/ensemble/_base.py:166: FutureWarning: `base_estimator` was renamed to `estimator` in version 1.2 and will be removed in 1.4.\n",
      "  warnings.warn(\n",
      "/home/ec2-user/anaconda3/envs/python3/lib/python3.10/site-packages/sklearn/ensemble/_base.py:166: FutureWarning: `base_estimator` was renamed to `estimator` in version 1.2 and will be removed in 1.4.\n",
      "  warnings.warn(\n",
      "/home/ec2-user/anaconda3/envs/python3/lib/python3.10/site-packages/sklearn/ensemble/_base.py:166: FutureWarning: `base_estimator` was renamed to `estimator` in version 1.2 and will be removed in 1.4.\n",
      "  warnings.warn(\n",
      "/home/ec2-user/anaconda3/envs/python3/lib/python3.10/site-packages/sklearn/ensemble/_base.py:166: FutureWarning: `base_estimator` was renamed to `estimator` in version 1.2 and will be removed in 1.4.\n",
      "  warnings.warn(\n",
      "/home/ec2-user/anaconda3/envs/python3/lib/python3.10/site-packages/sklearn/ensemble/_base.py:166: FutureWarning: `base_estimator` was renamed to `estimator` in version 1.2 and will be removed in 1.4.\n",
      "  warnings.warn(\n",
      "/home/ec2-user/anaconda3/envs/python3/lib/python3.10/site-packages/sklearn/ensemble/_base.py:166: FutureWarning: `base_estimator` was renamed to `estimator` in version 1.2 and will be removed in 1.4.\n",
      "  warnings.warn(\n",
      "/home/ec2-user/anaconda3/envs/python3/lib/python3.10/site-packages/sklearn/ensemble/_base.py:166: FutureWarning: `base_estimator` was renamed to `estimator` in version 1.2 and will be removed in 1.4.\n",
      "  warnings.warn(\n",
      "/home/ec2-user/anaconda3/envs/python3/lib/python3.10/site-packages/sklearn/ensemble/_base.py:166: FutureWarning: `base_estimator` was renamed to `estimator` in version 1.2 and will be removed in 1.4.\n",
      "  warnings.warn(\n",
      "/home/ec2-user/anaconda3/envs/python3/lib/python3.10/site-packages/sklearn/ensemble/_base.py:166: FutureWarning: `base_estimator` was renamed to `estimator` in version 1.2 and will be removed in 1.4.\n",
      "  warnings.warn(\n",
      "/home/ec2-user/anaconda3/envs/python3/lib/python3.10/site-packages/sklearn/ensemble/_base.py:166: FutureWarning: `base_estimator` was renamed to `estimator` in version 1.2 and will be removed in 1.4.\n",
      "  warnings.warn(\n",
      "/home/ec2-user/anaconda3/envs/python3/lib/python3.10/site-packages/sklearn/ensemble/_base.py:166: FutureWarning: `base_estimator` was renamed to `estimator` in version 1.2 and will be removed in 1.4.\n",
      "  warnings.warn(\n",
      "/home/ec2-user/anaconda3/envs/python3/lib/python3.10/site-packages/sklearn/ensemble/_base.py:166: FutureWarning: `base_estimator` was renamed to `estimator` in version 1.2 and will be removed in 1.4.\n",
      "  warnings.warn(\n",
      "/home/ec2-user/anaconda3/envs/python3/lib/python3.10/site-packages/sklearn/ensemble/_base.py:166: FutureWarning: `base_estimator` was renamed to `estimator` in version 1.2 and will be removed in 1.4.\n",
      "  warnings.warn(\n",
      "/home/ec2-user/anaconda3/envs/python3/lib/python3.10/site-packages/sklearn/ensemble/_base.py:166: FutureWarning: `base_estimator` was renamed to `estimator` in version 1.2 and will be removed in 1.4.\n",
      "  warnings.warn(\n",
      "/home/ec2-user/anaconda3/envs/python3/lib/python3.10/site-packages/sklearn/ensemble/_base.py:166: FutureWarning: `base_estimator` was renamed to `estimator` in version 1.2 and will be removed in 1.4.\n",
      "  warnings.warn(\n",
      "/home/ec2-user/anaconda3/envs/python3/lib/python3.10/site-packages/sklearn/ensemble/_base.py:166: FutureWarning: `base_estimator` was renamed to `estimator` in version 1.2 and will be removed in 1.4.\n",
      "  warnings.warn(\n",
      "/home/ec2-user/anaconda3/envs/python3/lib/python3.10/site-packages/sklearn/ensemble/_base.py:166: FutureWarning: `base_estimator` was renamed to `estimator` in version 1.2 and will be removed in 1.4.\n",
      "  warnings.warn(\n",
      "/home/ec2-user/anaconda3/envs/python3/lib/python3.10/site-packages/sklearn/ensemble/_base.py:166: FutureWarning: `base_estimator` was renamed to `estimator` in version 1.2 and will be removed in 1.4.\n",
      "  warnings.warn(\n",
      "/home/ec2-user/anaconda3/envs/python3/lib/python3.10/site-packages/sklearn/ensemble/_base.py:166: FutureWarning: `base_estimator` was renamed to `estimator` in version 1.2 and will be removed in 1.4.\n",
      "  warnings.warn(\n",
      "/home/ec2-user/anaconda3/envs/python3/lib/python3.10/site-packages/sklearn/ensemble/_base.py:166: FutureWarning: `base_estimator` was renamed to `estimator` in version 1.2 and will be removed in 1.4.\n",
      "  warnings.warn(\n",
      "/home/ec2-user/anaconda3/envs/python3/lib/python3.10/site-packages/sklearn/ensemble/_base.py:166: FutureWarning: `base_estimator` was renamed to `estimator` in version 1.2 and will be removed in 1.4.\n",
      "  warnings.warn(\n",
      "/home/ec2-user/anaconda3/envs/python3/lib/python3.10/site-packages/sklearn/ensemble/_base.py:166: FutureWarning: `base_estimator` was renamed to `estimator` in version 1.2 and will be removed in 1.4.\n",
      "  warnings.warn(\n",
      "/home/ec2-user/anaconda3/envs/python3/lib/python3.10/site-packages/sklearn/ensemble/_base.py:166: FutureWarning: `base_estimator` was renamed to `estimator` in version 1.2 and will be removed in 1.4.\n",
      "  warnings.warn(\n",
      "/home/ec2-user/anaconda3/envs/python3/lib/python3.10/site-packages/sklearn/ensemble/_base.py:166: FutureWarning: `base_estimator` was renamed to `estimator` in version 1.2 and will be removed in 1.4.\n",
      "  warnings.warn(\n",
      "/home/ec2-user/anaconda3/envs/python3/lib/python3.10/site-packages/sklearn/ensemble/_base.py:166: FutureWarning: `base_estimator` was renamed to `estimator` in version 1.2 and will be removed in 1.4.\n",
      "  warnings.warn(\n",
      "/home/ec2-user/anaconda3/envs/python3/lib/python3.10/site-packages/sklearn/ensemble/_base.py:166: FutureWarning: `base_estimator` was renamed to `estimator` in version 1.2 and will be removed in 1.4.\n",
      "  warnings.warn(\n",
      "/home/ec2-user/anaconda3/envs/python3/lib/python3.10/site-packages/sklearn/ensemble/_base.py:166: FutureWarning: `base_estimator` was renamed to `estimator` in version 1.2 and will be removed in 1.4.\n",
      "  warnings.warn(\n",
      "/home/ec2-user/anaconda3/envs/python3/lib/python3.10/site-packages/sklearn/ensemble/_base.py:166: FutureWarning: `base_estimator` was renamed to `estimator` in version 1.2 and will be removed in 1.4.\n",
      "  warnings.warn(\n",
      "/home/ec2-user/anaconda3/envs/python3/lib/python3.10/site-packages/sklearn/ensemble/_base.py:166: FutureWarning: `base_estimator` was renamed to `estimator` in version 1.2 and will be removed in 1.4.\n",
      "  warnings.warn(\n",
      "/home/ec2-user/anaconda3/envs/python3/lib/python3.10/site-packages/sklearn/ensemble/_base.py:166: FutureWarning: `base_estimator` was renamed to `estimator` in version 1.2 and will be removed in 1.4.\n",
      "  warnings.warn(\n",
      "/home/ec2-user/anaconda3/envs/python3/lib/python3.10/site-packages/sklearn/ensemble/_base.py:166: FutureWarning: `base_estimator` was renamed to `estimator` in version 1.2 and will be removed in 1.4.\n",
      "  warnings.warn(\n",
      "/home/ec2-user/anaconda3/envs/python3/lib/python3.10/site-packages/sklearn/ensemble/_base.py:166: FutureWarning: `base_estimator` was renamed to `estimator` in version 1.2 and will be removed in 1.4.\n",
      "  warnings.warn(\n",
      "/home/ec2-user/anaconda3/envs/python3/lib/python3.10/site-packages/sklearn/ensemble/_base.py:166: FutureWarning: `base_estimator` was renamed to `estimator` in version 1.2 and will be removed in 1.4.\n",
      "  warnings.warn(\n",
      "/home/ec2-user/anaconda3/envs/python3/lib/python3.10/site-packages/sklearn/ensemble/_base.py:166: FutureWarning: `base_estimator` was renamed to `estimator` in version 1.2 and will be removed in 1.4.\n",
      "  warnings.warn(\n",
      "/home/ec2-user/anaconda3/envs/python3/lib/python3.10/site-packages/sklearn/ensemble/_base.py:166: FutureWarning: `base_estimator` was renamed to `estimator` in version 1.2 and will be removed in 1.4.\n",
      "  warnings.warn(\n",
      "/home/ec2-user/anaconda3/envs/python3/lib/python3.10/site-packages/sklearn/ensemble/_base.py:166: FutureWarning: `base_estimator` was renamed to `estimator` in version 1.2 and will be removed in 1.4.\n",
      "  warnings.warn(\n",
      "/home/ec2-user/anaconda3/envs/python3/lib/python3.10/site-packages/sklearn/ensemble/_base.py:166: FutureWarning: `base_estimator` was renamed to `estimator` in version 1.2 and will be removed in 1.4.\n",
      "  warnings.warn(\n",
      "/home/ec2-user/anaconda3/envs/python3/lib/python3.10/site-packages/sklearn/ensemble/_base.py:166: FutureWarning: `base_estimator` was renamed to `estimator` in version 1.2 and will be removed in 1.4.\n",
      "  warnings.warn(\n",
      "/home/ec2-user/anaconda3/envs/python3/lib/python3.10/site-packages/sklearn/ensemble/_base.py:166: FutureWarning: `base_estimator` was renamed to `estimator` in version 1.2 and will be removed in 1.4.\n",
      "  warnings.warn(\n",
      "/home/ec2-user/anaconda3/envs/python3/lib/python3.10/site-packages/sklearn/ensemble/_base.py:166: FutureWarning: `base_estimator` was renamed to `estimator` in version 1.2 and will be removed in 1.4.\n",
      "  warnings.warn(\n",
      "/home/ec2-user/anaconda3/envs/python3/lib/python3.10/site-packages/sklearn/ensemble/_base.py:166: FutureWarning: `base_estimator` was renamed to `estimator` in version 1.2 and will be removed in 1.4.\n",
      "  warnings.warn(\n",
      "/home/ec2-user/anaconda3/envs/python3/lib/python3.10/site-packages/sklearn/ensemble/_base.py:166: FutureWarning: `base_estimator` was renamed to `estimator` in version 1.2 and will be removed in 1.4.\n",
      "  warnings.warn(\n",
      "/home/ec2-user/anaconda3/envs/python3/lib/python3.10/site-packages/sklearn/ensemble/_base.py:166: FutureWarning: `base_estimator` was renamed to `estimator` in version 1.2 and will be removed in 1.4.\n",
      "  warnings.warn(\n",
      "/home/ec2-user/anaconda3/envs/python3/lib/python3.10/site-packages/sklearn/ensemble/_base.py:166: FutureWarning: `base_estimator` was renamed to `estimator` in version 1.2 and will be removed in 1.4.\n",
      "  warnings.warn(\n",
      "/home/ec2-user/anaconda3/envs/python3/lib/python3.10/site-packages/sklearn/ensemble/_base.py:166: FutureWarning: `base_estimator` was renamed to `estimator` in version 1.2 and will be removed in 1.4.\n",
      "  warnings.warn(\n",
      "/home/ec2-user/anaconda3/envs/python3/lib/python3.10/site-packages/sklearn/ensemble/_base.py:166: FutureWarning: `base_estimator` was renamed to `estimator` in version 1.2 and will be removed in 1.4.\n",
      "  warnings.warn(\n",
      "/home/ec2-user/anaconda3/envs/python3/lib/python3.10/site-packages/sklearn/ensemble/_base.py:166: FutureWarning: `base_estimator` was renamed to `estimator` in version 1.2 and will be removed in 1.4.\n",
      "  warnings.warn(\n",
      "/home/ec2-user/anaconda3/envs/python3/lib/python3.10/site-packages/sklearn/ensemble/_base.py:166: FutureWarning: `base_estimator` was renamed to `estimator` in version 1.2 and will be removed in 1.4.\n",
      "  warnings.warn(\n",
      "/home/ec2-user/anaconda3/envs/python3/lib/python3.10/site-packages/sklearn/ensemble/_base.py:166: FutureWarning: `base_estimator` was renamed to `estimator` in version 1.2 and will be removed in 1.4.\n",
      "  warnings.warn(\n"
     ]
    }
   ],
   "source": [
    "ada_param_grid = {'n_estimators': [100, 300],\n",
    "'base_estimator__min_samples_split': [10, 15],\n",
    "'base_estimator__min_samples_leaf': [5, 7],\n",
    "'base_estimator__max_depth': [3, 5, 7],\n",
    "'learning_rate': [0.01]}\n",
    "\n",
    "ada_grid_search_3=RandomizedSearchCV(estimator= AdaBoostClassifier(base_estimator= DecisionTreeClassifier()), \n",
    "                                   param_distributions= ada_param_grid, \n",
    "                                   cv= 3, \n",
    "                                   scoring= my_score_function, \n",
    "                                   n_jobs=-1,\n",
    "                                   n_iter= 30).fit(x_train, y_train)\n",
    "\n",
    "#Extracting best hyperparamter combo\n",
    "ada_md_3= ada_grid_search_3.best_params_\n",
    "ada_score_3= ada_grid_search_3.best_score_"
   ]
  },
  {
   "cell_type": "code",
   "execution_count": 109,
   "id": "80b063a1-4d7e-45da-99c1-a5dd52ff8259",
   "metadata": {
    "tags": []
   },
   "outputs": [
    {
     "name": "stdout",
     "output_type": "stream",
     "text": [
      "Best hyper-parameter combo {'n_estimators': 300, 'learning_rate': 0.01, 'base_estimator__min_samples_split': 15, 'base_estimator__min_samples_leaf': 5, 'base_estimator__max_depth': 3}\n",
      "Best score: -13.333333333333334\n"
     ]
    }
   ],
   "source": [
    "print('Best hyper-parameter combo', ada_md_3)\n",
    "print('Best score:', ada_score_3)"
   ]
  },
  {
   "cell_type": "markdown",
   "id": "fd34947f-5ffb-4f8c-b6ed-e288685a9b4e",
   "metadata": {},
   "source": [
    "Random Forest Optuna"
   ]
  },
  {
   "cell_type": "code",
   "execution_count": null,
   "id": "befd93dd-a29a-4773-b496-9c4756af5922",
   "metadata": {},
   "outputs": [],
   "source": [
    "5 Variables"
   ]
  },
  {
   "cell_type": "code",
   "execution_count": 148,
   "id": "6b65a4e5-c9ec-45e2-9c06-beae76be9306",
   "metadata": {
    "tags": []
   },
   "outputs": [],
   "source": [
    "#Defining input and target variables\n",
    "x_train_5= train[['trustLevel', 'interaction_3', 'interaction_1', 'NL_totalScanTimeInSeconds', '1_scannedLineItemsPerSecond']] \n",
    "y_train= train['fraud']"
   ]
  },
  {
   "cell_type": "code",
   "execution_count": 153,
   "id": "d6199318-fd24-4a8d-8846-27a766b917d5",
   "metadata": {
    "tags": []
   },
   "outputs": [],
   "source": [
    "class Objective:\n",
    "    def __init__(self, seed):\n",
    "        self.seed = seed\n",
    "        \n",
    "    def __call__(self, trial):\n",
    "    ## Parameters to be evaluated\n",
    "        params = dict(n_estimators = trial.suggest_int('n_estimators', 100, 2000),\n",
    "            min_samples_split = trial.suggest_int('min_samples_split', 5, 30),\n",
    "            min_samples_leaf = trial.suggest_int('min_samples_leaf', 5, 30),\n",
    "            max_depth = trial.suggest_int('max_depth', 2, 10)\n",
    "            )\n",
    "        scores= list()\n",
    "         \n",
    "        #Running cross validation\n",
    "        skf = StratifiedKFold(n_splits = 3, shuffle = True, random_state = self.seed)\n",
    "       \n",
    "        for train_idx, valid_idx in skf.split(x_train_5, y_train):\n",
    "            x_train_1, x_valid_1 = x_train_5.iloc[train_idx], x_train_5.iloc[valid_idx]\n",
    "            y_train_1 , y_valid_1 = y_train.iloc[train_idx] , y_train.iloc[valid_idx]\n",
    "         \n",
    "            rf_md = RandomForestClassifier(**params).fit(x_train_1, y_train_1)\n",
    "         \n",
    "            preds_valid = rf_md.predict_proba(x_valid_1)[:,1]\n",
    "            \n",
    "            score = cost_function(y_valid_1, preds_valid)\n",
    "            \n",
    "            scores.append(score)\n",
    "         \n",
    "        return np.mean(scores)"
   ]
  },
  {
   "cell_type": "code",
   "execution_count": 154,
   "id": "4adcdc42-baff-4fcf-90b1-4600c0c2fa36",
   "metadata": {
    "collapsed": true,
    "jupyter": {
     "outputs_hidden": true
    },
    "tags": []
   },
   "outputs": [
    {
     "name": "stderr",
     "output_type": "stream",
     "text": [
      "\u001b[32m[I 2023-03-29 16:55:56,806]\u001b[0m A new study created in memory with name: no-name-7db0653e-9fd9-4091-86c1-e8c140b571f2\u001b[0m\n",
      "\u001b[32m[I 2023-03-29 16:56:02,857]\u001b[0m Trial 0 finished with value: -43.333333333333336 and parameters: {'n_estimators': 984, 'min_samples_split': 21, 'min_samples_leaf': 6, 'max_depth': 6}. Best is trial 0 with value: -43.333333333333336.\u001b[0m\n",
      "\u001b[32m[I 2023-03-29 16:56:03,702]\u001b[0m Trial 1 finished with value: -51.666666666666664 and parameters: {'n_estimators': 131, 'min_samples_split': 9, 'min_samples_leaf': 11, 'max_depth': 6}. Best is trial 0 with value: -43.333333333333336.\u001b[0m\n",
      "\u001b[32m[I 2023-03-29 16:56:11,953]\u001b[0m Trial 2 finished with value: -71.66666666666667 and parameters: {'n_estimators': 1497, 'min_samples_split': 29, 'min_samples_leaf': 30, 'max_depth': 7}. Best is trial 0 with value: -43.333333333333336.\u001b[0m\n",
      "\u001b[32m[I 2023-03-29 16:56:13,566]\u001b[0m Trial 3 finished with value: -80.0 and parameters: {'n_estimators': 287, 'min_samples_split': 26, 'min_samples_leaf': 25, 'max_depth': 3}. Best is trial 0 with value: -43.333333333333336.\u001b[0m\n",
      "\u001b[32m[I 2023-03-29 16:56:15,321]\u001b[0m Trial 4 finished with value: -78.33333333333333 and parameters: {'n_estimators': 306, 'min_samples_split': 26, 'min_samples_leaf': 25, 'max_depth': 4}. Best is trial 0 with value: -43.333333333333336.\u001b[0m\n",
      "\u001b[32m[I 2023-03-29 16:56:25,912]\u001b[0m Trial 5 finished with value: -65.0 and parameters: {'n_estimators': 1841, 'min_samples_split': 8, 'min_samples_leaf': 14, 'max_depth': 8}. Best is trial 0 with value: -43.333333333333336.\u001b[0m\n",
      "\u001b[32m[I 2023-03-29 16:56:32,656]\u001b[0m Trial 6 finished with value: -45.0 and parameters: {'n_estimators': 1166, 'min_samples_split': 10, 'min_samples_leaf': 5, 'max_depth': 5}. Best is trial 0 with value: -43.333333333333336.\u001b[0m\n",
      "\u001b[32m[I 2023-03-29 16:56:40,796]\u001b[0m Trial 7 finished with value: -71.66666666666667 and parameters: {'n_estimators': 1378, 'min_samples_split': 15, 'min_samples_leaf': 19, 'max_depth': 9}. Best is trial 0 with value: -43.333333333333336.\u001b[0m\n",
      "\u001b[32m[I 2023-03-29 16:56:46,517]\u001b[0m Trial 8 finished with value: -65.0 and parameters: {'n_estimators': 994, 'min_samples_split': 12, 'min_samples_leaf': 15, 'max_depth': 8}. Best is trial 0 with value: -43.333333333333336.\u001b[0m\n",
      "\u001b[32m[I 2023-03-29 16:56:53,810]\u001b[0m Trial 9 finished with value: -101.66666666666667 and parameters: {'n_estimators': 1424, 'min_samples_split': 5, 'min_samples_leaf': 11, 'max_depth': 2}. Best is trial 0 with value: -43.333333333333336.\u001b[0m\n",
      "\u001b[32m[I 2023-03-29 16:56:58,187]\u001b[0m Trial 10 finished with value: -33.333333333333336 and parameters: {'n_estimators': 725, 'min_samples_split': 20, 'min_samples_leaf': 5, 'max_depth': 10}. Best is trial 10 with value: -33.333333333333336.\u001b[0m\n",
      "\u001b[32m[I 2023-03-29 16:57:02,595]\u001b[0m Trial 11 finished with value: -35.0 and parameters: {'n_estimators': 711, 'min_samples_split': 19, 'min_samples_leaf': 5, 'max_depth': 10}. Best is trial 10 with value: -33.333333333333336.\u001b[0m\n",
      "\u001b[32m[I 2023-03-29 16:57:05,955]\u001b[0m Trial 12 finished with value: -36.666666666666664 and parameters: {'n_estimators': 535, 'min_samples_split': 19, 'min_samples_leaf': 8, 'max_depth': 10}. Best is trial 10 with value: -33.333333333333336.\u001b[0m\n",
      "/home/ec2-user/anaconda3/envs/python3/lib/python3.10/site-packages/optuna/samplers/_tpe/_erf.py:132: RuntimeWarning: divide by zero encountered in true_divide\n",
      "  s = one / (x * x)\n",
      "\u001b[32m[I 2023-03-29 16:57:09,963]\u001b[0m Trial 13 finished with value: -53.333333333333336 and parameters: {'n_estimators': 677, 'min_samples_split': 22, 'min_samples_leaf': 9, 'max_depth': 10}. Best is trial 10 with value: -33.333333333333336.\u001b[0m\n",
      "/home/ec2-user/anaconda3/envs/python3/lib/python3.10/site-packages/optuna/samplers/_tpe/_erf.py:132: RuntimeWarning: divide by zero encountered in true_divide\n",
      "  s = one / (x * x)\n",
      "\u001b[32m[I 2023-03-29 16:57:13,895]\u001b[0m Trial 14 finished with value: -31.666666666666668 and parameters: {'n_estimators': 651, 'min_samples_split': 16, 'min_samples_leaf': 5, 'max_depth': 10}. Best is trial 14 with value: -31.666666666666668.\u001b[0m\n",
      "\u001b[32m[I 2023-03-29 16:57:18,062]\u001b[0m Trial 15 finished with value: -75.0 and parameters: {'n_estimators': 730, 'min_samples_split': 15, 'min_samples_leaf': 20, 'max_depth': 8}. Best is trial 14 with value: -31.666666666666668.\u001b[0m\n",
      "\u001b[32m[I 2023-03-29 16:57:20,942]\u001b[0m Trial 16 finished with value: -60.0 and parameters: {'n_estimators': 493, 'min_samples_split': 14, 'min_samples_leaf': 14, 'max_depth': 9}. Best is trial 14 with value: -31.666666666666668.\u001b[0m\n",
      "/home/ec2-user/anaconda3/envs/python3/lib/python3.10/site-packages/optuna/samplers/_tpe/_erf.py:132: RuntimeWarning: divide by zero encountered in true_divide\n",
      "  s = one / (x * x)\n",
      "\u001b[32m[I 2023-03-29 16:57:25,918]\u001b[0m Trial 17 finished with value: -51.666666666666664 and parameters: {'n_estimators': 852, 'min_samples_split': 23, 'min_samples_leaf': 9, 'max_depth': 9}. Best is trial 14 with value: -31.666666666666668.\u001b[0m\n",
      "/home/ec2-user/anaconda3/envs/python3/lib/python3.10/site-packages/optuna/samplers/_tpe/_erf.py:132: RuntimeWarning: divide by zero encountered in true_divide\n",
      "  s = one / (x * x)\n",
      "\u001b[32m[I 2023-03-29 16:57:28,438]\u001b[0m Trial 18 finished with value: -65.0 and parameters: {'n_estimators': 423, 'min_samples_split': 16, 'min_samples_leaf': 12, 'max_depth': 7}. Best is trial 14 with value: -31.666666666666668.\u001b[0m\n",
      "\u001b[32m[I 2023-03-29 16:57:35,623]\u001b[0m Trial 19 finished with value: -33.333333333333336 and parameters: {'n_estimators': 1204, 'min_samples_split': 18, 'min_samples_leaf': 7, 'max_depth': 10}. Best is trial 14 with value: -31.666666666666668.\u001b[0m\n",
      "/home/ec2-user/anaconda3/envs/python3/lib/python3.10/site-packages/optuna/samplers/_tpe/_erf.py:132: RuntimeWarning: divide by zero encountered in true_divide\n",
      "  s = one / (x * x)\n",
      "\u001b[32m[I 2023-03-29 16:57:46,672]\u001b[0m Trial 20 finished with value: -68.33333333333333 and parameters: {'n_estimators': 1988, 'min_samples_split': 25, 'min_samples_leaf': 22, 'max_depth': 7}. Best is trial 14 with value: -31.666666666666668.\u001b[0m\n",
      "/home/ec2-user/anaconda3/envs/python3/lib/python3.10/site-packages/optuna/samplers/_tpe/_erf.py:132: RuntimeWarning: divide by zero encountered in true_divide\n",
      "  s = one / (x * x)\n",
      "\u001b[32m[I 2023-03-29 16:57:53,745]\u001b[0m Trial 21 finished with value: -35.0 and parameters: {'n_estimators': 1213, 'min_samples_split': 18, 'min_samples_leaf': 7, 'max_depth': 10}. Best is trial 14 with value: -31.666666666666668.\u001b[0m\n",
      "/home/ec2-user/anaconda3/envs/python3/lib/python3.10/site-packages/optuna/samplers/_tpe/_erf.py:132: RuntimeWarning: divide by zero encountered in true_divide\n",
      "  s = one / (x * x)\n",
      "\u001b[32m[I 2023-03-29 16:58:03,264]\u001b[0m Trial 22 finished with value: -38.333333333333336 and parameters: {'n_estimators': 1632, 'min_samples_split': 20, 'min_samples_leaf': 5, 'max_depth': 9}. Best is trial 14 with value: -31.666666666666668.\u001b[0m\n",
      "/home/ec2-user/anaconda3/envs/python3/lib/python3.10/site-packages/optuna/samplers/_tpe/_erf.py:132: RuntimeWarning: divide by zero encountered in true_divide\n",
      "  s = one / (x * x)\n",
      "\u001b[32m[I 2023-03-29 16:58:08,220]\u001b[0m Trial 23 finished with value: -31.666666666666668 and parameters: {'n_estimators': 842, 'min_samples_split': 17, 'min_samples_leaf': 8, 'max_depth': 10}. Best is trial 14 with value: -31.666666666666668.\u001b[0m\n",
      "/home/ec2-user/anaconda3/envs/python3/lib/python3.10/site-packages/optuna/samplers/_tpe/_erf.py:132: RuntimeWarning: divide by zero encountered in true_divide\n",
      "  s = one / (x * x)\n",
      "\u001b[32m[I 2023-03-29 16:58:13,130]\u001b[0m Trial 24 finished with value: -46.666666666666664 and parameters: {'n_estimators': 843, 'min_samples_split': 12, 'min_samples_leaf': 10, 'max_depth': 9}. Best is trial 14 with value: -31.666666666666668.\u001b[0m\n",
      "/home/ec2-user/anaconda3/envs/python3/lib/python3.10/site-packages/optuna/samplers/_tpe/_erf.py:132: RuntimeWarning: divide by zero encountered in true_divide\n",
      "  s = one / (x * x)\n",
      "\u001b[32m[I 2023-03-29 16:58:16,742]\u001b[0m Trial 25 finished with value: -33.333333333333336 and parameters: {'n_estimators': 609, 'min_samples_split': 13, 'min_samples_leaf': 8, 'max_depth': 8}. Best is trial 14 with value: -31.666666666666668.\u001b[0m\n",
      "\u001b[32m[I 2023-03-29 16:58:21,778]\u001b[0m Trial 26 finished with value: -70.0 and parameters: {'n_estimators': 879, 'min_samples_split': 17, 'min_samples_leaf': 16, 'max_depth': 10}. Best is trial 14 with value: -31.666666666666668.\u001b[0m\n",
      "/home/ec2-user/anaconda3/envs/python3/lib/python3.10/site-packages/optuna/samplers/_tpe/_erf.py:132: RuntimeWarning: divide by zero encountered in true_divide\n",
      "  s = one / (x * x)\n",
      "\u001b[32m[I 2023-03-29 16:58:24,130]\u001b[0m Trial 27 finished with value: -60.0 and parameters: {'n_estimators': 378, 'min_samples_split': 23, 'min_samples_leaf': 13, 'max_depth': 9}. Best is trial 14 with value: -31.666666666666668.\u001b[0m\n",
      "\u001b[32m[I 2023-03-29 16:58:25,074]\u001b[0m Trial 28 finished with value: -33.333333333333336 and parameters: {'n_estimators': 141, 'min_samples_split': 17, 'min_samples_leaf': 7, 'max_depth': 10}. Best is trial 14 with value: -31.666666666666668.\u001b[0m\n",
      "/home/ec2-user/anaconda3/envs/python3/lib/python3.10/site-packages/optuna/samplers/_tpe/_erf.py:132: RuntimeWarning: divide by zero encountered in true_divide\n",
      "  s = one / (x * x)\n",
      "\u001b[32m[I 2023-03-29 16:58:31,396]\u001b[0m Trial 29 finished with value: -48.333333333333336 and parameters: {'n_estimators': 1064, 'min_samples_split': 21, 'min_samples_leaf': 5, 'max_depth': 6}. Best is trial 14 with value: -31.666666666666668.\u001b[0m\n"
     ]
    }
   ],
   "source": [
    "SEED= 42\n",
    "N_TRIALS= 30\n",
    "\n",
    "study_1= optuna.create_study(direction= 'maximize')\n",
    "study_1.optimize(Objective(SEED), n_trials= N_TRIALS)"
   ]
  },
  {
   "cell_type": "code",
   "execution_count": 155,
   "id": "d99f571b-3cb6-43d2-8b1b-837422722f50",
   "metadata": {
    "tags": []
   },
   "outputs": [
    {
     "data": {
      "text/plain": [
       "{'n_estimators': 651,\n",
       " 'min_samples_split': 16,\n",
       " 'min_samples_leaf': 5,\n",
       " 'max_depth': 10}"
      ]
     },
     "execution_count": 155,
     "metadata": {},
     "output_type": "execute_result"
    }
   ],
   "source": [
    "study_1.best_trial.params"
   ]
  },
  {
   "cell_type": "code",
   "execution_count": null,
   "id": "be169b5c-b950-41c6-880a-9642286f2f75",
   "metadata": {},
   "outputs": [],
   "source": [
    "6 variables"
   ]
  },
  {
   "cell_type": "code",
   "execution_count": 156,
   "id": "3ca9832b-9600-47ab-a6e3-af00df746633",
   "metadata": {
    "tags": []
   },
   "outputs": [],
   "source": [
    "#Defining input and target variables\n",
    "x_train_6= train[['trustLevel', 'interaction_3', 'interaction_1', 'NL_totalScanTimeInSeconds', '1_scannedLineItemsPerSecond', 'scannedLineItemsPerSecond']] \n",
    "y_train= train['fraud']"
   ]
  },
  {
   "cell_type": "code",
   "execution_count": 157,
   "id": "140e0ebb-d0b4-4eb0-a318-a3b79799a452",
   "metadata": {
    "tags": []
   },
   "outputs": [],
   "source": [
    "class Objective:\n",
    "    def __init__(self, seed):\n",
    "        self.seed = seed\n",
    "        \n",
    "    def __call__(self, trial):\n",
    "    ## Parameters to be evaluated\n",
    "        params = dict(n_estimators = trial.suggest_int('n_estimators', 100, 2000),\n",
    "            min_samples_split = trial.suggest_int('min_samples_split', 5, 30),\n",
    "            min_samples_leaf = trial.suggest_int('min_samples_leaf', 5, 30),\n",
    "            max_depth = trial.suggest_int('max_depth', 2, 10)\n",
    "            )\n",
    "        scores= list()\n",
    "         \n",
    "        #Running cross validation\n",
    "        skf = StratifiedKFold(n_splits = 3, shuffle = True, random_state = self.seed)\n",
    "       \n",
    "        for train_idx, valid_idx in skf.split(x_train_6, y_train):\n",
    "            x_train_1, x_valid_1 = x_train_6.iloc[train_idx], x_train_6.iloc[valid_idx]\n",
    "            y_train_1 , y_valid_1 = y_train.iloc[train_idx] , y_train.iloc[valid_idx]\n",
    "         \n",
    "            rf_md = RandomForestClassifier(**params).fit(x_train_1, y_train_1)\n",
    "         \n",
    "            preds_valid = rf_md.predict_proba(x_valid_1)[:,1]\n",
    "            \n",
    "            score = cost_function(y_valid_1, preds_valid)\n",
    "            \n",
    "            scores.append(score)\n",
    "         \n",
    "        return np.mean(scores)"
   ]
  },
  {
   "cell_type": "code",
   "execution_count": 158,
   "id": "e902860a-c039-4459-9d79-46eaa04628e1",
   "metadata": {
    "collapsed": true,
    "jupyter": {
     "outputs_hidden": true
    },
    "tags": []
   },
   "outputs": [
    {
     "name": "stderr",
     "output_type": "stream",
     "text": [
      "\u001b[32m[I 2023-03-29 17:01:46,918]\u001b[0m A new study created in memory with name: no-name-f522eaaa-6a72-43a8-910e-408de20d9bee\u001b[0m\n",
      "\u001b[32m[I 2023-03-29 17:01:52,635]\u001b[0m Trial 0 finished with value: -61.666666666666664 and parameters: {'n_estimators': 907, 'min_samples_split': 25, 'min_samples_leaf': 22, 'max_depth': 10}. Best is trial 0 with value: -61.666666666666664.\u001b[0m\n",
      "\u001b[32m[I 2023-03-29 17:02:00,562]\u001b[0m Trial 1 finished with value: -58.333333333333336 and parameters: {'n_estimators': 1409, 'min_samples_split': 30, 'min_samples_leaf': 10, 'max_depth': 4}. Best is trial 1 with value: -58.333333333333336.\u001b[0m\n",
      "\u001b[32m[I 2023-03-29 17:02:04,946]\u001b[0m Trial 2 finished with value: -63.333333333333336 and parameters: {'n_estimators': 763, 'min_samples_split': 24, 'min_samples_leaf': 24, 'max_depth': 8}. Best is trial 1 with value: -58.333333333333336.\u001b[0m\n",
      "\u001b[32m[I 2023-03-29 17:02:10,993]\u001b[0m Trial 3 finished with value: -46.666666666666664 and parameters: {'n_estimators': 1051, 'min_samples_split': 7, 'min_samples_leaf': 13, 'max_depth': 10}. Best is trial 3 with value: -46.666666666666664.\u001b[0m\n",
      "\u001b[32m[I 2023-03-29 17:02:17,123]\u001b[0m Trial 4 finished with value: -48.333333333333336 and parameters: {'n_estimators': 1063, 'min_samples_split': 18, 'min_samples_leaf': 7, 'max_depth': 5}. Best is trial 3 with value: -46.666666666666664.\u001b[0m\n",
      "\u001b[32m[I 2023-03-29 17:02:23,885]\u001b[0m Trial 5 finished with value: -66.66666666666667 and parameters: {'n_estimators': 1210, 'min_samples_split': 17, 'min_samples_leaf': 18, 'max_depth': 4}. Best is trial 3 with value: -46.666666666666664.\u001b[0m\n",
      "\u001b[32m[I 2023-03-29 17:02:32,935]\u001b[0m Trial 6 finished with value: -83.33333333333333 and parameters: {'n_estimators': 1677, 'min_samples_split': 8, 'min_samples_leaf': 9, 'max_depth': 3}. Best is trial 3 with value: -46.666666666666664.\u001b[0m\n",
      "\u001b[32m[I 2023-03-29 17:02:40,299]\u001b[0m Trial 7 finished with value: -41.666666666666664 and parameters: {'n_estimators': 1264, 'min_samples_split': 24, 'min_samples_leaf': 7, 'max_depth': 10}. Best is trial 7 with value: -41.666666666666664.\u001b[0m\n",
      "\u001b[32m[I 2023-03-29 17:02:41,341]\u001b[0m Trial 8 finished with value: -83.33333333333333 and parameters: {'n_estimators': 186, 'min_samples_split': 24, 'min_samples_leaf': 14, 'max_depth': 2}. Best is trial 7 with value: -41.666666666666664.\u001b[0m\n",
      "\u001b[32m[I 2023-03-29 17:02:44,149]\u001b[0m Trial 9 finished with value: -60.0 and parameters: {'n_estimators': 488, 'min_samples_split': 27, 'min_samples_leaf': 23, 'max_depth': 8}. Best is trial 7 with value: -41.666666666666664.\u001b[0m\n",
      "\u001b[32m[I 2023-03-29 17:02:54,502]\u001b[0m Trial 10 finished with value: -60.0 and parameters: {'n_estimators': 1861, 'min_samples_split': 18, 'min_samples_leaf': 29, 'max_depth': 7}. Best is trial 7 with value: -41.666666666666664.\u001b[0m\n",
      "\u001b[32m[I 2023-03-29 17:03:02,669]\u001b[0m Trial 11 finished with value: -55.0 and parameters: {'n_estimators': 1382, 'min_samples_split': 6, 'min_samples_leaf': 13, 'max_depth': 10}. Best is trial 7 with value: -41.666666666666664.\u001b[0m\n",
      "\u001b[32m[I 2023-03-29 17:03:06,882]\u001b[0m Trial 12 finished with value: -23.333333333333332 and parameters: {'n_estimators': 684, 'min_samples_split': 13, 'min_samples_leaf': 5, 'max_depth': 9}. Best is trial 12 with value: -23.333333333333332.\u001b[0m\n",
      "\u001b[32m[I 2023-03-29 17:03:10,740]\u001b[0m Trial 13 finished with value: -23.333333333333332 and parameters: {'n_estimators': 639, 'min_samples_split': 13, 'min_samples_leaf': 5, 'max_depth': 8}. Best is trial 12 with value: -23.333333333333332.\u001b[0m\n",
      "/home/ec2-user/anaconda3/envs/python3/lib/python3.10/site-packages/optuna/samplers/_tpe/_erf.py:132: RuntimeWarning: divide by zero encountered in true_divide\n",
      "  s = one / (x * x)\n",
      "\u001b[32m[I 2023-03-29 17:03:14,352]\u001b[0m Trial 14 finished with value: -13.333333333333334 and parameters: {'n_estimators': 597, 'min_samples_split': 12, 'min_samples_leaf': 5, 'max_depth': 8}. Best is trial 14 with value: -13.333333333333334.\u001b[0m\n",
      "\u001b[32m[I 2023-03-29 17:03:16,092]\u001b[0m Trial 15 finished with value: -36.666666666666664 and parameters: {'n_estimators': 275, 'min_samples_split': 12, 'min_samples_leaf': 5, 'max_depth': 6}. Best is trial 14 with value: -13.333333333333334.\u001b[0m\n",
      "/home/ec2-user/anaconda3/envs/python3/lib/python3.10/site-packages/optuna/samplers/_tpe/_erf.py:132: RuntimeWarning: divide by zero encountered in true_divide\n",
      "  s = one / (x * x)\n",
      "\u001b[32m[I 2023-03-29 17:03:18,755]\u001b[0m Trial 16 finished with value: -55.0 and parameters: {'n_estimators': 447, 'min_samples_split': 11, 'min_samples_leaf': 17, 'max_depth': 9}. Best is trial 14 with value: -13.333333333333334.\u001b[0m\n",
      "/home/ec2-user/anaconda3/envs/python3/lib/python3.10/site-packages/optuna/samplers/_tpe/_erf.py:132: RuntimeWarning: divide by zero encountered in true_divide\n",
      "  s = one / (x * x)\n",
      "\u001b[32m[I 2023-03-29 17:03:23,043]\u001b[0m Trial 17 finished with value: -30.0 and parameters: {'n_estimators': 718, 'min_samples_split': 15, 'min_samples_leaf': 10, 'max_depth': 7}. Best is trial 14 with value: -13.333333333333334.\u001b[0m\n",
      "\u001b[32m[I 2023-03-29 17:03:25,682]\u001b[0m Trial 18 finished with value: -60.0 and parameters: {'n_estimators': 442, 'min_samples_split': 10, 'min_samples_leaf': 17, 'max_depth': 9}. Best is trial 14 with value: -13.333333333333334.\u001b[0m\n",
      "\u001b[32m[I 2023-03-29 17:03:30,746]\u001b[0m Trial 19 finished with value: -41.666666666666664 and parameters: {'n_estimators': 857, 'min_samples_split': 20, 'min_samples_leaf': 7, 'max_depth': 6}. Best is trial 14 with value: -13.333333333333334.\u001b[0m\n",
      "/home/ec2-user/anaconda3/envs/python3/lib/python3.10/site-packages/optuna/samplers/_tpe/_erf.py:132: RuntimeWarning: divide by zero encountered in true_divide\n",
      "  s = one / (x * x)\n",
      "\u001b[32m[I 2023-03-29 17:03:31,494]\u001b[0m Trial 20 finished with value: -38.333333333333336 and parameters: {'n_estimators': 107, 'min_samples_split': 14, 'min_samples_leaf': 11, 'max_depth': 7}. Best is trial 14 with value: -13.333333333333334.\u001b[0m\n",
      "\u001b[32m[I 2023-03-29 17:03:35,285]\u001b[0m Trial 21 finished with value: -21.666666666666668 and parameters: {'n_estimators': 624, 'min_samples_split': 14, 'min_samples_leaf': 5, 'max_depth': 8}. Best is trial 14 with value: -13.333333333333334.\u001b[0m\n",
      "/home/ec2-user/anaconda3/envs/python3/lib/python3.10/site-packages/optuna/samplers/_tpe/_erf.py:132: RuntimeWarning: divide by zero encountered in true_divide\n",
      "  s = one / (x * x)\n",
      "\u001b[32m[I 2023-03-29 17:03:38,849]\u001b[0m Trial 22 finished with value: -11.666666666666666 and parameters: {'n_estimators': 587, 'min_samples_split': 9, 'min_samples_leaf': 5, 'max_depth': 9}. Best is trial 22 with value: -11.666666666666666.\u001b[0m\n",
      "\u001b[32m[I 2023-03-29 17:03:42,027]\u001b[0m Trial 23 finished with value: -23.333333333333332 and parameters: {'n_estimators': 525, 'min_samples_split': 9, 'min_samples_leaf': 8, 'max_depth': 8}. Best is trial 22 with value: -11.666666666666666.\u001b[0m\n",
      "\u001b[32m[I 2023-03-29 17:03:44,452]\u001b[0m Trial 24 finished with value: -23.333333333333332 and parameters: {'n_estimators': 390, 'min_samples_split': 16, 'min_samples_leaf': 5, 'max_depth': 9}. Best is trial 22 with value: -11.666666666666666.\u001b[0m\n",
      "\u001b[32m[I 2023-03-29 17:03:49,638]\u001b[0m Trial 25 finished with value: -48.333333333333336 and parameters: {'n_estimators': 882, 'min_samples_split': 20, 'min_samples_leaf': 11, 'max_depth': 7}. Best is trial 22 with value: -11.666666666666666.\u001b[0m\n",
      "\u001b[32m[I 2023-03-29 17:03:53,030]\u001b[0m Trial 26 finished with value: -66.66666666666667 and parameters: {'n_estimators': 592, 'min_samples_split': 5, 'min_samples_leaf': 30, 'max_depth': 8}. Best is trial 22 with value: -11.666666666666666.\u001b[0m\n",
      "\u001b[32m[I 2023-03-29 17:03:54,650]\u001b[0m Trial 27 finished with value: -36.666666666666664 and parameters: {'n_estimators': 257, 'min_samples_split': 10, 'min_samples_leaf': 8, 'max_depth': 6}. Best is trial 22 with value: -11.666666666666666.\u001b[0m\n",
      "/home/ec2-user/anaconda3/envs/python3/lib/python3.10/site-packages/optuna/samplers/_tpe/_erf.py:132: RuntimeWarning: divide by zero encountered in true_divide\n",
      "  s = one / (x * x)\n",
      "\u001b[32m[I 2023-03-29 17:03:56,464]\u001b[0m Trial 28 finished with value: -50.0 and parameters: {'n_estimators': 296, 'min_samples_split': 8, 'min_samples_leaf': 15, 'max_depth': 9}. Best is trial 22 with value: -11.666666666666666.\u001b[0m\n",
      "/home/ec2-user/anaconda3/envs/python3/lib/python3.10/site-packages/optuna/samplers/_tpe/_erf.py:132: RuntimeWarning: divide by zero encountered in true_divide\n",
      "  s = one / (x * x)\n",
      "\u001b[32m[I 2023-03-29 17:04:02,151]\u001b[0m Trial 29 finished with value: -58.333333333333336 and parameters: {'n_estimators': 979, 'min_samples_split': 12, 'min_samples_leaf': 20, 'max_depth': 10}. Best is trial 22 with value: -11.666666666666666.\u001b[0m\n"
     ]
    }
   ],
   "source": [
    "SEED= 42\n",
    "N_TRIALS= 30\n",
    "\n",
    "study_2= optuna.create_study(direction= 'maximize')\n",
    "study_2.optimize(Objective(SEED), n_trials= N_TRIALS)"
   ]
  },
  {
   "cell_type": "code",
   "execution_count": 159,
   "id": "0525bc25-410d-4e69-9dde-49361a105920",
   "metadata": {
    "tags": []
   },
   "outputs": [
    {
     "data": {
      "text/plain": [
       "{'n_estimators': 587,\n",
       " 'min_samples_split': 9,\n",
       " 'min_samples_leaf': 5,\n",
       " 'max_depth': 9}"
      ]
     },
     "execution_count": 159,
     "metadata": {},
     "output_type": "execute_result"
    }
   ],
   "source": [
    "study_2.best_trial.params"
   ]
  },
  {
   "cell_type": "code",
   "execution_count": null,
   "id": "01ebbced-0fc8-434d-a2d2-415c3a28a183",
   "metadata": {},
   "outputs": [],
   "source": [
    "7 Variables- BEST"
   ]
  },
  {
   "cell_type": "code",
   "execution_count": 160,
   "id": "ba2c742b-1307-4ad3-9568-18368cfeb6de",
   "metadata": {
    "tags": []
   },
   "outputs": [],
   "source": [
    "#Defining input and target variables\n",
    "x_train_7= train[['trustLevel', 'interaction_3', 'interaction_1', 'NL_totalScanTimeInSeconds', '1_scannedLineItemsPerSecond', 'scannedLineItemsPerSecond', 'cubed_lineItemVoidsPerPosition']] \n",
    "y_train= train['fraud']"
   ]
  },
  {
   "cell_type": "code",
   "execution_count": 161,
   "id": "0b44576c-9366-4cfd-8cd8-f0654ecfd815",
   "metadata": {
    "tags": []
   },
   "outputs": [],
   "source": [
    "class Objective:\n",
    "    def __init__(self, seed):\n",
    "        self.seed = seed\n",
    "        \n",
    "    def __call__(self, trial):\n",
    "    ## Parameters to be evaluated\n",
    "        params = dict(n_estimators = trial.suggest_int('n_estimators', 100, 2000),\n",
    "            min_samples_split = trial.suggest_int('min_samples_split', 5, 30),\n",
    "            min_samples_leaf = trial.suggest_int('min_samples_leaf', 5, 30),\n",
    "            max_depth = trial.suggest_int('max_depth', 2, 10)\n",
    "            )\n",
    "        scores= list()\n",
    "         \n",
    "        #Running cross validation\n",
    "        skf = StratifiedKFold(n_splits = 3, shuffle = True, random_state = self.seed)\n",
    "       \n",
    "        for train_idx, valid_idx in skf.split(x_train_7, y_train):\n",
    "            x_train_1, x_valid_1 = x_train_7.iloc[train_idx], x_train_7.iloc[valid_idx]\n",
    "            y_train_1 , y_valid_1 = y_train.iloc[train_idx] , y_train.iloc[valid_idx]\n",
    "         \n",
    "            rf_md = RandomForestClassifier(**params).fit(x_train_1, y_train_1)\n",
    "         \n",
    "            preds_valid = rf_md.predict_proba(x_valid_1)[:,1]\n",
    "            \n",
    "            score = cost_function(y_valid_1, preds_valid)\n",
    "            \n",
    "            scores.append(score)\n",
    "         \n",
    "        return np.mean(scores)"
   ]
  },
  {
   "cell_type": "code",
   "execution_count": 162,
   "id": "781395b4-5d09-404e-97ac-4c25ec348160",
   "metadata": {
    "collapsed": true,
    "jupyter": {
     "outputs_hidden": true
    },
    "tags": []
   },
   "outputs": [
    {
     "name": "stderr",
     "output_type": "stream",
     "text": [
      "\u001b[32m[I 2023-03-29 17:04:50,660]\u001b[0m A new study created in memory with name: no-name-a4379683-1f59-4a41-9cb5-80b1df9ef8b7\u001b[0m\n",
      "\u001b[32m[I 2023-03-29 17:04:52,586]\u001b[0m Trial 0 finished with value: -95.0 and parameters: {'n_estimators': 216, 'min_samples_split': 18, 'min_samples_leaf': 10, 'max_depth': 2}. Best is trial 0 with value: -95.0.\u001b[0m\n",
      "\u001b[32m[I 2023-03-29 17:04:56,176]\u001b[0m Trial 1 finished with value: -71.66666666666667 and parameters: {'n_estimators': 541, 'min_samples_split': 20, 'min_samples_leaf': 24, 'max_depth': 6}. Best is trial 1 with value: -71.66666666666667.\u001b[0m\n",
      "\u001b[32m[I 2023-03-29 17:05:05,807]\u001b[0m Trial 2 finished with value: -88.33333333333333 and parameters: {'n_estimators': 1910, 'min_samples_split': 24, 'min_samples_leaf': 25, 'max_depth': 2}. Best is trial 1 with value: -71.66666666666667.\u001b[0m\n",
      "\u001b[32m[I 2023-03-29 17:05:10,589]\u001b[0m Trial 3 finished with value: -48.333333333333336 and parameters: {'n_estimators': 809, 'min_samples_split': 30, 'min_samples_leaf': 5, 'max_depth': 9}. Best is trial 3 with value: -48.333333333333336.\u001b[0m\n",
      "\u001b[32m[I 2023-03-29 17:05:17,603]\u001b[0m Trial 4 finished with value: -60.0 and parameters: {'n_estimators': 1196, 'min_samples_split': 21, 'min_samples_leaf': 19, 'max_depth': 9}. Best is trial 3 with value: -48.333333333333336.\u001b[0m\n",
      "\u001b[32m[I 2023-03-29 17:05:20,991]\u001b[0m Trial 5 finished with value: -71.66666666666667 and parameters: {'n_estimators': 596, 'min_samples_split': 6, 'min_samples_leaf': 28, 'max_depth': 6}. Best is trial 3 with value: -48.333333333333336.\u001b[0m\n",
      "\u001b[32m[I 2023-03-29 17:05:31,362]\u001b[0m Trial 6 finished with value: -26.666666666666668 and parameters: {'n_estimators': 1798, 'min_samples_split': 5, 'min_samples_leaf': 10, 'max_depth': 7}. Best is trial 6 with value: -26.666666666666668.\u001b[0m\n",
      "\u001b[32m[I 2023-03-29 17:05:39,477]\u001b[0m Trial 7 finished with value: -63.333333333333336 and parameters: {'n_estimators': 1469, 'min_samples_split': 6, 'min_samples_leaf': 27, 'max_depth': 4}. Best is trial 6 with value: -26.666666666666668.\u001b[0m\n",
      "\u001b[32m[I 2023-03-29 17:05:43,072]\u001b[0m Trial 8 finished with value: -10.0 and parameters: {'n_estimators': 604, 'min_samples_split': 14, 'min_samples_leaf': 8, 'max_depth': 9}. Best is trial 8 with value: -10.0.\u001b[0m\n",
      "\u001b[32m[I 2023-03-29 17:05:52,033]\u001b[0m Trial 9 finished with value: -60.0 and parameters: {'n_estimators': 1557, 'min_samples_split': 14, 'min_samples_leaf': 14, 'max_depth': 6}. Best is trial 8 with value: -10.0.\u001b[0m\n",
      "\u001b[32m[I 2023-03-29 17:05:52,931]\u001b[0m Trial 10 finished with value: 3.3333333333333335 and parameters: {'n_estimators': 131, 'min_samples_split': 12, 'min_samples_leaf': 7, 'max_depth': 10}. Best is trial 10 with value: 3.3333333333333335.\u001b[0m\n",
      "\u001b[32m[I 2023-03-29 17:05:53,877]\u001b[0m Trial 11 finished with value: -3.3333333333333335 and parameters: {'n_estimators': 139, 'min_samples_split': 13, 'min_samples_leaf': 5, 'max_depth': 10}. Best is trial 10 with value: 3.3333333333333335.\u001b[0m\n",
      "\u001b[32m[I 2023-03-29 17:05:54,929]\u001b[0m Trial 12 finished with value: -11.666666666666666 and parameters: {'n_estimators': 154, 'min_samples_split': 12, 'min_samples_leaf': 5, 'max_depth': 10}. Best is trial 10 with value: 3.3333333333333335.\u001b[0m\n",
      "\u001b[32m[I 2023-03-29 17:05:56,923]\u001b[0m Trial 13 finished with value: -48.333333333333336 and parameters: {'n_estimators': 325, 'min_samples_split': 10, 'min_samples_leaf': 15, 'max_depth': 10}. Best is trial 10 with value: 3.3333333333333335.\u001b[0m\n",
      "\u001b[32m[I 2023-03-29 17:06:02,186]\u001b[0m Trial 14 finished with value: -68.33333333333333 and parameters: {'n_estimators': 915, 'min_samples_split': 10, 'min_samples_leaf': 19, 'max_depth': 8}. Best is trial 10 with value: 3.3333333333333335.\u001b[0m\n",
      "\u001b[32m[I 2023-03-29 17:06:04,574]\u001b[0m Trial 15 finished with value: -18.333333333333332 and parameters: {'n_estimators': 384, 'min_samples_split': 16, 'min_samples_leaf': 8, 'max_depth': 8}. Best is trial 10 with value: 3.3333333333333335.\u001b[0m\n",
      "/home/ec2-user/anaconda3/envs/python3/lib/python3.10/site-packages/optuna/samplers/_tpe/_erf.py:132: RuntimeWarning: divide by zero encountered in true_divide\n",
      "  s = one / (x * x)\n",
      "\u001b[32m[I 2023-03-29 17:06:11,531]\u001b[0m Trial 16 finished with value: -50.0 and parameters: {'n_estimators': 1153, 'min_samples_split': 9, 'min_samples_leaf': 13, 'max_depth': 4}. Best is trial 10 with value: 3.3333333333333335.\u001b[0m\n",
      "/home/ec2-user/anaconda3/envs/python3/lib/python3.10/site-packages/optuna/samplers/_tpe/_erf.py:132: RuntimeWarning: divide by zero encountered in true_divide\n",
      "  s = one / (x * x)\n",
      "\u001b[32m[I 2023-03-29 17:06:14,122]\u001b[0m Trial 17 finished with value: -40.0 and parameters: {'n_estimators': 401, 'min_samples_split': 24, 'min_samples_leaf': 5, 'max_depth': 10}. Best is trial 10 with value: 3.3333333333333335.\u001b[0m\n",
      "\u001b[32m[I 2023-03-29 17:06:14,861]\u001b[0m Trial 18 finished with value: -33.333333333333336 and parameters: {'n_estimators': 105, 'min_samples_split': 16, 'min_samples_leaf': 10, 'max_depth': 8}. Best is trial 10 with value: 3.3333333333333335.\u001b[0m\n",
      "/home/ec2-user/anaconda3/envs/python3/lib/python3.10/site-packages/optuna/samplers/_tpe/_erf.py:132: RuntimeWarning: divide by zero encountered in true_divide\n",
      "  s = one / (x * x)\n",
      "\u001b[32m[I 2023-03-29 17:06:19,054]\u001b[0m Trial 19 finished with value: -56.666666666666664 and parameters: {'n_estimators': 733, 'min_samples_split': 12, 'min_samples_leaf': 17, 'max_depth': 4}. Best is trial 10 with value: 3.3333333333333335.\u001b[0m\n",
      "\u001b[32m[I 2023-03-29 17:06:25,234]\u001b[0m Trial 20 finished with value: -23.333333333333332 and parameters: {'n_estimators': 1017, 'min_samples_split': 8, 'min_samples_leaf': 7, 'max_depth': 7}. Best is trial 10 with value: 3.3333333333333335.\u001b[0m\n",
      "\u001b[32m[I 2023-03-29 17:06:28,979]\u001b[0m Trial 21 finished with value: -20.0 and parameters: {'n_estimators': 623, 'min_samples_split': 13, 'min_samples_leaf': 8, 'max_depth': 9}. Best is trial 10 with value: 3.3333333333333335.\u001b[0m\n",
      "\u001b[32m[I 2023-03-29 17:06:31,390]\u001b[0m Trial 22 finished with value: -45.0 and parameters: {'n_estimators': 398, 'min_samples_split': 15, 'min_samples_leaf': 11, 'max_depth': 10}. Best is trial 10 with value: 3.3333333333333335.\u001b[0m\n",
      "\u001b[32m[I 2023-03-29 17:06:32,997]\u001b[0m Trial 23 finished with value: -8.333333333333334 and parameters: {'n_estimators': 256, 'min_samples_split': 19, 'min_samples_leaf': 7, 'max_depth': 9}. Best is trial 10 with value: 3.3333333333333335.\u001b[0m\n",
      "\u001b[32m[I 2023-03-29 17:06:34,634]\u001b[0m Trial 24 finished with value: -45.0 and parameters: {'n_estimators': 264, 'min_samples_split': 20, 'min_samples_leaf': 12, 'max_depth': 10}. Best is trial 10 with value: 3.3333333333333335.\u001b[0m\n",
      "\u001b[32m[I 2023-03-29 17:06:35,610]\u001b[0m Trial 25 finished with value: -33.333333333333336 and parameters: {'n_estimators': 146, 'min_samples_split': 18, 'min_samples_leaf': 7, 'max_depth': 9}. Best is trial 10 with value: 3.3333333333333335.\u001b[0m\n",
      "\u001b[32m[I 2023-03-29 17:06:38,140]\u001b[0m Trial 26 finished with value: -51.666666666666664 and parameters: {'n_estimators': 426, 'min_samples_split': 23, 'min_samples_leaf': 16, 'max_depth': 8}. Best is trial 10 with value: 3.3333333333333335.\u001b[0m\n",
      "\u001b[32m[I 2023-03-29 17:06:38,883]\u001b[0m Trial 27 finished with value: -53.333333333333336 and parameters: {'n_estimators': 106, 'min_samples_split': 30, 'min_samples_leaf': 6, 'max_depth': 7}. Best is trial 10 with value: 3.3333333333333335.\u001b[0m\n",
      "/home/ec2-user/anaconda3/envs/python3/lib/python3.10/site-packages/optuna/samplers/_tpe/_erf.py:132: RuntimeWarning: divide by zero encountered in true_divide\n",
      "  s = one / (x * x)\n",
      "\u001b[32m[I 2023-03-29 17:06:41,904]\u001b[0m Trial 28 finished with value: -46.666666666666664 and parameters: {'n_estimators': 494, 'min_samples_split': 27, 'min_samples_leaf': 9, 'max_depth': 10}. Best is trial 10 with value: 3.3333333333333335.\u001b[0m\n",
      "\u001b[32m[I 2023-03-29 17:06:43,635]\u001b[0m Trial 29 finished with value: -45.0 and parameters: {'n_estimators': 279, 'min_samples_split': 17, 'min_samples_leaf': 12, 'max_depth': 9}. Best is trial 10 with value: 3.3333333333333335.\u001b[0m\n"
     ]
    }
   ],
   "source": [
    "SEED= 42\n",
    "N_TRIALS= 30\n",
    "\n",
    "study_3= optuna.create_study(direction= 'maximize')\n",
    "study_3.optimize(Objective(SEED), n_trials= N_TRIALS)"
   ]
  },
  {
   "cell_type": "code",
   "execution_count": 163,
   "id": "234f7384-39db-4002-a6e9-fca53b16cd0b",
   "metadata": {
    "tags": []
   },
   "outputs": [
    {
     "data": {
      "text/plain": [
       "{'n_estimators': 131,\n",
       " 'min_samples_split': 12,\n",
       " 'min_samples_leaf': 7,\n",
       " 'max_depth': 10}"
      ]
     },
     "execution_count": 163,
     "metadata": {},
     "output_type": "execute_result"
    }
   ],
   "source": [
    "study_3.best_trial.params"
   ]
  },
  {
   "cell_type": "code",
   "execution_count": 133,
   "id": "3d640272-a7e2-4360-8c0b-71622218bc21",
   "metadata": {
    "tags": []
   },
   "outputs": [],
   "source": [
    "#Defining input and target variables\n",
    "x = train[['trustLevel', 'interaction_3', 'interaction_1', 'NL_totalScanTimeInSeconds', '1_scannedLineItemsPerSecond', 'scannedLineItemsPerSecond', 'cubed_lineItemVoidsPerPosition']] \n",
    "y= train['fraud']\n",
    "\n",
    "#splitting the data\n",
    "x_training,x_val,y_training,y_val = train_test_split(x,y,test_size=0.2,stratify=y)"
   ]
  },
  {
   "cell_type": "code",
   "execution_count": 135,
   "id": "eeccb407-630d-4a01-9ede-bea64ad638be",
   "metadata": {
    "tags": []
   },
   "outputs": [],
   "source": [
    "#best xgboost model\n",
    "    #Best hyper-parameter combo {'colsample_bytree': 1, 'gamma': 0.3, 'learning_rate': 0.01, 'max_depth': 5, 'min_child_weight': 5, 'n_estimators': 500, 'subsample': 0.8}\n",
    "    #Best score: -1.6666666666666667"
   ]
  },
  {
   "cell_type": "code",
   "execution_count": 136,
   "id": "98a09df0-7ce0-484b-bfa7-791bde1dc0ac",
   "metadata": {
    "tags": []
   },
   "outputs": [],
   "source": [
    "x_training_5= x_training.drop(columns=['scannedLineItemsPerSecond', 'cubed_lineItemVoidsPerPosition'])\n",
    "x_val_5= x_val.drop(columns=['scannedLineItemsPerSecond', 'cubed_lineItemVoidsPerPosition'])\n",
    "test_5= test[['trustLevel', 'interaction_3', 'interaction_1', 'NL_totalScanTimeInSeconds', '1_scannedLineItemsPerSecond']]"
   ]
  },
  {
   "cell_type": "code",
   "execution_count": 167,
   "id": "9735390f-9086-40e2-a440-9c8c5bc0a15e",
   "metadata": {
    "tags": []
   },
   "outputs": [],
   "source": [
    "test = test[['trustLevel', 'interaction_3', 'interaction_1', 'NL_totalScanTimeInSeconds', '1_scannedLineItemsPerSecond', 'scannedLineItemsPerSecond', 'cubed_lineItemVoidsPerPosition']] "
   ]
  },
  {
   "cell_type": "code",
   "execution_count": 146,
   "id": "fb5dc515-2296-4210-bfc4-4bdff640120e",
   "metadata": {
    "tags": []
   },
   "outputs": [],
   "source": [
    "#building model\n",
    "xgb_param_grid = {'n_estimators': [500],\n",
    "'max_depth': [3, 5, 7],\n",
    "'min_child_weight': [5, 7],\n",
    "'learning_rate': [0.01],\n",
    "'gamma': [0.3, 0.1],\n",
    "'subsample': [0.8, 1],\n",
    "'colsample_bytree': [1]}\n",
    "\n",
    "#defining customized scoring function\n",
    "my_score_function= make_scorer(cost_function, greater_is_better= True, needs_proba= True)\n",
    "\n",
    "#runnning gridsearchCV\n",
    "xgb_grid_search_1= GridSearchCV(estimator= XGBClassifier(), param_grid= xgb_param_grid, cv= 3, scoring= my_score_function, n_jobs=-1).fit(x_training_5, y_training)\n",
    "\n",
    "#Extracting best hyperparamter combo\n",
    "xgb_md= xgb_grid_search_1.best_estimator_\n",
    "\n",
    "#prediciting on test and val\n",
    "xgb_test_pred= xgb_md.predict_proba(test_5)[:,1]\n",
    "xgb_val_pred= xgb_md.predict_proba(x_val_5)[:,1]"
   ]
  },
  {
   "cell_type": "code",
   "execution_count": null,
   "id": "d2c65480-c122-4246-aa81-9708e395961d",
   "metadata": {},
   "outputs": [],
   "source": [
    "#best ada model   \n",
    "    #Best hyper-parameter combo {'n_estimators': 300, 'learning_rate': 0.01, 'base_estimator__min_samples_split': 15, 'base_estimator__min_samples_leaf': 7, 'base_estimator__max_depth': 7}\n",
    "    #Best score: 5.0"
   ]
  },
  {
   "cell_type": "code",
   "execution_count": 142,
   "id": "4868c56b-b434-4b34-a973-973f2f760033",
   "metadata": {
    "collapsed": true,
    "jupyter": {
     "outputs_hidden": true
    },
    "tags": []
   },
   "outputs": [
    {
     "name": "stderr",
     "output_type": "stream",
     "text": [
      "/home/ec2-user/anaconda3/envs/python3/lib/python3.10/site-packages/sklearn/model_selection/_search.py:306: UserWarning: The total space of parameters 24 is smaller than n_iter=30. Running 24 iterations. For exhaustive searches, use GridSearchCV.\n",
      "  warnings.warn(\n",
      "/home/ec2-user/anaconda3/envs/python3/lib/python3.10/site-packages/sklearn/ensemble/_base.py:166: FutureWarning: `base_estimator` was renamed to `estimator` in version 1.2 and will be removed in 1.4.\n",
      "  warnings.warn(\n",
      "/home/ec2-user/anaconda3/envs/python3/lib/python3.10/site-packages/sklearn/ensemble/_base.py:166: FutureWarning: `base_estimator` was renamed to `estimator` in version 1.2 and will be removed in 1.4.\n",
      "  warnings.warn(\n",
      "/home/ec2-user/anaconda3/envs/python3/lib/python3.10/site-packages/sklearn/ensemble/_base.py:166: FutureWarning: `base_estimator` was renamed to `estimator` in version 1.2 and will be removed in 1.4.\n",
      "  warnings.warn(\n",
      "/home/ec2-user/anaconda3/envs/python3/lib/python3.10/site-packages/sklearn/ensemble/_base.py:166: FutureWarning: `base_estimator` was renamed to `estimator` in version 1.2 and will be removed in 1.4.\n",
      "  warnings.warn(\n",
      "/home/ec2-user/anaconda3/envs/python3/lib/python3.10/site-packages/sklearn/ensemble/_base.py:166: FutureWarning: `base_estimator` was renamed to `estimator` in version 1.2 and will be removed in 1.4.\n",
      "  warnings.warn(\n",
      "/home/ec2-user/anaconda3/envs/python3/lib/python3.10/site-packages/sklearn/ensemble/_base.py:166: FutureWarning: `base_estimator` was renamed to `estimator` in version 1.2 and will be removed in 1.4.\n",
      "  warnings.warn(\n",
      "/home/ec2-user/anaconda3/envs/python3/lib/python3.10/site-packages/sklearn/ensemble/_base.py:166: FutureWarning: `base_estimator` was renamed to `estimator` in version 1.2 and will be removed in 1.4.\n",
      "  warnings.warn(\n",
      "/home/ec2-user/anaconda3/envs/python3/lib/python3.10/site-packages/sklearn/ensemble/_base.py:166: FutureWarning: `base_estimator` was renamed to `estimator` in version 1.2 and will be removed in 1.4.\n",
      "  warnings.warn(\n",
      "/home/ec2-user/anaconda3/envs/python3/lib/python3.10/site-packages/sklearn/ensemble/_base.py:166: FutureWarning: `base_estimator` was renamed to `estimator` in version 1.2 and will be removed in 1.4.\n",
      "  warnings.warn(\n",
      "/home/ec2-user/anaconda3/envs/python3/lib/python3.10/site-packages/sklearn/ensemble/_base.py:166: FutureWarning: `base_estimator` was renamed to `estimator` in version 1.2 and will be removed in 1.4.\n",
      "  warnings.warn(\n",
      "/home/ec2-user/anaconda3/envs/python3/lib/python3.10/site-packages/sklearn/ensemble/_base.py:166: FutureWarning: `base_estimator` was renamed to `estimator` in version 1.2 and will be removed in 1.4.\n",
      "  warnings.warn(\n",
      "/home/ec2-user/anaconda3/envs/python3/lib/python3.10/site-packages/sklearn/ensemble/_base.py:166: FutureWarning: `base_estimator` was renamed to `estimator` in version 1.2 and will be removed in 1.4.\n",
      "  warnings.warn(\n",
      "/home/ec2-user/anaconda3/envs/python3/lib/python3.10/site-packages/sklearn/ensemble/_base.py:166: FutureWarning: `base_estimator` was renamed to `estimator` in version 1.2 and will be removed in 1.4.\n",
      "  warnings.warn(\n",
      "/home/ec2-user/anaconda3/envs/python3/lib/python3.10/site-packages/sklearn/ensemble/_base.py:166: FutureWarning: `base_estimator` was renamed to `estimator` in version 1.2 and will be removed in 1.4.\n",
      "  warnings.warn(\n",
      "/home/ec2-user/anaconda3/envs/python3/lib/python3.10/site-packages/sklearn/ensemble/_base.py:166: FutureWarning: `base_estimator` was renamed to `estimator` in version 1.2 and will be removed in 1.4.\n",
      "  warnings.warn(\n",
      "/home/ec2-user/anaconda3/envs/python3/lib/python3.10/site-packages/sklearn/ensemble/_base.py:166: FutureWarning: `base_estimator` was renamed to `estimator` in version 1.2 and will be removed in 1.4.\n",
      "  warnings.warn(\n",
      "/home/ec2-user/anaconda3/envs/python3/lib/python3.10/site-packages/sklearn/ensemble/_base.py:166: FutureWarning: `base_estimator` was renamed to `estimator` in version 1.2 and will be removed in 1.4.\n",
      "  warnings.warn(\n",
      "/home/ec2-user/anaconda3/envs/python3/lib/python3.10/site-packages/sklearn/ensemble/_base.py:166: FutureWarning: `base_estimator` was renamed to `estimator` in version 1.2 and will be removed in 1.4.\n",
      "  warnings.warn(\n",
      "/home/ec2-user/anaconda3/envs/python3/lib/python3.10/site-packages/sklearn/ensemble/_base.py:166: FutureWarning: `base_estimator` was renamed to `estimator` in version 1.2 and will be removed in 1.4.\n",
      "  warnings.warn(\n",
      "/home/ec2-user/anaconda3/envs/python3/lib/python3.10/site-packages/sklearn/ensemble/_base.py:166: FutureWarning: `base_estimator` was renamed to `estimator` in version 1.2 and will be removed in 1.4.\n",
      "  warnings.warn(\n",
      "/home/ec2-user/anaconda3/envs/python3/lib/python3.10/site-packages/sklearn/ensemble/_base.py:166: FutureWarning: `base_estimator` was renamed to `estimator` in version 1.2 and will be removed in 1.4.\n",
      "  warnings.warn(\n",
      "/home/ec2-user/anaconda3/envs/python3/lib/python3.10/site-packages/sklearn/ensemble/_base.py:166: FutureWarning: `base_estimator` was renamed to `estimator` in version 1.2 and will be removed in 1.4.\n",
      "  warnings.warn(\n",
      "/home/ec2-user/anaconda3/envs/python3/lib/python3.10/site-packages/sklearn/ensemble/_base.py:166: FutureWarning: `base_estimator` was renamed to `estimator` in version 1.2 and will be removed in 1.4.\n",
      "  warnings.warn(\n",
      "/home/ec2-user/anaconda3/envs/python3/lib/python3.10/site-packages/sklearn/ensemble/_base.py:166: FutureWarning: `base_estimator` was renamed to `estimator` in version 1.2 and will be removed in 1.4.\n",
      "  warnings.warn(\n",
      "/home/ec2-user/anaconda3/envs/python3/lib/python3.10/site-packages/sklearn/ensemble/_base.py:166: FutureWarning: `base_estimator` was renamed to `estimator` in version 1.2 and will be removed in 1.4.\n",
      "  warnings.warn(\n",
      "/home/ec2-user/anaconda3/envs/python3/lib/python3.10/site-packages/sklearn/ensemble/_base.py:166: FutureWarning: `base_estimator` was renamed to `estimator` in version 1.2 and will be removed in 1.4.\n",
      "  warnings.warn(\n",
      "/home/ec2-user/anaconda3/envs/python3/lib/python3.10/site-packages/sklearn/ensemble/_base.py:166: FutureWarning: `base_estimator` was renamed to `estimator` in version 1.2 and will be removed in 1.4.\n",
      "  warnings.warn(\n",
      "/home/ec2-user/anaconda3/envs/python3/lib/python3.10/site-packages/sklearn/ensemble/_base.py:166: FutureWarning: `base_estimator` was renamed to `estimator` in version 1.2 and will be removed in 1.4.\n",
      "  warnings.warn(\n",
      "/home/ec2-user/anaconda3/envs/python3/lib/python3.10/site-packages/sklearn/ensemble/_base.py:166: FutureWarning: `base_estimator` was renamed to `estimator` in version 1.2 and will be removed in 1.4.\n",
      "  warnings.warn(\n",
      "/home/ec2-user/anaconda3/envs/python3/lib/python3.10/site-packages/sklearn/ensemble/_base.py:166: FutureWarning: `base_estimator` was renamed to `estimator` in version 1.2 and will be removed in 1.4.\n",
      "  warnings.warn(\n",
      "/home/ec2-user/anaconda3/envs/python3/lib/python3.10/site-packages/sklearn/ensemble/_base.py:166: FutureWarning: `base_estimator` was renamed to `estimator` in version 1.2 and will be removed in 1.4.\n",
      "  warnings.warn(\n",
      "/home/ec2-user/anaconda3/envs/python3/lib/python3.10/site-packages/sklearn/ensemble/_base.py:166: FutureWarning: `base_estimator` was renamed to `estimator` in version 1.2 and will be removed in 1.4.\n",
      "  warnings.warn(\n",
      "/home/ec2-user/anaconda3/envs/python3/lib/python3.10/site-packages/sklearn/ensemble/_base.py:166: FutureWarning: `base_estimator` was renamed to `estimator` in version 1.2 and will be removed in 1.4.\n",
      "  warnings.warn(\n",
      "/home/ec2-user/anaconda3/envs/python3/lib/python3.10/site-packages/sklearn/ensemble/_base.py:166: FutureWarning: `base_estimator` was renamed to `estimator` in version 1.2 and will be removed in 1.4.\n",
      "  warnings.warn(\n",
      "/home/ec2-user/anaconda3/envs/python3/lib/python3.10/site-packages/sklearn/ensemble/_base.py:166: FutureWarning: `base_estimator` was renamed to `estimator` in version 1.2 and will be removed in 1.4.\n",
      "  warnings.warn(\n",
      "/home/ec2-user/anaconda3/envs/python3/lib/python3.10/site-packages/sklearn/ensemble/_base.py:166: FutureWarning: `base_estimator` was renamed to `estimator` in version 1.2 and will be removed in 1.4.\n",
      "  warnings.warn(\n",
      "/home/ec2-user/anaconda3/envs/python3/lib/python3.10/site-packages/sklearn/ensemble/_base.py:166: FutureWarning: `base_estimator` was renamed to `estimator` in version 1.2 and will be removed in 1.4.\n",
      "  warnings.warn(\n",
      "/home/ec2-user/anaconda3/envs/python3/lib/python3.10/site-packages/sklearn/ensemble/_base.py:166: FutureWarning: `base_estimator` was renamed to `estimator` in version 1.2 and will be removed in 1.4.\n",
      "  warnings.warn(\n",
      "/home/ec2-user/anaconda3/envs/python3/lib/python3.10/site-packages/sklearn/ensemble/_base.py:166: FutureWarning: `base_estimator` was renamed to `estimator` in version 1.2 and will be removed in 1.4.\n",
      "  warnings.warn(\n",
      "/home/ec2-user/anaconda3/envs/python3/lib/python3.10/site-packages/sklearn/ensemble/_base.py:166: FutureWarning: `base_estimator` was renamed to `estimator` in version 1.2 and will be removed in 1.4.\n",
      "  warnings.warn(\n",
      "/home/ec2-user/anaconda3/envs/python3/lib/python3.10/site-packages/sklearn/ensemble/_base.py:166: FutureWarning: `base_estimator` was renamed to `estimator` in version 1.2 and will be removed in 1.4.\n",
      "  warnings.warn(\n",
      "/home/ec2-user/anaconda3/envs/python3/lib/python3.10/site-packages/sklearn/ensemble/_base.py:166: FutureWarning: `base_estimator` was renamed to `estimator` in version 1.2 and will be removed in 1.4.\n",
      "  warnings.warn(\n",
      "/home/ec2-user/anaconda3/envs/python3/lib/python3.10/site-packages/sklearn/ensemble/_base.py:166: FutureWarning: `base_estimator` was renamed to `estimator` in version 1.2 and will be removed in 1.4.\n",
      "  warnings.warn(\n",
      "/home/ec2-user/anaconda3/envs/python3/lib/python3.10/site-packages/sklearn/ensemble/_base.py:166: FutureWarning: `base_estimator` was renamed to `estimator` in version 1.2 and will be removed in 1.4.\n",
      "  warnings.warn(\n",
      "/home/ec2-user/anaconda3/envs/python3/lib/python3.10/site-packages/sklearn/ensemble/_base.py:166: FutureWarning: `base_estimator` was renamed to `estimator` in version 1.2 and will be removed in 1.4.\n",
      "  warnings.warn(\n",
      "/home/ec2-user/anaconda3/envs/python3/lib/python3.10/site-packages/sklearn/ensemble/_base.py:166: FutureWarning: `base_estimator` was renamed to `estimator` in version 1.2 and will be removed in 1.4.\n",
      "  warnings.warn(\n",
      "/home/ec2-user/anaconda3/envs/python3/lib/python3.10/site-packages/sklearn/ensemble/_base.py:166: FutureWarning: `base_estimator` was renamed to `estimator` in version 1.2 and will be removed in 1.4.\n",
      "  warnings.warn(\n",
      "/home/ec2-user/anaconda3/envs/python3/lib/python3.10/site-packages/sklearn/ensemble/_base.py:166: FutureWarning: `base_estimator` was renamed to `estimator` in version 1.2 and will be removed in 1.4.\n",
      "  warnings.warn(\n",
      "/home/ec2-user/anaconda3/envs/python3/lib/python3.10/site-packages/sklearn/ensemble/_base.py:166: FutureWarning: `base_estimator` was renamed to `estimator` in version 1.2 and will be removed in 1.4.\n",
      "  warnings.warn(\n",
      "/home/ec2-user/anaconda3/envs/python3/lib/python3.10/site-packages/sklearn/ensemble/_base.py:166: FutureWarning: `base_estimator` was renamed to `estimator` in version 1.2 and will be removed in 1.4.\n",
      "  warnings.warn(\n",
      "/home/ec2-user/anaconda3/envs/python3/lib/python3.10/site-packages/sklearn/ensemble/_base.py:166: FutureWarning: `base_estimator` was renamed to `estimator` in version 1.2 and will be removed in 1.4.\n",
      "  warnings.warn(\n",
      "/home/ec2-user/anaconda3/envs/python3/lib/python3.10/site-packages/sklearn/ensemble/_base.py:166: FutureWarning: `base_estimator` was renamed to `estimator` in version 1.2 and will be removed in 1.4.\n",
      "  warnings.warn(\n",
      "/home/ec2-user/anaconda3/envs/python3/lib/python3.10/site-packages/sklearn/ensemble/_base.py:166: FutureWarning: `base_estimator` was renamed to `estimator` in version 1.2 and will be removed in 1.4.\n",
      "  warnings.warn(\n",
      "/home/ec2-user/anaconda3/envs/python3/lib/python3.10/site-packages/sklearn/ensemble/_base.py:166: FutureWarning: `base_estimator` was renamed to `estimator` in version 1.2 and will be removed in 1.4.\n",
      "  warnings.warn(\n",
      "/home/ec2-user/anaconda3/envs/python3/lib/python3.10/site-packages/sklearn/ensemble/_base.py:166: FutureWarning: `base_estimator` was renamed to `estimator` in version 1.2 and will be removed in 1.4.\n",
      "  warnings.warn(\n",
      "/home/ec2-user/anaconda3/envs/python3/lib/python3.10/site-packages/sklearn/ensemble/_base.py:166: FutureWarning: `base_estimator` was renamed to `estimator` in version 1.2 and will be removed in 1.4.\n",
      "  warnings.warn(\n",
      "/home/ec2-user/anaconda3/envs/python3/lib/python3.10/site-packages/sklearn/ensemble/_base.py:166: FutureWarning: `base_estimator` was renamed to `estimator` in version 1.2 and will be removed in 1.4.\n",
      "  warnings.warn(\n",
      "/home/ec2-user/anaconda3/envs/python3/lib/python3.10/site-packages/sklearn/ensemble/_base.py:166: FutureWarning: `base_estimator` was renamed to `estimator` in version 1.2 and will be removed in 1.4.\n",
      "  warnings.warn(\n",
      "/home/ec2-user/anaconda3/envs/python3/lib/python3.10/site-packages/sklearn/ensemble/_base.py:166: FutureWarning: `base_estimator` was renamed to `estimator` in version 1.2 and will be removed in 1.4.\n",
      "  warnings.warn(\n",
      "/home/ec2-user/anaconda3/envs/python3/lib/python3.10/site-packages/sklearn/ensemble/_base.py:166: FutureWarning: `base_estimator` was renamed to `estimator` in version 1.2 and will be removed in 1.4.\n",
      "  warnings.warn(\n",
      "/home/ec2-user/anaconda3/envs/python3/lib/python3.10/site-packages/sklearn/ensemble/_base.py:166: FutureWarning: `base_estimator` was renamed to `estimator` in version 1.2 and will be removed in 1.4.\n",
      "  warnings.warn(\n",
      "/home/ec2-user/anaconda3/envs/python3/lib/python3.10/site-packages/sklearn/ensemble/_base.py:166: FutureWarning: `base_estimator` was renamed to `estimator` in version 1.2 and will be removed in 1.4.\n",
      "  warnings.warn(\n",
      "/home/ec2-user/anaconda3/envs/python3/lib/python3.10/site-packages/sklearn/ensemble/_base.py:166: FutureWarning: `base_estimator` was renamed to `estimator` in version 1.2 and will be removed in 1.4.\n",
      "  warnings.warn(\n",
      "/home/ec2-user/anaconda3/envs/python3/lib/python3.10/site-packages/sklearn/ensemble/_base.py:166: FutureWarning: `base_estimator` was renamed to `estimator` in version 1.2 and will be removed in 1.4.\n",
      "  warnings.warn(\n",
      "/home/ec2-user/anaconda3/envs/python3/lib/python3.10/site-packages/sklearn/ensemble/_base.py:166: FutureWarning: `base_estimator` was renamed to `estimator` in version 1.2 and will be removed in 1.4.\n",
      "  warnings.warn(\n",
      "/home/ec2-user/anaconda3/envs/python3/lib/python3.10/site-packages/sklearn/ensemble/_base.py:166: FutureWarning: `base_estimator` was renamed to `estimator` in version 1.2 and will be removed in 1.4.\n",
      "  warnings.warn(\n",
      "/home/ec2-user/anaconda3/envs/python3/lib/python3.10/site-packages/sklearn/ensemble/_base.py:166: FutureWarning: `base_estimator` was renamed to `estimator` in version 1.2 and will be removed in 1.4.\n",
      "  warnings.warn(\n",
      "/home/ec2-user/anaconda3/envs/python3/lib/python3.10/site-packages/sklearn/ensemble/_base.py:166: FutureWarning: `base_estimator` was renamed to `estimator` in version 1.2 and will be removed in 1.4.\n",
      "  warnings.warn(\n",
      "/home/ec2-user/anaconda3/envs/python3/lib/python3.10/site-packages/sklearn/ensemble/_base.py:166: FutureWarning: `base_estimator` was renamed to `estimator` in version 1.2 and will be removed in 1.4.\n",
      "  warnings.warn(\n",
      "/home/ec2-user/anaconda3/envs/python3/lib/python3.10/site-packages/sklearn/ensemble/_base.py:166: FutureWarning: `base_estimator` was renamed to `estimator` in version 1.2 and will be removed in 1.4.\n",
      "  warnings.warn(\n",
      "/home/ec2-user/anaconda3/envs/python3/lib/python3.10/site-packages/sklearn/ensemble/_base.py:166: FutureWarning: `base_estimator` was renamed to `estimator` in version 1.2 and will be removed in 1.4.\n",
      "  warnings.warn(\n",
      "/home/ec2-user/anaconda3/envs/python3/lib/python3.10/site-packages/sklearn/ensemble/_base.py:166: FutureWarning: `base_estimator` was renamed to `estimator` in version 1.2 and will be removed in 1.4.\n",
      "  warnings.warn(\n",
      "/home/ec2-user/anaconda3/envs/python3/lib/python3.10/site-packages/sklearn/ensemble/_base.py:166: FutureWarning: `base_estimator` was renamed to `estimator` in version 1.2 and will be removed in 1.4.\n",
      "  warnings.warn(\n"
     ]
    },
    {
     "name": "stdout",
     "output_type": "stream",
     "text": [
      "Cost ada model: -10.0\n",
      "Cutoff value ada model: 0.58\n"
     ]
    }
   ],
   "source": [
    "ada_param_grid = {'n_estimators': [100, 300],\n",
    "'base_estimator__min_samples_split': [10, 15],\n",
    "'base_estimator__min_samples_leaf': [5, 7],\n",
    "'base_estimator__max_depth': [3, 5, 7],\n",
    "'learning_rate': [0.01]}\n",
    "\n",
    "ada_grid_search_1=RandomizedSearchCV(estimator= AdaBoostClassifier(base_estimator= DecisionTreeClassifier()), \n",
    "                                   param_distributions= ada_param_grid, \n",
    "                                   cv= 3, \n",
    "                                   scoring= my_score_function, \n",
    "                                   n_jobs=-1,\n",
    "                                   n_iter= 30).fit(x_training_5, y_training)\n",
    "\n",
    "#Extracting best hyperparamter combo\n",
    "ada_md= ada_grid_search_1.best_estimator_\n",
    "\n",
    "#prediciting on test and val\n",
    "ada_test_pred= ada_md.predict_proba(test_5)[:,1]\n",
    "ada_val_pred= ada_md.predict_proba(x_val_5)[:,1]"
   ]
  },
  {
   "cell_type": "code",
   "execution_count": null,
   "id": "d6e33b90-ca7b-4005-a407-f18982086c7b",
   "metadata": {},
   "outputs": [],
   "source": [
    "#best rf model\n",
    "    #{'n_estimators': 131,\n",
    "     #'min_samples_split': 12,\n",
    "     #'min_samples_leaf': 7,\n",
    "     #'max_depth': 10}"
   ]
  },
  {
   "cell_type": "code",
   "execution_count": 168,
   "id": "36750744-79fa-45ad-ad0e-66f1d1360128",
   "metadata": {
    "tags": []
   },
   "outputs": [],
   "source": [
    "#building the GradientBoosting model\n",
    "rf_md = RandomForestClassifier(max_depth = 10, min_samples_leaf = 7, min_samples_split = 12, n_estimators = 131).fit(x_training, y_training)\n",
    "\n",
    "#predicting on validation & test\n",
    "rf_val_pred = rf_md.predict_proba(x_val)[:, 1]\n",
    "rf_test_pred = rf_md.predict_proba(test)[:, 1]"
   ]
  },
  {
   "cell_type": "markdown",
   "id": "81454453-1474-4a1f-bfcd-3a37af29d52f",
   "metadata": {},
   "source": [
    "Building the enemble"
   ]
  },
  {
   "cell_type": "code",
   "execution_count": 175,
   "id": "2c5f6ccc-be24-403b-9015-88e4c1e81751",
   "metadata": {
    "tags": []
   },
   "outputs": [],
   "source": [
    "x_ensemble = pd.concat([pd.DataFrame(xgb_val_pred),pd.DataFrame(ada_val_pred), pd.DataFrame(rf_val_pred)], axis = 1)\n",
    "x_test_ensemble = pd.concat([pd.DataFrame(xgb_test_pred),pd.DataFrame(ada_test_pred), pd.DataFrame(rf_test_pred)], axis = 1)\n",
    "\n",
    "x = x_ensemble\n",
    "y = y_val\n",
    "\n",
    "class Objective:\n",
    "    def __init__(self, seed):\n",
    "        self.seed = seed\n",
    "        # self.X = X_train\n",
    "        # self.Y = Y_train\n",
    "    def __call__(self, trial):\n",
    "        ## Parameters to be evaluated\n",
    "        params = dict(n_estimators = trial.suggest_int('n_estimators', 100, 2000),\n",
    "        min_samples_split = trial.suggest_int('min_samples_split', 5, 30),\n",
    "        min_samples_leaf = trial.suggest_int('min_samples_leaf', 5, 30),\n",
    "        max_depth = trial.suggest_int('max_depth', 2, 10)\n",
    "        )\n",
    "        scores = []\n",
    "        ## Running cross validation\n",
    "        skf = StratifiedKFold(n_splits = 3, shuffle = True, random_state = self.seed)\n",
    "        \n",
    "        for train_idx, valid_idx in skf.split(x, y):\n",
    "            x_train, x_valid = x.iloc[train_idx], x.iloc[valid_idx]\n",
    "            y_train , y_valid = y.iloc[train_idx] , y.iloc[valid_idx]\n",
    "            rf_md = RandomForestClassifier(**params).fit(x_train, y_train)\n",
    "            preds_valid = rf_md.predict_proba(x_valid)[:, 1]\n",
    "            score = cost_function(y_valid, preds_valid)\n",
    "            scores.append(score)\n",
    "        return np.mean(scores)"
   ]
  },
  {
   "cell_type": "code",
   "execution_count": 177,
   "id": "d9d9dddf-75bb-4a1f-814c-17db9d63b892",
   "metadata": {
    "collapsed": true,
    "jupyter": {
     "outputs_hidden": true
    },
    "tags": []
   },
   "outputs": [
    {
     "name": "stderr",
     "output_type": "stream",
     "text": [
      "\u001b[32m[I 2023-03-29 19:46:15,958]\u001b[0m A new study created in memory with name: no-name-b16f0c02-1c8a-4c63-88bb-4235a17fa682\u001b[0m\n",
      "\u001b[32m[I 2023-03-29 19:46:17,389]\u001b[0m Trial 0 finished with value: 6.666666666666667 and parameters: {'n_estimators': 177, 'min_samples_split': 22, 'min_samples_leaf': 7, 'max_depth': 6}. Best is trial 0 with value: 6.666666666666667.\u001b[0m\n",
      "\u001b[32m[I 2023-03-29 19:46:21,054]\u001b[0m Trial 1 finished with value: -20.0 and parameters: {'n_estimators': 901, 'min_samples_split': 24, 'min_samples_leaf': 18, 'max_depth': 7}. Best is trial 0 with value: 6.666666666666667.\u001b[0m\n",
      "\u001b[32m[I 2023-03-29 19:46:21,691]\u001b[0m Trial 2 finished with value: -35.0 and parameters: {'n_estimators': 139, 'min_samples_split': 10, 'min_samples_leaf': 28, 'max_depth': 7}. Best is trial 0 with value: 6.666666666666667.\u001b[0m\n",
      "\u001b[32m[I 2023-03-29 19:46:22,685]\u001b[0m Trial 3 finished with value: -20.0 and parameters: {'n_estimators': 231, 'min_samples_split': 6, 'min_samples_leaf': 16, 'max_depth': 10}. Best is trial 0 with value: 6.666666666666667.\u001b[0m\n",
      "\u001b[32m[I 2023-03-29 19:46:29,596]\u001b[0m Trial 4 finished with value: 8.333333333333334 and parameters: {'n_estimators': 1688, 'min_samples_split': 27, 'min_samples_leaf': 5, 'max_depth': 7}. Best is trial 4 with value: 8.333333333333334.\u001b[0m\n",
      "\u001b[32m[I 2023-03-29 19:46:31,844]\u001b[0m Trial 5 finished with value: -11.666666666666666 and parameters: {'n_estimators': 552, 'min_samples_split': 13, 'min_samples_leaf': 13, 'max_depth': 10}. Best is trial 4 with value: 8.333333333333334.\u001b[0m\n",
      "\u001b[32m[I 2023-03-29 19:46:37,426]\u001b[0m Trial 6 finished with value: -20.0 and parameters: {'n_estimators': 1414, 'min_samples_split': 29, 'min_samples_leaf': 16, 'max_depth': 3}. Best is trial 4 with value: 8.333333333333334.\u001b[0m\n",
      "\u001b[32m[I 2023-03-29 19:46:38,311]\u001b[0m Trial 7 finished with value: -20.0 and parameters: {'n_estimators': 201, 'min_samples_split': 20, 'min_samples_leaf': 20, 'max_depth': 7}. Best is trial 4 with value: 8.333333333333334.\u001b[0m\n",
      "\u001b[32m[I 2023-03-29 19:46:45,531]\u001b[0m Trial 8 finished with value: 6.666666666666667 and parameters: {'n_estimators': 1814, 'min_samples_split': 15, 'min_samples_leaf': 8, 'max_depth': 3}. Best is trial 4 with value: 8.333333333333334.\u001b[0m\n",
      "\u001b[32m[I 2023-03-29 19:46:46,080]\u001b[0m Trial 9 finished with value: -20.0 and parameters: {'n_estimators': 114, 'min_samples_split': 27, 'min_samples_leaf': 17, 'max_depth': 2}. Best is trial 4 with value: 8.333333333333334.\u001b[0m\n",
      "\u001b[32m[I 2023-03-29 19:46:53,817]\u001b[0m Trial 10 finished with value: 8.333333333333334 and parameters: {'n_estimators': 1942, 'min_samples_split': 30, 'min_samples_leaf': 5, 'max_depth': 5}. Best is trial 4 with value: 8.333333333333334.\u001b[0m\n",
      "\u001b[32m[I 2023-03-29 19:47:01,517]\u001b[0m Trial 11 finished with value: 11.666666666666666 and parameters: {'n_estimators': 1941, 'min_samples_split': 30, 'min_samples_leaf': 5, 'max_depth': 5}. Best is trial 11 with value: 11.666666666666666.\u001b[0m\n",
      "\u001b[32m[I 2023-03-29 19:47:07,988]\u001b[0m Trial 12 finished with value: -6.666666666666667 and parameters: {'n_estimators': 1582, 'min_samples_split': 25, 'min_samples_leaf': 11, 'max_depth': 5}. Best is trial 11 with value: 11.666666666666666.\u001b[0m\n",
      "/home/ec2-user/anaconda3/envs/python3/lib/python3.10/site-packages/optuna/samplers/_tpe/_erf.py:132: RuntimeWarning: divide by zero encountered in true_divide\n",
      "  s = one / (x * x)\n",
      "\u001b[32m[I 2023-03-29 19:47:13,131]\u001b[0m Trial 13 finished with value: 6.666666666666667 and parameters: {'n_estimators': 1288, 'min_samples_split': 18, 'min_samples_leaf': 10, 'max_depth': 8}. Best is trial 11 with value: 11.666666666666666.\u001b[0m\n",
      "\u001b[32m[I 2023-03-29 19:47:19,829]\u001b[0m Trial 14 finished with value: -28.333333333333332 and parameters: {'n_estimators': 1679, 'min_samples_split': 30, 'min_samples_leaf': 23, 'max_depth': 5}. Best is trial 11 with value: 11.666666666666666.\u001b[0m\n",
      "\u001b[32m[I 2023-03-29 19:47:24,232]\u001b[0m Trial 15 finished with value: 8.333333333333334 and parameters: {'n_estimators': 1097, 'min_samples_split': 26, 'min_samples_leaf': 5, 'max_depth': 9}. Best is trial 11 with value: 11.666666666666666.\u001b[0m\n",
      "\u001b[32m[I 2023-03-29 19:47:32,064]\u001b[0m Trial 16 finished with value: -11.666666666666666 and parameters: {'n_estimators': 1989, 'min_samples_split': 21, 'min_samples_leaf': 12, 'max_depth': 4}. Best is trial 11 with value: 11.666666666666666.\u001b[0m\n",
      "/home/ec2-user/anaconda3/envs/python3/lib/python3.10/site-packages/optuna/samplers/_tpe/_erf.py:132: RuntimeWarning: divide by zero encountered in true_divide\n",
      "  s = one / (x * x)\n",
      "\u001b[32m[I 2023-03-29 19:47:38,701]\u001b[0m Trial 17 finished with value: 6.666666666666667 and parameters: {'n_estimators': 1578, 'min_samples_split': 27, 'min_samples_leaf': 8, 'max_depth': 6}. Best is trial 11 with value: 11.666666666666666.\u001b[0m\n",
      "\u001b[32m[I 2023-03-29 19:47:43,953]\u001b[0m Trial 18 finished with value: -35.0 and parameters: {'n_estimators': 1321, 'min_samples_split': 23, 'min_samples_leaf': 29, 'max_depth': 8}. Best is trial 11 with value: 11.666666666666666.\u001b[0m\n",
      "\u001b[32m[I 2023-03-29 19:47:47,492]\u001b[0m Trial 19 finished with value: -28.333333333333332 and parameters: {'n_estimators': 880, 'min_samples_split': 18, 'min_samples_leaf': 24, 'max_depth': 4}. Best is trial 11 with value: 11.666666666666666.\u001b[0m\n",
      "\u001b[32m[I 2023-03-29 19:47:54,799]\u001b[0m Trial 20 finished with value: -20.0 and parameters: {'n_estimators': 1809, 'min_samples_split': 28, 'min_samples_leaf': 14, 'max_depth': 8}. Best is trial 11 with value: 11.666666666666666.\u001b[0m\n",
      "/home/ec2-user/anaconda3/envs/python3/lib/python3.10/site-packages/optuna/samplers/_tpe/_erf.py:132: RuntimeWarning: divide by zero encountered in true_divide\n",
      "  s = one / (x * x)\n",
      "\u001b[32m[I 2023-03-29 19:48:02,675]\u001b[0m Trial 21 finished with value: 8.333333333333334 and parameters: {'n_estimators': 1989, 'min_samples_split': 30, 'min_samples_leaf': 6, 'max_depth': 5}. Best is trial 11 with value: 11.666666666666666.\u001b[0m\n",
      "/home/ec2-user/anaconda3/envs/python3/lib/python3.10/site-packages/optuna/samplers/_tpe/_erf.py:132: RuntimeWarning: divide by zero encountered in true_divide\n",
      "  s = one / (x * x)\n",
      "\u001b[32m[I 2023-03-29 19:48:09,834]\u001b[0m Trial 22 finished with value: 8.333333333333334 and parameters: {'n_estimators': 1781, 'min_samples_split': 30, 'min_samples_leaf': 5, 'max_depth': 4}. Best is trial 11 with value: 11.666666666666666.\u001b[0m\n",
      "/home/ec2-user/anaconda3/envs/python3/lib/python3.10/site-packages/optuna/samplers/_tpe/_erf.py:132: RuntimeWarning: divide by zero encountered in true_divide\n",
      "  s = one / (x * x)\n",
      "\u001b[32m[I 2023-03-29 19:48:17,296]\u001b[0m Trial 23 finished with value: 6.666666666666667 and parameters: {'n_estimators': 1891, 'min_samples_split': 25, 'min_samples_leaf': 9, 'max_depth': 6}. Best is trial 11 with value: 11.666666666666666.\u001b[0m\n",
      "\u001b[32m[I 2023-03-29 19:48:23,168]\u001b[0m Trial 24 finished with value: 8.333333333333334 and parameters: {'n_estimators': 1471, 'min_samples_split': 28, 'min_samples_leaf': 5, 'max_depth': 6}. Best is trial 11 with value: 11.666666666666666.\u001b[0m\n",
      "/home/ec2-user/anaconda3/envs/python3/lib/python3.10/site-packages/optuna/samplers/_tpe/_erf.py:132: RuntimeWarning: divide by zero encountered in true_divide\n",
      "  s = one / (x * x)\n",
      "\u001b[32m[I 2023-03-29 19:48:29,954]\u001b[0m Trial 25 finished with value: -1.6666666666666667 and parameters: {'n_estimators': 1667, 'min_samples_split': 26, 'min_samples_leaf': 10, 'max_depth': 5}. Best is trial 11 with value: 11.666666666666666.\u001b[0m\n",
      "\u001b[32m[I 2023-03-29 19:48:34,687]\u001b[0m Trial 26 finished with value: 11.666666666666666 and parameters: {'n_estimators': 1182, 'min_samples_split': 28, 'min_samples_leaf': 7, 'max_depth': 7}. Best is trial 11 with value: 11.666666666666666.\u001b[0m\n",
      "/home/ec2-user/anaconda3/envs/python3/lib/python3.10/site-packages/optuna/samplers/_tpe/_erf.py:132: RuntimeWarning: divide by zero encountered in true_divide\n",
      "  s = one / (x * x)\n",
      "\u001b[32m[I 2023-03-29 19:48:39,318]\u001b[0m Trial 27 finished with value: 8.333333333333334 and parameters: {'n_estimators': 1152, 'min_samples_split': 23, 'min_samples_leaf': 7, 'max_depth': 7}. Best is trial 11 with value: 11.666666666666666.\u001b[0m\n",
      "\u001b[32m[I 2023-03-29 19:48:42,897]\u001b[0m Trial 28 finished with value: -11.666666666666666 and parameters: {'n_estimators': 887, 'min_samples_split': 20, 'min_samples_leaf': 14, 'max_depth': 9}. Best is trial 11 with value: 11.666666666666666.\u001b[0m\n",
      "/home/ec2-user/anaconda3/envs/python3/lib/python3.10/site-packages/optuna/samplers/_tpe/_erf.py:132: RuntimeWarning: divide by zero encountered in true_divide\n",
      "  s = one / (x * x)\n",
      "\u001b[32m[I 2023-03-29 19:48:45,212]\u001b[0m Trial 29 finished with value: 6.666666666666667 and parameters: {'n_estimators': 560, 'min_samples_split': 22, 'min_samples_leaf': 7, 'max_depth': 7}. Best is trial 11 with value: 11.666666666666666.\u001b[0m\n"
     ]
    }
   ],
   "source": [
    "## Defining seed and number of trials\n",
    "SEED = 42\n",
    "N_TRIALS = 30\n",
    "\n",
    "# Execute an optimization\n",
    "study = optuna.create_study(direction = 'maximize')\n",
    "study.optimize(Objective(SEED), n_trials = N_TRIALS)"
   ]
  },
  {
   "cell_type": "code",
   "execution_count": 183,
   "id": "7d4a538e-29ea-41cd-9e51-2fcabc5ec18f",
   "metadata": {
    "tags": []
   },
   "outputs": [
    {
     "data": {
      "text/plain": [
       "102     0\n",
       "1444    0\n",
       "1013    0\n",
       "1674    0\n",
       "1596    1\n",
       "       ..\n",
       "249     0\n",
       "973     0\n",
       "1301    0\n",
       "67      0\n",
       "1527    0\n",
       "Name: fraud, Length: 376, dtype: int64"
      ]
     },
     "execution_count": 183,
     "metadata": {},
     "output_type": "execute_result"
    }
   ],
   "source": [
    "y_val"
   ]
  },
  {
   "cell_type": "code",
   "execution_count": 184,
   "id": "75fb2db8-4d03-4293-bcef-985de36c160a",
   "metadata": {
    "tags": []
   },
   "outputs": [
    {
     "data": {
      "text/plain": [
       "array([0, 0, 0, ..., 0, 0, 0])"
      ]
     },
     "execution_count": 184,
     "metadata": {},
     "output_type": "execute_result"
    }
   ],
   "source": [
    "rf_ens_label"
   ]
  },
  {
   "cell_type": "code",
   "execution_count": 185,
   "id": "b124c67d-a230-4063-aa4a-74bf2f0b8c44",
   "metadata": {
    "tags": []
   },
   "outputs": [
    {
     "name": "stdout",
     "output_type": "stream",
     "text": [
      "The optimal cutoff is: 0.79\n"
     ]
    }
   ],
   "source": [
    "## Building the model\n",
    "rf_ens_md = RandomForestClassifier(**study.best_trial.params).fit(x_ensemble, y_val)\n",
    "\n",
    "## Predicting on validation & test\n",
    "rf_ens_val_pred = rf_ens_md.predict_proba(x_ensemble)[:, 1]\n",
    "rf_ens_test_pred = rf_ens_md.predict_proba(x_test_ensemble)[:, 1]\n",
    "\n",
    "## Identifying the optimal cutoff\n",
    "opt_cutoff = cost_function_cutoff(y_val, rf_ens_val_pred)\n",
    "\n",
    "## Changing likelihoods to labels\n",
    "rf_ens_label = np.where(rf_ens_test_pred < opt_cutoff, 0, 1)\n",
    "\n",
    "#cm  = confusion_matrix(y, rf_ens_label)\n",
    "#print(cm)\n",
    "#print('The cost is:', -25 * x[1, 0] - 5 * x[0, 1] + 5 * x[1, 1])\n",
    "print('The optimal cutoff is:', opt_cutoff)"
   ]
  },
  {
   "cell_type": "code",
   "execution_count": 186,
   "id": "a5496656-ec87-4859-9387-2af61e6399a4",
   "metadata": {
    "tags": []
   },
   "outputs": [],
   "source": [
    "#exporting test predictions to csv file\n",
    "likelihoods = pd.DataFrame({'Likelihoods': rf_ens_test_pred})\n",
    "likelihoods.to_csv('likelihoods.csv', index = False)"
   ]
  }
 ],
 "metadata": {
  "kernelspec": {
   "display_name": "conda_python3",
   "language": "python",
   "name": "conda_python3"
  },
  "language_info": {
   "codemirror_mode": {
    "name": "ipython",
    "version": 3
   },
   "file_extension": ".py",
   "mimetype": "text/x-python",
   "name": "python",
   "nbconvert_exporter": "python",
   "pygments_lexer": "ipython3",
   "version": "3.10.8"
  }
 },
 "nbformat": 4,
 "nbformat_minor": 5
}
