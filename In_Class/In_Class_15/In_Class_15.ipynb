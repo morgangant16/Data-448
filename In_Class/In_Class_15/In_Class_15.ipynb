{
 "cells": [
  {
   "cell_type": "code",
   "execution_count": 20,
   "id": "1bef3744-7d9b-4b34-9e80-05b71ee26ddf",
   "metadata": {},
   "outputs": [
    {
     "data": {
      "text/html": [
       "<div>\n",
       "<style scoped>\n",
       "    .dataframe tbody tr th:only-of-type {\n",
       "        vertical-align: middle;\n",
       "    }\n",
       "\n",
       "    .dataframe tbody tr th {\n",
       "        vertical-align: top;\n",
       "    }\n",
       "\n",
       "    .dataframe thead th {\n",
       "        text-align: right;\n",
       "    }\n",
       "</style>\n",
       "<table border=\"1\" class=\"dataframe\">\n",
       "  <thead>\n",
       "    <tr style=\"text-align: right;\">\n",
       "      <th></th>\n",
       "      <th>satisfaction_level</th>\n",
       "      <th>last_evaluation</th>\n",
       "      <th>number_project</th>\n",
       "      <th>average_montly_hours</th>\n",
       "      <th>time_spend_company</th>\n",
       "      <th>Work_accident</th>\n",
       "      <th>left</th>\n",
       "      <th>promotion_last_5years</th>\n",
       "      <th>sales</th>\n",
       "      <th>salary</th>\n",
       "    </tr>\n",
       "  </thead>\n",
       "  <tbody>\n",
       "    <tr>\n",
       "      <th>0</th>\n",
       "      <td>0.38</td>\n",
       "      <td>0.53</td>\n",
       "      <td>2</td>\n",
       "      <td>157</td>\n",
       "      <td>3</td>\n",
       "      <td>0</td>\n",
       "      <td>1</td>\n",
       "      <td>0</td>\n",
       "      <td>sales</td>\n",
       "      <td>low</td>\n",
       "    </tr>\n",
       "    <tr>\n",
       "      <th>1</th>\n",
       "      <td>0.80</td>\n",
       "      <td>0.86</td>\n",
       "      <td>5</td>\n",
       "      <td>262</td>\n",
       "      <td>6</td>\n",
       "      <td>0</td>\n",
       "      <td>1</td>\n",
       "      <td>0</td>\n",
       "      <td>sales</td>\n",
       "      <td>medium</td>\n",
       "    </tr>\n",
       "    <tr>\n",
       "      <th>2</th>\n",
       "      <td>0.11</td>\n",
       "      <td>0.88</td>\n",
       "      <td>7</td>\n",
       "      <td>272</td>\n",
       "      <td>4</td>\n",
       "      <td>0</td>\n",
       "      <td>1</td>\n",
       "      <td>0</td>\n",
       "      <td>sales</td>\n",
       "      <td>medium</td>\n",
       "    </tr>\n",
       "    <tr>\n",
       "      <th>3</th>\n",
       "      <td>0.72</td>\n",
       "      <td>0.87</td>\n",
       "      <td>5</td>\n",
       "      <td>223</td>\n",
       "      <td>5</td>\n",
       "      <td>0</td>\n",
       "      <td>1</td>\n",
       "      <td>0</td>\n",
       "      <td>sales</td>\n",
       "      <td>low</td>\n",
       "    </tr>\n",
       "    <tr>\n",
       "      <th>4</th>\n",
       "      <td>0.37</td>\n",
       "      <td>0.52</td>\n",
       "      <td>2</td>\n",
       "      <td>159</td>\n",
       "      <td>3</td>\n",
       "      <td>0</td>\n",
       "      <td>1</td>\n",
       "      <td>0</td>\n",
       "      <td>sales</td>\n",
       "      <td>low</td>\n",
       "    </tr>\n",
       "  </tbody>\n",
       "</table>\n",
       "</div>"
      ],
      "text/plain": [
       "   satisfaction_level  last_evaluation  number_project  average_montly_hours  \\\n",
       "0                0.38             0.53               2                   157   \n",
       "1                0.80             0.86               5                   262   \n",
       "2                0.11             0.88               7                   272   \n",
       "3                0.72             0.87               5                   223   \n",
       "4                0.37             0.52               2                   159   \n",
       "\n",
       "   time_spend_company  Work_accident  left  promotion_last_5years  sales  \\\n",
       "0                   3              0     1                      0  sales   \n",
       "1                   6              0     1                      0  sales   \n",
       "2                   4              0     1                      0  sales   \n",
       "3                   5              0     1                      0  sales   \n",
       "4                   3              0     1                      0  sales   \n",
       "\n",
       "   salary  \n",
       "0     low  \n",
       "1  medium  \n",
       "2  medium  \n",
       "3     low  \n",
       "4     low  "
      ]
     },
     "execution_count": 20,
     "metadata": {},
     "output_type": "execute_result"
    }
   ],
   "source": [
    "import boto3\n",
    "import pandas as pd\n",
    "import numpy as np\n",
    "import matplotlib.pyplot as plt\n",
    "\n",
    "from sklearn.preprocessing import MinMaxScaler\n",
    "from sklearn.model_selection import train_test_split, GridSearchCV\n",
    "from sklearn.metrics import classification_report\n",
    "from sklearn.tree import DecisionTreeClassifier\n",
    "from sklearn.ensemble import RandomForestClassifier\n",
    "from sklearn.linear_model import LogisticRegression\n",
    "from precision_recall_cutoff import precision_recall_cutoff\n",
    "from sklearn.feature_selection import RFE, RFECV\n",
    "from sklearn.svm import SVR\n",
    "\n",
    "s3= boto3.resource('s3')\n",
    "bucket_name= 'morgan-gant-data448-bucket'\n",
    "bucket= s3.Bucket(bucket_name)\n",
    "\n",
    "file_key= 'turnover.csv'\n",
    "\n",
    "bucket_object= bucket.Object(file_key)\n",
    "file_object = bucket_object.get()\n",
    "file_content_stream = file_object.get('Body')\n",
    "\n",
    "#reading the datefile\n",
    "turnover = pd.read_csv(file_content_stream)\n",
    "turnover.head()"
   ]
  },
  {
   "cell_type": "code",
   "execution_count": 14,
   "id": "86fd6cd0-65f5-4244-b902-ba642b1f7e54",
   "metadata": {},
   "outputs": [],
   "source": [
    "#changing to dummy variables\n",
    "turnover= pd.concat([turnover.drop(columns=['sales', 'salary'], axis=1), pd.get_dummies(turnover[['sales', 'salary']])], axis=1)\n",
    "\n",
    "#engineering features from the decisoon tree model\n",
    "turnover['interaction_1']=np.where(((turnover['satisfaction_level'] >= .115) &\n",
    "                                   (turnover['satisfaction_level'] >= .465) &\n",
    "                                   (turnover['number_project'] > 2.5)), 1, 0)\n",
    "\n",
    "turnover['interaction_2']=np.where(((turnover['satisfaction_level'] >= .465) &\n",
    "                                   (turnover['number_project'] <=2.5) &\n",
    "                                   (turnover['last_evaluation'] <= .575)), 1, 0)\n",
    "        \n",
    "turnover['interaction3']=np.where(((turnover['satisfaction_level'] >= .465) &\n",
    "                                    (turnover['time_spend_company'] <=4.5) &\n",
    "                                    (turnover['average_montly_hours'] <=290.5)), 1,0)\n"
   ]
  },
  {
   "cell_type": "code",
   "execution_count": 15,
   "id": "d0537b98-39b3-49a4-9775-0f401a3b0780",
   "metadata": {},
   "outputs": [],
   "source": [
    "#Defining input and target variables\n",
    "x= turnover[['satisfaction_level', 'number_project', 'time_spend_company', 'interaction_1', 'interaction3']]\n",
    "y= turnover['left']\n",
    "\n",
    "#splitting the data\n",
    "x_train, x_test, y_train, y_test= train_test_split(x,y, test_size= .2, stratify= y)"
   ]
  },
  {
   "cell_type": "code",
   "execution_count": 16,
   "id": "cf10eaa8-566f-4e0b-8f45-5e4d90464d83",
   "metadata": {},
   "outputs": [],
   "source": [
    "#Scaling the data\n",
    "scaler=MinMaxScaler()\n",
    "x_train= pd.DataFrame(scaler.fit_transform(x_train), columns= x_train.columns)\n",
    "x_test= pd.DataFrame(scaler.fit_transform(x_test), columns= x_test.columns)"
   ]
  },
  {
   "cell_type": "markdown",
   "id": "41d01557-4317-4842-aad7-424dfcd8a05e",
   "metadata": {},
   "source": [
    "Random Forest"
   ]
  },
  {
   "cell_type": "code",
   "execution_count": 17,
   "id": "ca888848-641a-4548-8455-245fbae2d824",
   "metadata": {},
   "outputs": [
    {
     "data": {
      "text/plain": [
       "{'max_depth': 7,\n",
       " 'min_samples_leaf': 5,\n",
       " 'min_samples_split': 10,\n",
       " 'n_estimators': 300}"
      ]
     },
     "execution_count": 17,
     "metadata": {},
     "output_type": "execute_result"
    }
   ],
   "source": [
    "rf_param_grid = {'n_estimators': [100, 300, 500],\n",
    "'min_samples_split': [10, 15],\n",
    "'min_samples_leaf': [5, 7],\n",
    "'max_depth' : [3, 5, 7]}\n",
    "\n",
    "#runnning gridsearchCV\n",
    "rf_grid_search= GridSearchCV(estimator= RandomForestClassifier(), param_grid= rf_param_grid, cv= 5, scoring= 'f1').fit(x_train, y_train)\n",
    "    \n",
    "#Extracting best hyperparamter combo\n",
    "rf_grid_search.best_params_"
   ]
  },
  {
   "cell_type": "code",
   "execution_count": 19,
   "id": "35f9cd61-fa40-44b7-bd71-c2c1dac64d42",
   "metadata": {},
   "outputs": [
    {
     "name": "stdout",
     "output_type": "stream",
     "text": [
      "              precision    recall  f1-score   support\n",
      "\n",
      "           0       0.97      0.98      0.98      2286\n",
      "           1       0.94      0.91      0.93       714\n",
      "\n",
      "    accuracy                           0.96      3000\n",
      "   macro avg       0.96      0.95      0.95      3000\n",
      "weighted avg       0.96      0.96      0.96      3000\n",
      "\n"
     ]
    }
   ],
   "source": [
    "#building a random forest with best parameters\n",
    "rf= RandomForestClassifier(**rf_grid_search.best_params_).fit(x_train, y_train)\n",
    "\n",
    "#predicting on the test\n",
    "rf_pred= rf.predict_proba(x_test)[:,1]\n",
    "\n",
    "#changing likelyhoods to labels\n",
    "rf_label= precision_recall_cutoff(y_test, rf_pred)\n",
    "\n",
    "print(classification_report(y_test,rf_label))"
   ]
  },
  {
   "cell_type": "code",
   "execution_count": 9,
   "id": "c2d6aab1-e638-42c3-9eeb-aa93ede27b3b",
   "metadata": {},
   "outputs": [],
   "source": [
    "from sklearn.svm import SVC"
   ]
  },
  {
   "cell_type": "markdown",
   "id": "2afdc4f1-0a97-4ab3-9d15-1752f083cdf3",
   "metadata": {},
   "source": [
    "SVM"
   ]
  },
  {
   "cell_type": "code",
   "execution_count": null,
   "id": "7ef10c02-7c63-4547-8956-1628e76cc3df",
   "metadata": {
    "tags": []
   },
   "outputs": [
    {
     "data": {
      "text/plain": [
       "{'C': 10, 'gamma': 1, 'kernel': 'rbf'}"
      ]
     },
     "execution_count": 10,
     "metadata": {},
     "output_type": "execute_result"
    }
   ],
   "source": [
    "svm_param_grid = {'kernel': ['rbf', 'poly', 'sigmoid'],\n",
    "'C': [0.01, 0.1, 1, 10],\n",
    "'gamma': [0.001, 0.01, 0.1, 1]}\n",
    "\n",
    "#runnning gridsearchCV\n",
    "svm_grid_search= GridSearchCV(estimator= SVC(probability= True), param_grid= svm_param_grid, cv= 5, scoring= 'f1').fit(x_train, y_train)\n",
    "    \n",
    "#Extracting best hyperparamter combo\n",
    "svm_grid_search.best_params_"
   ]
  },
  {
   "cell_type": "code",
   "execution_count": 12,
   "id": "8940a4dd-b111-4786-b1e6-b35ef2fc195b",
   "metadata": {},
   "outputs": [
    {
     "name": "stdout",
     "output_type": "stream",
     "text": [
      "              precision    recall  f1-score   support\n",
      "\n",
      "           0       0.97      0.98      0.97      2286\n",
      "           1       0.92      0.91      0.92       714\n",
      "\n",
      "    accuracy                           0.96      3000\n",
      "   macro avg       0.95      0.94      0.95      3000\n",
      "weighted avg       0.96      0.96      0.96      3000\n",
      "\n"
     ]
    }
   ],
   "source": [
    "#building a random forest with best parameters\n",
    "svc= SVC(**svm_grid_search.best_params_, probability=True).fit(x_train, y_train)\n",
    "\n",
    "#predicting on the test\n",
    "svc_pred= svc.predict_proba(x_test)[:,1]\n",
    "\n",
    "#changing likelyhoods to labels\n",
    "svc_label= precision_recall_cutoff(y_test, svc_pred)\n",
    "\n",
    "print(classification_report(y_test, svc_label))"
   ]
  },
  {
   "cell_type": "code",
   "execution_count": null,
   "id": "77620da8-8485-49f5-be7f-7e0370fd0f8b",
   "metadata": {},
   "outputs": [],
   "source": [
    "#Based on my models and data splits, I would need to run some iterations on the both models to see which one performs the best continuously. For both models, the accuracy's, recalls and percisions are very similar."
   ]
  }
 ],
 "metadata": {
  "kernelspec": {
   "display_name": "conda_python3",
   "language": "python",
   "name": "conda_python3"
  },
  "language_info": {
   "codemirror_mode": {
    "name": "ipython",
    "version": 3
   },
   "file_extension": ".py",
   "mimetype": "text/x-python",
   "name": "python",
   "nbconvert_exporter": "python",
   "pygments_lexer": "ipython3",
   "version": "3.10.8"
  }
 },
 "nbformat": 4,
 "nbformat_minor": 5
}
