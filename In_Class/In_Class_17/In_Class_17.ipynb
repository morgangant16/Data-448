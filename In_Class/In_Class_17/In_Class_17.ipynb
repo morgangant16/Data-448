{
 "cells": [
  {
   "cell_type": "code",
   "execution_count": 1,
   "id": "75656638-d9c6-478e-a9b7-264a27104db2",
   "metadata": {
    "tags": []
   },
   "outputs": [
    {
     "name": "stdout",
     "output_type": "stream",
     "text": [
      "Looking in indexes: https://pypi.org/simple, https://pip.repos.neuron.amazonaws.com\n",
      "Requirement already satisfied: optuna in /home/ec2-user/anaconda3/envs/python3/lib/python3.10/site-packages (3.1.0)\n",
      "Requirement already satisfied: cmaes>=0.9.1 in /home/ec2-user/anaconda3/envs/python3/lib/python3.10/site-packages (from optuna) (0.9.1)\n",
      "Requirement already satisfied: colorlog in /home/ec2-user/anaconda3/envs/python3/lib/python3.10/site-packages (from optuna) (6.7.0)\n",
      "Requirement already satisfied: sqlalchemy>=1.3.0 in /home/ec2-user/anaconda3/envs/python3/lib/python3.10/site-packages (from optuna) (1.4.46)\n",
      "Requirement already satisfied: PyYAML in /home/ec2-user/anaconda3/envs/python3/lib/python3.10/site-packages (from optuna) (5.4.1)\n",
      "Requirement already satisfied: tqdm in /home/ec2-user/anaconda3/envs/python3/lib/python3.10/site-packages (from optuna) (4.64.1)\n",
      "Requirement already satisfied: numpy in /home/ec2-user/anaconda3/envs/python3/lib/python3.10/site-packages (from optuna) (1.22.3)\n",
      "Requirement already satisfied: packaging>=20.0 in /home/ec2-user/anaconda3/envs/python3/lib/python3.10/site-packages (from optuna) (21.3)\n",
      "Requirement already satisfied: alembic>=1.5.0 in /home/ec2-user/anaconda3/envs/python3/lib/python3.10/site-packages (from optuna) (1.10.2)\n",
      "Requirement already satisfied: Mako in /home/ec2-user/anaconda3/envs/python3/lib/python3.10/site-packages (from alembic>=1.5.0->optuna) (1.2.4)\n",
      "Requirement already satisfied: typing-extensions>=4 in /home/ec2-user/anaconda3/envs/python3/lib/python3.10/site-packages (from alembic>=1.5.0->optuna) (4.4.0)\n",
      "Requirement already satisfied: pyparsing!=3.0.5,>=2.0.2 in /home/ec2-user/anaconda3/envs/python3/lib/python3.10/site-packages (from packaging>=20.0->optuna) (3.0.9)\n",
      "Requirement already satisfied: greenlet!=0.4.17 in /home/ec2-user/anaconda3/envs/python3/lib/python3.10/site-packages (from sqlalchemy>=1.3.0->optuna) (2.0.1)\n",
      "Requirement already satisfied: MarkupSafe>=0.9.2 in /home/ec2-user/anaconda3/envs/python3/lib/python3.10/site-packages (from Mako->alembic>=1.5.0->optuna) (2.1.1)\n",
      "Note: you may need to restart the kernel to use updated packages.\n"
     ]
    }
   ],
   "source": [
    "pip install optuna"
   ]
  },
  {
   "cell_type": "code",
   "execution_count": 2,
   "id": "70d126f5-042b-48b1-98e8-f889f537e0c8",
   "metadata": {
    "tags": []
   },
   "outputs": [],
   "source": [
    "import boto3\n",
    "import pandas as pd\n",
    "import numpy as np\n",
    "import matplotlib.pyplot as plt\n",
    "import optuna\n",
    "\n",
    "from sklearn.preprocessing import MinMaxScaler\n",
    "from sklearn.model_selection import train_test_split, GridSearchCV, RandomizedSearchCV, StratifiedKFold\n",
    "from sklearn.metrics import classification_report, confusion_matrix\n",
    "from sklearn.tree import DecisionTreeClassifier\n",
    "from sklearn.ensemble import RandomForestClassifier, AdaBoostClassifier, GradientBoostingClassifier\n",
    "from sklearn.linear_model import LogisticRegression\n",
    "from sklearn.feature_selection import RFE, RFECV\n",
    "from sklearn.svm import SVR\n",
    "\n",
    "from cost_function import cost_function\n",
    "\n",
    "#reading in the data\n",
    "train= pd.read_csv('turnover_train.csv')\n",
    "val= pd.read_csv('turnover_val.csv')\n",
    "test= pd.read_csv('turnover_test.csv')"
   ]
  },
  {
   "cell_type": "code",
   "execution_count": 3,
   "id": "9727cab8-9018-4431-98af-63e6c71aad0f",
   "metadata": {
    "tags": []
   },
   "outputs": [],
   "source": [
    "#changing to dummy variables\n",
    "train= pd.concat([train.drop(columns=['sales', 'salary'], axis=1), pd.get_dummies(train[['sales', 'salary']])], axis=1)\n",
    "val= pd.concat([val.drop(columns=['sales', 'salary'], axis=1), pd.get_dummies(val[['sales', 'salary']])], axis=1)\n",
    "test= pd.concat([test.drop(columns=['sales', 'salary'], axis=1), pd.get_dummies(test[['sales', 'salary']])], axis=1)\n",
    "\n",
    "\n",
    "#engineering features from the decisoon tree model\n",
    "train['interaction_1']=np.where(((train['satisfaction_level'] >= .115) &\n",
    "                                   (train['satisfaction_level'] >= .465) &\n",
    "                                   (train['number_project'] > 2.5)), 1, 0)\n",
    "\n",
    "train['interaction_2']=np.where(((train['satisfaction_level'] >= .465) &\n",
    "                                   (train['number_project'] <=2.5) &\n",
    "                                   (train['last_evaluation'] <= .575)), 1, 0)\n",
    "        \n",
    "train['interaction3']=np.where(((train['satisfaction_level'] >= .465) &\n",
    "                                    (train['time_spend_company'] <=4.5) &\n",
    "                                    (train['average_montly_hours'] <=290.5)), 1,0)\n",
    "\n",
    "\n",
    "#engineering features from the decisoon tree model\n",
    "val['interaction_1']=np.where(((val['satisfaction_level'] >= .115) &\n",
    "                                   (val['satisfaction_level'] >= .465) &\n",
    "                                   (val['number_project'] > 2.5)), 1, 0)\n",
    "\n",
    "val['interaction_2']=np.where(((val['satisfaction_level'] >= .465) &\n",
    "                                   (val['number_project'] <=2.5) &\n",
    "                                   (val['last_evaluation'] <= .575)), 1, 0)\n",
    "        \n",
    "val['interaction3']=np.where(((val['satisfaction_level'] >= .465) &\n",
    "                                    (val['time_spend_company'] <=4.5) &\n",
    "                                    (val['average_montly_hours'] <=290.5)), 1,0)\n",
    "\n",
    "\n",
    "\n",
    "#engineering features from the decisoon tree model\n",
    "test['interaction_1']=np.where(((test['satisfaction_level'] >= .115) &\n",
    "                                   (test['satisfaction_level'] >= .465) &\n",
    "                                   (test['number_project'] > 2.5)), 1, 0)\n",
    "\n",
    "test['interaction_2']=np.where(((test['satisfaction_level'] >= .465) &\n",
    "                                   (test['number_project'] <=2.5) &\n",
    "                                   (test['last_evaluation'] <= .575)), 1, 0)\n",
    "        \n",
    "test['interaction3']=np.where(((test['satisfaction_level'] >= .465) &\n",
    "                                    (test['time_spend_company'] <=4.5) &\n",
    "                                    (test['average_montly_hours'] <=290.5)), 1,0)"
   ]
  },
  {
   "cell_type": "markdown",
   "id": "c085f064-fbef-474c-a168-8af668853795",
   "metadata": {},
   "source": [
    "Random Forest with Optuna"
   ]
  },
  {
   "cell_type": "code",
   "execution_count": 4,
   "id": "d280f435-a7ed-4140-875d-974f61d6fc69",
   "metadata": {
    "tags": []
   },
   "outputs": [],
   "source": [
    "x= train[['interaction3', 'interaction_1', 'satisfaction_level', 'time_spend_company', 'number_project']]\n",
    "y= train['left']\n",
    "\n",
    "         \n",
    "         \n",
    "class Objective:\n",
    "    def __init__(self, seed):\n",
    "        self.seed = seed\n",
    "        \n",
    "    def __call__(self, trial):\n",
    "    ## Parameters to be evaluated\n",
    "        params = dict(n_estimators = trial.suggest_int('n_estimators', 100, 2000),\n",
    "            min_samples_split = trial.suggest_int('min_samples_split', 5, 30),\n",
    "            min_samples_leaf = trial.suggest_int('min_samples_leaf', 5, 30),\n",
    "            max_depth = trial.suggest_int('max_depth', 2, 10)\n",
    "            )\n",
    "        score= list()\n",
    "         \n",
    "        #Running cross validation\n",
    "        skf = StratifiedKFold(n_splits = 3, shuffle = True, random_state = self.seed)\n",
    "       \n",
    "        for train_idx, valid_idx in skf.split(x, y):\n",
    "            x_train, x_valid = x.iloc[train_idx], x.iloc[valid_idx]\n",
    "            y_train , y_valid = y.iloc[train_idx] , y.iloc[valid_idx]\n",
    "         \n",
    "            rf_md = RandomForestClassifier(**params).fit(x_train, y_train)\n",
    "         \n",
    "            preds_valid = rf_md.predict_proba(x_valid)[:,1]\n",
    "            score = cost_function(y_valid, preds_valid)\n",
    "            score.append(score[0])\n",
    "         \n",
    "        return np.mean(score)"
   ]
  },
  {
   "cell_type": "code",
   "execution_count": 5,
   "id": "d0d3aa4e-acbb-447c-a559-f17842c3779f",
   "metadata": {
    "tags": []
   },
   "outputs": [
    {
     "name": "stderr",
     "output_type": "stream",
     "text": [
      "\u001b[32m[I 2023-03-25 00:54:43,352]\u001b[0m A new study created in memory with name: no-name-95b65af6-db65-4ba7-9bcc-0fc7667d441e\u001b[0m\n",
      "\u001b[32m[I 2023-03-25 00:54:55,351]\u001b[0m Trial 0 finished with value: 196333.55000000002 and parameters: {'n_estimators': 1160, 'min_samples_split': 25, 'min_samples_leaf': 21, 'max_depth': 6}. Best is trial 0 with value: 196333.55000000002.\u001b[0m\n",
      "\u001b[32m[I 2023-03-25 00:54:57,370]\u001b[0m Trial 1 finished with value: -30666.466666666664 and parameters: {'n_estimators': 247, 'min_samples_split': 24, 'min_samples_leaf': 18, 'max_depth': 2}. Best is trial 0 with value: 196333.55000000002.\u001b[0m\n",
      "\u001b[32m[I 2023-03-25 00:55:06,226]\u001b[0m Trial 2 finished with value: 202333.50333333333 and parameters: {'n_estimators': 831, 'min_samples_split': 23, 'min_samples_leaf': 5, 'max_depth': 7}. Best is trial 2 with value: 202333.50333333333.\u001b[0m\n",
      "\u001b[32m[I 2023-03-25 00:55:22,513]\u001b[0m Trial 3 finished with value: 199333.5266666667 and parameters: {'n_estimators': 1393, 'min_samples_split': 21, 'min_samples_leaf': 17, 'max_depth': 10}. Best is trial 2 with value: 202333.50333333333.\u001b[0m\n",
      "\u001b[32m[I 2023-03-25 00:55:23,901]\u001b[0m Trial 4 finished with value: 190333.53333333333 and parameters: {'n_estimators': 125, 'min_samples_split': 29, 'min_samples_leaf': 25, 'max_depth': 6}. Best is trial 2 with value: 202333.50333333333.\u001b[0m\n",
      "\u001b[32m[I 2023-03-25 00:55:37,543]\u001b[0m Trial 5 finished with value: 171333.52666666664 and parameters: {'n_estimators': 1517, 'min_samples_split': 5, 'min_samples_leaf': 23, 'max_depth': 4}. Best is trial 2 with value: 202333.50333333333.\u001b[0m\n",
      "\u001b[32m[I 2023-03-25 00:55:45,735]\u001b[0m Trial 6 finished with value: 192333.52000000002 and parameters: {'n_estimators': 819, 'min_samples_split': 23, 'min_samples_leaf': 27, 'max_depth': 6}. Best is trial 2 with value: 202333.50333333333.\u001b[0m\n",
      "\u001b[32m[I 2023-03-25 00:55:59,333]\u001b[0m Trial 7 finished with value: 173333.52 and parameters: {'n_estimators': 1482, 'min_samples_split': 28, 'min_samples_leaf': 13, 'max_depth': 4}. Best is trial 2 with value: 202333.50333333333.\u001b[0m\n",
      "\u001b[32m[I 2023-03-25 00:56:03,822]\u001b[0m Trial 8 finished with value: -30666.466666666664 and parameters: {'n_estimators': 576, 'min_samples_split': 15, 'min_samples_leaf': 14, 'max_depth': 2}. Best is trial 2 with value: 202333.50333333333.\u001b[0m\n",
      "\u001b[32m[I 2023-03-25 00:56:12,444]\u001b[0m Trial 9 finished with value: 196333.53333333333 and parameters: {'n_estimators': 780, 'min_samples_split': 17, 'min_samples_leaf': 20, 'max_depth': 9}. Best is trial 2 with value: 202333.50333333333.\u001b[0m\n",
      "\u001b[32m[I 2023-03-25 00:56:35,091]\u001b[0m Trial 10 finished with value: 203333.51 and parameters: {'n_estimators': 1997, 'min_samples_split': 11, 'min_samples_leaf': 6, 'max_depth': 8}. Best is trial 10 with value: 203333.51.\u001b[0m\n",
      "\u001b[32m[I 2023-03-25 00:56:57,647]\u001b[0m Trial 11 finished with value: 203333.52000000002 and parameters: {'n_estimators': 1992, 'min_samples_split': 10, 'min_samples_leaf': 5, 'max_depth': 8}. Best is trial 11 with value: 203333.52000000002.\u001b[0m\n",
      "/home/ec2-user/anaconda3/envs/python3/lib/python3.10/site-packages/optuna/samplers/_tpe/_erf.py:132: RuntimeWarning: divide by zero encountered in true_divide\n",
      "  s = one / (x * x)\n",
      "\u001b[32m[I 2023-03-25 00:57:20,088]\u001b[0m Trial 12 finished with value: 202333.5266666667 and parameters: {'n_estimators': 1977, 'min_samples_split': 9, 'min_samples_leaf': 5, 'max_depth': 8}. Best is trial 11 with value: 203333.52000000002.\u001b[0m\n",
      "/home/ec2-user/anaconda3/envs/python3/lib/python3.10/site-packages/optuna/samplers/_tpe/_erf.py:132: RuntimeWarning: divide by zero encountered in true_divide\n",
      "  s = one / (x * x)\n",
      "\u001b[32m[I 2023-03-25 00:57:42,249]\u001b[0m Trial 13 finished with value: 202333.50333333333 and parameters: {'n_estimators': 1988, 'min_samples_split': 11, 'min_samples_leaf': 9, 'max_depth': 8}. Best is trial 11 with value: 203333.52000000002.\u001b[0m\n",
      "/home/ec2-user/anaconda3/envs/python3/lib/python3.10/site-packages/optuna/samplers/_tpe/_erf.py:132: RuntimeWarning: divide by zero encountered in true_divide\n",
      "  s = one / (x * x)\n",
      "\u001b[32m[I 2023-03-25 00:58:04,066]\u001b[0m Trial 14 finished with value: 202333.50333333333 and parameters: {'n_estimators': 1771, 'min_samples_split': 12, 'min_samples_leaf': 9, 'max_depth': 10}. Best is trial 11 with value: 203333.52000000002.\u001b[0m\n",
      "/home/ec2-user/anaconda3/envs/python3/lib/python3.10/site-packages/optuna/samplers/_tpe/_erf.py:132: RuntimeWarning: divide by zero encountered in true_divide\n",
      "  s = one / (x * x)\n",
      "\u001b[32m[I 2023-03-25 00:58:23,574]\u001b[0m Trial 15 finished with value: 202333.50333333333 and parameters: {'n_estimators': 1711, 'min_samples_split': 6, 'min_samples_leaf': 10, 'max_depth': 9}. Best is trial 11 with value: 203333.52000000002.\u001b[0m\n",
      "/home/ec2-user/anaconda3/envs/python3/lib/python3.10/site-packages/optuna/samplers/_tpe/_erf.py:132: RuntimeWarning: divide by zero encountered in true_divide\n",
      "  s = one / (x * x)\n",
      "\u001b[32m[I 2023-03-25 00:58:37,268]\u001b[0m Trial 16 finished with value: 203333.50333333333 and parameters: {'n_estimators': 1225, 'min_samples_split': 14, 'min_samples_leaf': 7, 'max_depth': 8}. Best is trial 11 with value: 203333.52000000002.\u001b[0m\n",
      "\u001b[32m[I 2023-03-25 00:58:56,277]\u001b[0m Trial 17 finished with value: 202333.55666666664 and parameters: {'n_estimators': 1720, 'min_samples_split': 8, 'min_samples_leaf': 13, 'max_depth': 7}. Best is trial 11 with value: 203333.52000000002.\u001b[0m\n",
      "\u001b[32m[I 2023-03-25 00:59:13,117]\u001b[0m Trial 18 finished with value: 200333.54333333333 and parameters: {'n_estimators': 1783, 'min_samples_split': 11, 'min_samples_leaf': 11, 'max_depth': 5}. Best is trial 11 with value: 203333.52000000002.\u001b[0m\n",
      "\u001b[32m[I 2023-03-25 00:59:34,741]\u001b[0m Trial 19 finished with value: 188333.51 and parameters: {'n_estimators': 1991, 'min_samples_split': 19, 'min_samples_leaf': 30, 'max_depth': 9}. Best is trial 11 with value: 203333.52000000002.\u001b[0m\n"
     ]
    }
   ],
   "source": [
    "SEED= 42\n",
    "N_TRIALS= 20\n",
    "\n",
    "study= optuna.create_study(direction= 'maximize')\n",
    "study.optimize(Objective(SEED), n_trials= N_TRIALS)"
   ]
  },
  {
   "cell_type": "code",
   "execution_count": 6,
   "id": "335f4b51-8486-4fce-a401-e63357db240e",
   "metadata": {
    "tags": []
   },
   "outputs": [
    {
     "data": {
      "text/plain": [
       "{'n_estimators': 1992,\n",
       " 'min_samples_split': 10,\n",
       " 'min_samples_leaf': 5,\n",
       " 'max_depth': 8}"
      ]
     },
     "execution_count": 6,
     "metadata": {},
     "output_type": "execute_result"
    }
   ],
   "source": [
    "study.best_trial.params"
   ]
  },
  {
   "cell_type": "code",
   "execution_count": 11,
   "id": "f87d935b-b8a4-478a-b00b-65fc9695c885",
   "metadata": {
    "tags": []
   },
   "outputs": [
    {
     "name": "stdout",
     "output_type": "stream",
     "text": [
      "[[1125   18]\n",
      " [  28  329]]\n",
      "Cost of RF model: 104500\n"
     ]
    }
   ],
   "source": [
    "rf_md= RandomForestClassifier(**study.best_trial.params).fit(x,y)\n",
    "\n",
    "#predicting on val and test \n",
    "x_val= val[['interaction3', 'interaction_1', 'satisfaction_level', 'time_spend_company', 'number_project']]\n",
    "x_test= test[['interaction3', 'interaction_1', 'satisfaction_level', 'time_spend_company', 'number_project']]\n",
    "\n",
    "y_val= val['left']\n",
    "y_test= test['left']\n",
    "\n",
    "rf_val_pred= rf_md.predict_proba(x_val)[:,1]\n",
    "rf_test_pred= rf_md.predict_proba(x_test)[:,1]\n",
    "\n",
    "#identify optimal cutoff value\n",
    "opt_cutoff= cost_function(y_val, rf_val_pred)[1]\n",
    "\n",
    "#chaning likelyhoods to labels\n",
    "rf_label= np.where(rf_test_pred < opt_cutoff, 0,1)\n",
    "\n",
    "cm= confusion_matrix(y_test, rf_label)\n",
    "\n",
    "print(cm)\n",
    "print('Cost of RF model:', -1500*cm[1,0] - 1000*cm[0,1] + 500*cm[1,1])"
   ]
  }
 ],
 "metadata": {
  "kernelspec": {
   "display_name": "conda_python3",
   "language": "python",
   "name": "conda_python3"
  },
  "language_info": {
   "codemirror_mode": {
    "name": "ipython",
    "version": 3
   },
   "file_extension": ".py",
   "mimetype": "text/x-python",
   "name": "python",
   "nbconvert_exporter": "python",
   "pygments_lexer": "ipython3",
   "version": "3.10.8"
  }
 },
 "nbformat": 4,
 "nbformat_minor": 5
}
