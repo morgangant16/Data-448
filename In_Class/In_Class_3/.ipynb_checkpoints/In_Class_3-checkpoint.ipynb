{
 "cells": [
  {
   "cell_type": "code",
   "execution_count": 1,
   "id": "986d3180-770d-4507-9ade-a42c7b6574f0",
   "metadata": {},
   "outputs": [
    {
     "name": "stdout",
     "output_type": "stream",
     "text": [
      "Looking in indexes: https://pypi.org/simple, https://pip.repos.neuron.amazonaws.com\n",
      "Collecting imblearn\n",
      "  Downloading imblearn-0.0-py2.py3-none-any.whl (1.9 kB)\n",
      "Collecting imbalanced-learn\n",
      "  Downloading imbalanced_learn-0.10.1-py3-none-any.whl (226 kB)\n",
      "\u001b[2K     \u001b[90m━━━━━━━━━━━━━━━━━━━━━━━━━━━━━━━━━━━━━━\u001b[0m \u001b[32m226.0/226.0 kB\u001b[0m \u001b[31m31.3 MB/s\u001b[0m eta \u001b[36m0:00:00\u001b[0m\n",
      "\u001b[?25hRequirement already satisfied: threadpoolctl>=2.0.0 in /home/ec2-user/anaconda3/envs/python3/lib/python3.10/site-packages (from imbalanced-learn->imblearn) (3.1.0)\n",
      "Requirement already satisfied: scikit-learn>=1.0.2 in /home/ec2-user/anaconda3/envs/python3/lib/python3.10/site-packages (from imbalanced-learn->imblearn) (1.1.3)\n",
      "Requirement already satisfied: joblib>=1.1.1 in /home/ec2-user/anaconda3/envs/python3/lib/python3.10/site-packages (from imbalanced-learn->imblearn) (1.2.0)\n",
      "Requirement already satisfied: numpy>=1.17.3 in /home/ec2-user/anaconda3/envs/python3/lib/python3.10/site-packages (from imbalanced-learn->imblearn) (1.22.4)\n",
      "Requirement already satisfied: scipy>=1.3.2 in /home/ec2-user/anaconda3/envs/python3/lib/python3.10/site-packages (from imbalanced-learn->imblearn) (1.9.3)\n",
      "Installing collected packages: imbalanced-learn, imblearn\n",
      "Successfully installed imbalanced-learn-0.10.1 imblearn-0.0\n",
      "Note: you may need to restart the kernel to use updated packages.\n"
     ]
    }
   ],
   "source": [
    "pip install imblearn"
   ]
  },
  {
   "cell_type": "code",
   "execution_count": 2,
   "id": "ff617dcd-6786-41e8-b98a-192e1a4d5a4c",
   "metadata": {},
   "outputs": [
    {
     "data": {
      "text/html": [
       "<div>\n",
       "<style scoped>\n",
       "    .dataframe tbody tr th:only-of-type {\n",
       "        vertical-align: middle;\n",
       "    }\n",
       "\n",
       "    .dataframe tbody tr th {\n",
       "        vertical-align: top;\n",
       "    }\n",
       "\n",
       "    .dataframe thead th {\n",
       "        text-align: right;\n",
       "    }\n",
       "</style>\n",
       "<table border=\"1\" class=\"dataframe\">\n",
       "  <thead>\n",
       "    <tr style=\"text-align: right;\">\n",
       "      <th></th>\n",
       "      <th>Churn</th>\n",
       "      <th>AccountWeeks</th>\n",
       "      <th>ContractRenewal</th>\n",
       "      <th>DataPlan</th>\n",
       "      <th>DataUsage</th>\n",
       "      <th>CustServCalls</th>\n",
       "      <th>DayMins</th>\n",
       "      <th>DayCalls</th>\n",
       "      <th>MonthlyCharge</th>\n",
       "      <th>OverageFee</th>\n",
       "      <th>RoamMins</th>\n",
       "    </tr>\n",
       "  </thead>\n",
       "  <tbody>\n",
       "    <tr>\n",
       "      <th>0</th>\n",
       "      <td>0</td>\n",
       "      <td>128</td>\n",
       "      <td>1</td>\n",
       "      <td>1</td>\n",
       "      <td>2.7</td>\n",
       "      <td>1</td>\n",
       "      <td>265.1</td>\n",
       "      <td>110</td>\n",
       "      <td>89.0</td>\n",
       "      <td>9.87</td>\n",
       "      <td>10.0</td>\n",
       "    </tr>\n",
       "    <tr>\n",
       "      <th>1</th>\n",
       "      <td>0</td>\n",
       "      <td>107</td>\n",
       "      <td>1</td>\n",
       "      <td>1</td>\n",
       "      <td>3.7</td>\n",
       "      <td>1</td>\n",
       "      <td>161.6</td>\n",
       "      <td>123</td>\n",
       "      <td>82.0</td>\n",
       "      <td>9.78</td>\n",
       "      <td>13.7</td>\n",
       "    </tr>\n",
       "    <tr>\n",
       "      <th>2</th>\n",
       "      <td>0</td>\n",
       "      <td>137</td>\n",
       "      <td>1</td>\n",
       "      <td>0</td>\n",
       "      <td>0.0</td>\n",
       "      <td>0</td>\n",
       "      <td>243.4</td>\n",
       "      <td>114</td>\n",
       "      <td>52.0</td>\n",
       "      <td>6.06</td>\n",
       "      <td>12.2</td>\n",
       "    </tr>\n",
       "    <tr>\n",
       "      <th>3</th>\n",
       "      <td>0</td>\n",
       "      <td>84</td>\n",
       "      <td>0</td>\n",
       "      <td>0</td>\n",
       "      <td>0.0</td>\n",
       "      <td>2</td>\n",
       "      <td>299.4</td>\n",
       "      <td>71</td>\n",
       "      <td>57.0</td>\n",
       "      <td>3.10</td>\n",
       "      <td>6.6</td>\n",
       "    </tr>\n",
       "    <tr>\n",
       "      <th>4</th>\n",
       "      <td>0</td>\n",
       "      <td>75</td>\n",
       "      <td>0</td>\n",
       "      <td>0</td>\n",
       "      <td>0.0</td>\n",
       "      <td>3</td>\n",
       "      <td>166.7</td>\n",
       "      <td>113</td>\n",
       "      <td>41.0</td>\n",
       "      <td>7.42</td>\n",
       "      <td>10.1</td>\n",
       "    </tr>\n",
       "  </tbody>\n",
       "</table>\n",
       "</div>"
      ],
      "text/plain": [
       "   Churn  AccountWeeks  ContractRenewal  DataPlan  DataUsage  CustServCalls  \\\n",
       "0      0           128                1         1        2.7              1   \n",
       "1      0           107                1         1        3.7              1   \n",
       "2      0           137                1         0        0.0              0   \n",
       "3      0            84                0         0        0.0              2   \n",
       "4      0            75                0         0        0.0              3   \n",
       "\n",
       "   DayMins  DayCalls  MonthlyCharge  OverageFee  RoamMins  \n",
       "0    265.1       110           89.0        9.87      10.0  \n",
       "1    161.6       123           82.0        9.78      13.7  \n",
       "2    243.4       114           52.0        6.06      12.2  \n",
       "3    299.4        71           57.0        3.10       6.6  \n",
       "4    166.7       113           41.0        7.42      10.1  "
      ]
     },
     "execution_count": 2,
     "metadata": {},
     "output_type": "execute_result"
    }
   ],
   "source": [
    "import boto3\n",
    "import pandas as pd\n",
    "import numpy as np\n",
    "import matplotlib.pyplot as plt\n",
    "\n",
    "from sklearn.model_selection import train_test_split\n",
    "from sklearn.metrics import roc_curve, classification_report, roc_auc_score\n",
    "from sklearn.tree import DecisionTreeClassifier\n",
    "from sklearn.ensemble import RandomForestClassifier, AdaBoostClassifier\n",
    "from imblearn.over_sampling import RandomOverSampler, SMOTE\n",
    "\n",
    "s3= boto3.resource('s3')\n",
    "bucket_name= 'morgan-gant-data448-bucket'\n",
    "bucket= s3.Bucket(bucket_name)\n",
    "\n",
    "file_key= 'telecom_churn.csv'\n",
    "\n",
    "bucket_object= bucket.Object(file_key)\n",
    "file_object = bucket_object.get()\n",
    "file_content_stream = file_object.get('Body')\n",
    "\n",
    "#reading the datefile\n",
    "churn_data = pd.read_csv(file_content_stream)\n",
    "churn_data.head()"
   ]
  },
  {
   "cell_type": "code",
   "execution_count": 5,
   "id": "6aa67771-3d0b-46e9-a738-29bbf0a68cf7",
   "metadata": {},
   "outputs": [],
   "source": [
    "#Defining input and target variables\n",
    "x= churn_data[['AccountWeeks', 'ContractRenewal', 'CustServCalls', 'MonthlyCharge', 'DayMins']]\n",
    "y= churn_data['Churn']\n",
    "\n",
    "#Splitting the data\n",
    "x_train, x_test, y_train, y_test= train_test_split(x,y, test_size= .2, stratify=y)"
   ]
  },
  {
   "cell_type": "code",
   "execution_count": 7,
   "id": "dd51a23e-4b3b-4fd2-87bb-4ecd86ff5c9d",
   "metadata": {},
   "outputs": [],
   "source": [
    "#Running SMOTE\n",
    "x_SMOTE, y_SMOTE= SMOTE().fit_resample(x_train, y_train)"
   ]
  },
  {
   "cell_type": "markdown",
   "id": "c5f575aa-fc86-46b4-a32e-496422de77e7",
   "metadata": {},
   "source": [
    "Random Forest Model"
   ]
  },
  {
   "cell_type": "code",
   "execution_count": 8,
   "id": "8dff99ea-6a8c-45d1-adab-2e9cc3791d85",
   "metadata": {},
   "outputs": [
    {
     "name": "stdout",
     "output_type": "stream",
     "text": [
      "              precision    recall  f1-score   support\n",
      "\n",
      "           0       0.97      0.87      0.92       570\n",
      "           1       0.52      0.81      0.63        97\n",
      "\n",
      "    accuracy                           0.86       667\n",
      "   macro avg       0.74      0.84      0.78       667\n",
      "weighted avg       0.90      0.86      0.88       667\n",
      "\n"
     ]
    }
   ],
   "source": [
    "#Building RF model\n",
    "rf_md= RandomForestClassifier(n_estimators= 500, max_depth=3).fit(x_SMOTE, y_SMOTE)\n",
    "\n",
    "#Prediction on the test\n",
    "rf_pred= rf_md.predict_proba(x_test)[:,1]\n",
    "\n",
    "#ROC_AUC\n",
    "fpr, tpr, threshold= roc_curve(y_test, rf_pred)\n",
    "\n",
    "#Finding optimal cutoff from ROC\n",
    "rf_cutoffs= pd.DataFrame({'fpr': fpr, 'tpr': tpr, 'threshold': threshold})\n",
    "\n",
    "#Computing distance to perfect model\n",
    "rf_cutoffs['Euclidean_dist'] = np.sqrt(rf_cutoffs['fpr']**2 + (1 - rf_cutoffs['tpr'])**2)\n",
    "\n",
    "#Sorting based on distance\n",
    "rf_cutoffs= rf_cutoffs.sort_values(by= 'Euclidean_dist').reset_index(drop= True)\n",
    "\n",
    "#Changing likelyhoods to lables\n",
    "rf_pred_label = np.where(rf_pred < rf_cutoffs['threshold'][0], 0, 1)\n",
    "\n",
    "#Classification report\n",
    "print(classification_report(y_test, rf_pred_label))"
   ]
  },
  {
   "cell_type": "markdown",
   "id": "ec694294-72a5-4818-90b7-ac04d7fd704b",
   "metadata": {},
   "source": [
    "AdaBoost Model"
   ]
  },
  {
   "cell_type": "code",
   "execution_count": 9,
   "id": "10c371bb-610c-403d-8777-32e62e247d9d",
   "metadata": {},
   "outputs": [
    {
     "name": "stdout",
     "output_type": "stream",
     "text": [
      "              precision    recall  f1-score   support\n",
      "\n",
      "           0       0.96      0.90      0.93       570\n",
      "           1       0.57      0.79      0.66        97\n",
      "\n",
      "    accuracy                           0.88       667\n",
      "   macro avg       0.76      0.85      0.79       667\n",
      "weighted avg       0.90      0.88      0.89       667\n",
      "\n"
     ]
    }
   ],
   "source": [
    "#Building RF model\n",
    "ada_md= AdaBoostClassifier(base_estimator= DecisionTreeClassifier(max_depth=3), n_estimators=500, learning_rate=.01).fit(x_SMOTE, y_SMOTE)\n",
    "\n",
    "#Prediction on the test\n",
    "ada_pred= ada_md.predict_proba(x_test)[:,1]\n",
    "\n",
    "#ROC_AUC\n",
    "fpr, tpr, threshold= roc_curve(y_test, ada_pred)\n",
    "\n",
    "#Finding optimal cutoff from ROC\n",
    "ada_cutoffs= pd.DataFrame({'fpr': fpr, 'tpr': tpr, 'threshold': threshold})\n",
    "\n",
    "#Computing distance to perfect model\n",
    "ada_cutoffs['Euclidean_dist'] = np.sqrt(ada_cutoffs['fpr']**2 + (1 - ada_cutoffs['tpr'])**2)\n",
    "\n",
    "#Sorting based on distance\n",
    "ada_cutoffs= ada_cutoffs.sort_values(by= 'Euclidean_dist').reset_index(drop= True)\n",
    "\n",
    "#Changing likelyhoods to lables\n",
    "ada_pred_label = np.where(ada_pred < ada_cutoffs['threshold'][0], 0, 1)\n",
    "\n",
    "#Classification report\n",
    "print(classification_report(y_test, ada_pred_label))"
   ]
  },
  {
   "cell_type": "code",
   "execution_count": null,
   "id": "ecd265ed-0384-40b3-8d57-71e121c024d6",
   "metadata": {},
   "outputs": [],
   "source": [
    "#Based on my models and results, I would honestly say that either model would work. The recall and precisions are so close that I'd need to run \n",
    "    #iterations to really be able to see a difference between the models. I know the in-class was AdaBoost but my splits are so close that it's\n",
    "    #hard to decide between the twobased off 1 iteration!"
   ]
  }
 ],
 "metadata": {
  "kernelspec": {
   "display_name": "conda_python3",
   "language": "python",
   "name": "conda_python3"
  },
  "language_info": {
   "codemirror_mode": {
    "name": "ipython",
    "version": 3
   },
   "file_extension": ".py",
   "mimetype": "text/x-python",
   "name": "python",
   "nbconvert_exporter": "python",
   "pygments_lexer": "ipython3",
   "version": "3.10.6"
  }
 },
 "nbformat": 4,
 "nbformat_minor": 5
}
