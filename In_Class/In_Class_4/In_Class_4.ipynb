{
 "cells": [
  {
   "cell_type": "code",
   "execution_count": 2,
   "id": "41399d9e-7a98-48d7-89b5-fd093982b2af",
   "metadata": {},
   "outputs": [
    {
     "name": "stdout",
     "output_type": "stream",
     "text": [
      "Looking in indexes: https://pypi.org/simple, https://pip.repos.neuron.amazonaws.com\n",
      "Collecting imblearn\n",
      "  Downloading imblearn-0.0-py2.py3-none-any.whl (1.9 kB)\n",
      "Collecting imbalanced-learn\n",
      "  Downloading imbalanced_learn-0.10.1-py3-none-any.whl (226 kB)\n",
      "\u001b[2K     \u001b[90m━━━━━━━━━━━━━━━━━━━━━━━━━━━━━━━━━━━━━━\u001b[0m \u001b[32m226.0/226.0 kB\u001b[0m \u001b[31m16.1 MB/s\u001b[0m eta \u001b[36m0:00:00\u001b[0m\n",
      "\u001b[?25hRequirement already satisfied: threadpoolctl>=2.0.0 in /home/ec2-user/anaconda3/envs/python3/lib/python3.10/site-packages (from imbalanced-learn->imblearn) (3.1.0)\n",
      "Requirement already satisfied: numpy>=1.17.3 in /home/ec2-user/anaconda3/envs/python3/lib/python3.10/site-packages (from imbalanced-learn->imblearn) (1.22.4)\n",
      "Requirement already satisfied: scipy>=1.3.2 in /home/ec2-user/anaconda3/envs/python3/lib/python3.10/site-packages (from imbalanced-learn->imblearn) (1.9.3)\n",
      "Requirement already satisfied: scikit-learn>=1.0.2 in /home/ec2-user/anaconda3/envs/python3/lib/python3.10/site-packages (from imbalanced-learn->imblearn) (1.1.3)\n",
      "Requirement already satisfied: joblib>=1.1.1 in /home/ec2-user/anaconda3/envs/python3/lib/python3.10/site-packages (from imbalanced-learn->imblearn) (1.2.0)\n",
      "Installing collected packages: imbalanced-learn, imblearn\n",
      "Successfully installed imbalanced-learn-0.10.1 imblearn-0.0\n",
      "Note: you may need to restart the kernel to use updated packages.\n"
     ]
    }
   ],
   "source": [
    "pip install imblearn"
   ]
  },
  {
   "cell_type": "code",
   "execution_count": 1,
   "id": "1c3492d3-f5b2-4f1c-872c-9a731bec3c16",
   "metadata": {},
   "outputs": [
    {
     "ename": "ModuleNotFoundError",
     "evalue": "No module named 'imblearn'",
     "output_type": "error",
     "traceback": [
      "\u001b[0;31m---------------------------------------------------------------------------\u001b[0m",
      "\u001b[0;31mModuleNotFoundError\u001b[0m                       Traceback (most recent call last)",
      "\u001b[0;32m/tmp/ipykernel_7497/2078904515.py\u001b[0m in \u001b[0;36m<cell line: 12>\u001b[0;34m()\u001b[0m\n\u001b[1;32m     10\u001b[0m \u001b[0;32mfrom\u001b[0m \u001b[0msklearn\u001b[0m\u001b[0;34m.\u001b[0m\u001b[0mtree\u001b[0m \u001b[0;32mimport\u001b[0m \u001b[0mDecisionTreeClassifier\u001b[0m\u001b[0;34m\u001b[0m\u001b[0;34m\u001b[0m\u001b[0m\n\u001b[1;32m     11\u001b[0m \u001b[0;32mfrom\u001b[0m \u001b[0msklearn\u001b[0m\u001b[0;34m.\u001b[0m\u001b[0mensemble\u001b[0m \u001b[0;32mimport\u001b[0m \u001b[0mRandomForestClassifier\u001b[0m\u001b[0;34m,\u001b[0m \u001b[0mAdaBoostClassifier\u001b[0m\u001b[0;34m\u001b[0m\u001b[0;34m\u001b[0m\u001b[0m\n\u001b[0;32m---> 12\u001b[0;31m \u001b[0;32mfrom\u001b[0m \u001b[0mimblearn\u001b[0m\u001b[0;34m.\u001b[0m\u001b[0mover_sampling\u001b[0m \u001b[0;32mimport\u001b[0m \u001b[0mRandomOverSampler\u001b[0m\u001b[0;34m,\u001b[0m \u001b[0mSMOTE\u001b[0m\u001b[0;34m\u001b[0m\u001b[0;34m\u001b[0m\u001b[0m\n\u001b[0m\u001b[1;32m     13\u001b[0m \u001b[0;32mfrom\u001b[0m \u001b[0msklearn\u001b[0m\u001b[0;34m.\u001b[0m\u001b[0mmulticlass\u001b[0m \u001b[0;32mimport\u001b[0m \u001b[0mOneVsRestClassifier\u001b[0m\u001b[0;34m\u001b[0m\u001b[0;34m\u001b[0m\u001b[0m\n\u001b[1;32m     14\u001b[0m \u001b[0;32mfrom\u001b[0m \u001b[0msklearn\u001b[0m\u001b[0;34m.\u001b[0m\u001b[0msvm\u001b[0m \u001b[0;32mimport\u001b[0m \u001b[0mSVC\u001b[0m\u001b[0;34m\u001b[0m\u001b[0;34m\u001b[0m\u001b[0m\n",
      "\u001b[0;31mModuleNotFoundError\u001b[0m: No module named 'imblearn'"
     ]
    }
   ],
   "source": [
    "import boto3\n",
    "import pandas as pd\n",
    "import numpy as np\n",
    "import matplotlib.pyplot as plt\n",
    "\n",
    "from sklearn import svm\n",
    "from sklearn.preprocessing import MinMaxScaler\n",
    "from sklearn.model_selection import train_test_split\n",
    "from sklearn.metrics import roc_curve, classification_report, confusion_matrix\n",
    "from sklearn.tree import DecisionTreeClassifier\n",
    "from sklearn.ensemble import RandomForestClassifier, AdaBoostClassifier\n",
    "from imblearn.over_sampling import RandomOverSampler, SMOTE\n",
    "from sklearn.multiclass import OneVsRestClassifier\n",
    "from sklearn.svm import SVC\n",
    "\n",
    "s3= boto3.resource('s3')\n",
    "bucket_name= 'morgan-gant-data448-bucket'\n",
    "bucket= s3.Bucket(bucket_name)\n",
    "\n",
    "file_key= 'Iris.csv'\n",
    "\n",
    "bucket_object= bucket.Object(file_key)\n",
    "file_object = bucket_object.get()\n",
    "file_content_stream = file_object.get('Body')\n",
    "\n",
    "#reading the datefile\n",
    "iris = pd.read_csv(file_content_stream)\n",
    "iris.head()"
   ]
  },
  {
   "cell_type": "code",
   "execution_count": 7,
   "id": "a553df7b-c245-44f5-b7d2-0fd4e5ea68fd",
   "metadata": {},
   "outputs": [
    {
     "data": {
      "text/plain": [
       "Iris-setosa        50\n",
       "Iris-versicolor    50\n",
       "Iris-virginica     50\n",
       "Name: Species, dtype: int64"
      ]
     },
     "execution_count": 7,
     "metadata": {},
     "output_type": "execute_result"
    }
   ],
   "source": [
    "#Frequency Table\n",
    "iris['Species'].value_counts()"
   ]
  },
  {
   "cell_type": "code",
   "execution_count": 42,
   "id": "85e7c453-2bae-449d-a486-6cc3a478bf10",
   "metadata": {},
   "outputs": [],
   "source": [
    "#Changing labels to numbers\n",
    "iris['Species_numb']= np.where(iris['Species'] == 'Iris-virginica', 1, np.where(iris['Species'] == 'Iris-versicolor', 2, 3))"
   ]
  },
  {
   "cell_type": "code",
   "execution_count": 43,
   "id": "3eab6a53-5af3-4e56-bc13-a620622e7542",
   "metadata": {},
   "outputs": [],
   "source": [
    "#Defining input and target variables\n",
    "x = iris.drop(columns=['Id', 'Species', 'Species_numb'], axis=1)\n",
    "y= iris['Species_numb']\n",
    "\n",
    "#Splitting the data\n",
    "x_train, x_test, y_train, y_test= train_test_split(x,y, test_size= .2, stratify=y)"
   ]
  },
  {
   "cell_type": "code",
   "execution_count": 44,
   "id": "2a166fa8-9bae-4899-9228-97bf4028de6b",
   "metadata": {},
   "outputs": [],
   "source": [
    "#Scaling the data\n",
    "scaler= MinMaxScaler()\n",
    "x_train= scaler.fit_transform(x_train)\n",
    "x_test= scaler.fit_transform(x_test)"
   ]
  },
  {
   "cell_type": "markdown",
   "id": "58553edb-46d1-41fd-a09a-83b5c985bb1c",
   "metadata": {},
   "source": [
    "Random Forest"
   ]
  },
  {
   "cell_type": "code",
   "execution_count": 45,
   "id": "f768d2cc-d807-43e9-ab2b-19b80d52ae17",
   "metadata": {},
   "outputs": [
    {
     "name": "stdout",
     "output_type": "stream",
     "text": [
      "[[10  0  0]\n",
      " [ 2  8  0]\n",
      " [ 0  0 10]]\n",
      "              precision    recall  f1-score   support\n",
      "\n",
      "           1       0.83      1.00      0.91        10\n",
      "           2       1.00      0.80      0.89        10\n",
      "           3       1.00      1.00      1.00        10\n",
      "\n",
      "    accuracy                           0.93        30\n",
      "   macro avg       0.94      0.93      0.93        30\n",
      "weighted avg       0.94      0.93      0.93        30\n",
      "\n"
     ]
    }
   ],
   "source": [
    "#Building model\n",
    "one_vs_all_rf= OneVsRestClassifier(estimator= RandomForestClassifier(n_estimators=500, max_depth= 3)).fit(x_train, y_train)\n",
    "\n",
    "#Predicting on the test\n",
    "one_vs_all_rf_pred= one_vs_all_rf.predict_proba(x_test)\n",
    "one_vs_all_rf_pred= np.argmax(one_vs_all_rf_pred, axis=1)+1\n",
    "\n",
    "print(confusion_matrix(y_test, one_vs_all_rf_pred))\n",
    "print(classification_report(y_test, one_vs_all_rf_pred))"
   ]
  },
  {
   "cell_type": "markdown",
   "id": "507db121-7d16-470b-b8f8-6db43a9f7a68",
   "metadata": {},
   "source": [
    "Support Vector Machine"
   ]
  },
  {
   "cell_type": "code",
   "execution_count": 48,
   "id": "9c365513-25eb-486f-bd54-150e4e54c708",
   "metadata": {},
   "outputs": [
    {
     "name": "stdout",
     "output_type": "stream",
     "text": [
      "[[ 9  1  0]\n",
      " [ 1  9  0]\n",
      " [ 0  0 10]]\n",
      "              precision    recall  f1-score   support\n",
      "\n",
      "           1       0.90      0.90      0.90        10\n",
      "           2       0.90      0.90      0.90        10\n",
      "           3       1.00      1.00      1.00        10\n",
      "\n",
      "    accuracy                           0.93        30\n",
      "   macro avg       0.93      0.93      0.93        30\n",
      "weighted avg       0.93      0.93      0.93        30\n",
      "\n"
     ]
    }
   ],
   "source": [
    "#Building model\n",
    "one_vs_all_svm= OneVsRestClassifier(estimator= SVC(kernel='rbf', C=.1, probability=True)).fit(x_train, y_train)\n",
    "\n",
    "#Predicting on the test\n",
    "one_vs_all_svm_pred= one_vs_all_svm.predict_proba(x_test)\n",
    "one_vs_all_svm_pred= np.argmax(one_vs_all_svm_pred, axis=1) + 1\n",
    "\n",
    "print(confusion_matrix(y_test, one_vs_all_svm_pred))\n",
    "print(classification_report(y_test, one_vs_all_svm_pred))"
   ]
  },
  {
   "cell_type": "code",
   "execution_count": null,
   "id": "632c2945-a8ab-4c65-bf80-8bdadd73a761",
   "metadata": {},
   "outputs": [],
   "source": [
    "#Based on the models above, with the results were produced from the split, either model could be used to predict iris species!"
   ]
  }
 ],
 "metadata": {
  "kernelspec": {
   "display_name": "conda_python3",
   "language": "python",
   "name": "conda_python3"
  },
  "language_info": {
   "codemirror_mode": {
    "name": "ipython",
    "version": 3
   },
   "file_extension": ".py",
   "mimetype": "text/x-python",
   "name": "python",
   "nbconvert_exporter": "python",
   "pygments_lexer": "ipython3",
   "version": "3.10.6"
  }
 },
 "nbformat": 4,
 "nbformat_minor": 5
}
